{
 "cells": [
  {
   "cell_type": "markdown",
   "id": "4da9b4b0",
   "metadata": {},
   "source": [
    "Paper: https://dl.acm.org/doi/pdf/10.1145/3459930.3469560  \n",
    "Performance: https://github.com/ctgatecci/Clinical-trial-eligibility-criteria-NER  \n",
    "Code: https://github.com/uf-hobi-informatics-lab/ClinicalTransformerNER  "
   ]
  },
  {
   "cell_type": "code",
   "execution_count": 1,
   "id": "fd80553b",
   "metadata": {},
   "outputs": [],
   "source": [
    "import os\n",
    "import re\n",
    "from more_itertools import locate\n",
    "\n",
    "import spacy\n",
    "nlp = spacy.load(\"en_core_web_sm\")"
   ]
  },
  {
   "cell_type": "code",
   "execution_count": 2,
   "id": "0ab3a060",
   "metadata": {},
   "outputs": [],
   "source": [
    "Paths = {\n",
    "    'Data': './../Data/',\n",
    "    'Chia_w_scope': './../Data/chia_with_scope/',\n",
    "    'Chia_wo_scope': './../Data/chia_without_scope/',\n",
    "    'output_path': './../Data/output/'\n",
    "}"
   ]
  },
  {
   "cell_type": "code",
   "execution_count": 3,
   "id": "d5bcd10b",
   "metadata": {},
   "outputs": [
    {
     "data": {
      "text/plain": [
       "['NCT02984475_exc.ann',\n",
       " 'NCT02952378_inc.txt',\n",
       " 'NCT03058835_exc.txt',\n",
       " 'NCT02283905_exc.ann',\n",
       " 'NCT02721017_exc.txt']"
      ]
     },
     "execution_count": 3,
     "metadata": {},
     "output_type": "execute_result"
    }
   ],
   "source": [
    "os.listdir(Paths['Chia_w_scope'])[:5]"
   ]
  },
  {
   "cell_type": "code",
   "execution_count": 4,
   "id": "7e32a00c",
   "metadata": {},
   "outputs": [
    {
     "data": {
      "text/plain": [
       "1000"
      ]
     },
     "execution_count": 4,
     "metadata": {},
     "output_type": "execute_result"
    }
   ],
   "source": [
    "inputfiles = set()\n",
    "for f in os.listdir(Paths['Chia_w_scope']):\n",
    "    if f.endswith('.ann'):\n",
    "        inputfiles.add(f.split('.')[0].split('_')[0])\n",
    "# for f in os.listdir(Paths['Chia_wo_scope']):\n",
    "#     if f.endswith('.ann'):\n",
    "#         inputfiles.append(f.split('.')[0].split('_')[0])\n",
    "len(inputfiles)"
   ]
  },
  {
   "cell_type": "code",
   "execution_count": 5,
   "id": "6543056d",
   "metadata": {},
   "outputs": [],
   "source": [
    "entity_types = ['Condition', 'Drug', 'Procedure', 'Measurement', 'Observation', 'Person', 'Device', \\\n",
    "    'Value', 'Temporal', 'Qualifier', 'Negation'] # Database Columns for which we want the relationship\n",
    "\n",
    "# Other domains worth checking\n",
    "# Mood\n",
    "\n",
    "relation_type = ['OR', 'AND', 'Has_qualifier', 'Has_value', 'Has_negation', 'Has_temporal', 'Has_context']\n",
    "\n",
    "# Has_scope, Subsumes, multi, Has_index"
   ]
  },
  {
   "cell_type": "code",
   "execution_count": 7,
   "id": "60cfecdb",
   "metadata": {},
   "outputs": [
    {
     "data": {
      "text/plain": [
       "('./../Data/chia_with_scope/NCT01320579_exc.ann',\n",
       " './../Data/chia_with_scope/NCT01320579_exc.txt')"
      ]
     },
     "execution_count": 7,
     "metadata": {},
     "output_type": "execute_result"
    }
   ],
   "source": [
    "# ann = Paths['Chia_w_scope'] + 'NCT02348918_inc.ann'\n",
    "# txt = Paths['Chia_w_scope'] + 'NCT02348918_inc.txt'\n",
    "ann = Paths['Chia_w_scope'] + 'NCT01320579_exc.ann'\n",
    "txt = Paths['Chia_w_scope'] + 'NCT01320579_exc.txt'\n",
    "\n",
    "# ann = Paths['Chia_w_scope'] + 'NCT00050349_inc.ann'\n",
    "ann, txt"
   ]
  },
  {
   "cell_type": "code",
   "execution_count": 8,
   "id": "d1f69720",
   "metadata": {},
   "outputs": [
    {
     "name": "stdout",
     "output_type": "stream",
     "text": [
      "Starting and Ending Indices are off.\n"
     ]
    },
    {
     "data": {
      "text/plain": [
       "[('T3', 0, 7, 'Observation', 'History'),\n",
       " ('T2', 17, 28, 'Qualifier', 'significant'),\n",
       " ('T1', 29, 41, 'Condition', 'skin disease'),\n",
       " ('T6', 46, 65, 'Condition', 'skin manifestations'),\n",
       " ('T4', 69, 85, 'Condition', 'allergic illness'),\n",
       " ('T5', 95, 117, 'Condition', 'dermatologic condition'),\n",
       " ('T13', 119, 125, 'Negation', 'except'),\n",
       " ('T10', 126, 142, 'Qualifier', 'chronic moderate'),\n",
       " ('T9', 146, 152, 'Qualifier', 'severe'),\n",
       " ('T8', 153, 170, 'Condition', 'atopic dermatitis'),\n",
       " ('T14', 327, 340, 'Condition', 'skin diseases'),\n",
       " ('T16', 342, 348, 'Negation', 'except'),\n",
       " ('T15', 349, 374, 'Condition', 'chronic atopic dermatitis'),\n",
       " ('T17',\n",
       "  381,\n",
       "  442,\n",
       "  'Qualifier',\n",
       "  'could disturb the study assessment and evaluation of the skin'),\n",
       " ('T22', 463, 469, 'Temporal', 'active'),\n",
       " ('T21', 470, 489, 'Drug', 'systemic medication'),\n",
       " ('T19', 494, 519, 'Condition', 'chronic atopic dermatitis'),\n",
       " ('T20', 520, 536, 'Temporal', 'within one month'),\n",
       " ('T26', 553, 559, 'Temporal', 'active'),\n",
       " ('T25', 560, 578, 'Drug', 'topical medication'),\n",
       " ('T23', 619, 644, 'Condition', 'chronic atopic dermatitis'),\n",
       " ('T24', 645, 661, 'Temporal', 'within two weeks'),\n",
       " ('T27', 676, 689, 'Observation', 'sunny holiday'),\n",
       " ('T28', 691, 707, 'Procedure', 'UV-light therapy'),\n",
       " ('T29', 711, 723, 'Observation', 'solarium use'),\n",
       " ('T30',\n",
       "  724,\n",
       "  777,\n",
       "  'Temporal',\n",
       "  'within one month before beginning of study treatments'),\n",
       " ('T32', 782, 790, 'Observation', 'planning'),\n",
       " ('T33', 796, 812, 'Temporal', 'during the study'),\n",
       " ('T34', 816, 845, 'Temporal', 'within 7 days after the study'),\n",
       " ('T37', 847, 854, 'Condition', 'Allergy'),\n",
       " ('T39', 858, 865, 'Drug', 'cis-UCA'),\n",
       " ('T40', 894, 916, 'Drug', 'placebo emulsion cream'),\n",
       " ('T38', 940, 958, 'Drug', 'Protopic® ointment'),\n",
       " ('T43', 960, 967, 'Observation', 'History'),\n",
       " ('T42', 975, 994, 'Condition', 'skin-related cancer'),\n",
       " ('T45', 1019, 1006, 'Condition', 'immunodeficiency Congenital'),\n",
       " ('T44', 1010, 1035, 'Condition', 'acquired immunodeficiency'),\n",
       " ('T49', 1039, 1046, 'Temporal', 'ongoing'),\n",
       " ('T46', 1047, 1083, 'Procedure', 'therapy that cause immunosuppression'),\n",
       " ('T47', 1055, 1083, 'Qualifier', 'that cause immunosuppression'),\n",
       " ('T48', 1066, 1083, 'Condition', 'immunosuppression'),\n",
       " ('T51', 1155, 1177, 'Qualifier', 'clinically significant'),\n",
       " ('T52', 1178, 1193, 'Procedure', 'laboratory test'),\n",
       " ('T57', 1202, 1211, 'Observation', 'Suspected'),\n",
       " ('T58', 1212, 1219, 'Temporal', 'current'),\n",
       " ('T55', 1228, 1241, 'Condition', 'alcohol abuse'),\n",
       " ('T56', 1220, 1241, 'Condition', 'drug abuse'),\n",
       " ('T63', 1243, 1265, 'Qualifier', 'Clinically significant'),\n",
       " ('T62', 1266, 1273, 'Condition', 'illness'),\n",
       " ('T60',\n",
       "  1274,\n",
       "  1331,\n",
       "  'Temporal',\n",
       "  'during the 4 weeks prior to the first dose administration')]"
      ]
     },
     "execution_count": 8,
     "metadata": {},
     "output_type": "execute_result"
    }
   ],
   "source": [
    "def get_annotation_entities(ann_file, entity_types=None):\n",
    "    entities = []\n",
    "    with open(ann_file, \"r\", encoding=\"utf-8\") as f:\n",
    "        for line in f:\n",
    "            if line.startswith('T'):\n",
    "                assert len(line.strip().split('\\t')) == 3\n",
    "                entity_identity = line.strip().split('\\t')[0]\n",
    "                entity_token = line.strip().split('\\t')[-1]\n",
    "                term = line.strip().split('\\t')[1].split()\n",
    "                if (entity_types != None) and (term[0] not in entity_types): continue\n",
    "                if int(term[-1]) <= int(term[1]): print('Starting and Ending Indices are off.')\n",
    "                entities.append((entity_identity, int(term[1]), int(term[-1]), term[0], entity_token))\n",
    "                \n",
    "    return sorted(entities, key=lambda x: (x[2]))\n",
    "\n",
    "sorted_entities= get_annotation_entities(ann, entity_types)\n",
    "sorted_entities"
   ]
  },
  {
   "cell_type": "code",
   "execution_count": 9,
   "id": "c9b848f5",
   "metadata": {},
   "outputs": [
    {
     "data": {
      "text/plain": [
       "[('T1', 0, 4, 'Person', 'Male'),\n",
       " ('T2', 8, 14, 'Person', 'female'),\n",
       " ('T4', 28, 31, 'Person', 'age'),\n",
       " ('T3', 16, 40, 'Value', '18 years or older'),\n",
       " ('T6', 57, 79, 'Qualifier', 'clinically significant'),\n",
       " ('T5', 80, 108, 'Condition', 'diabetic macular edema (DME)'),\n",
       " ('T7', 114, 140, 'Measurement', 'central subfield thickness'),\n",
       " ('T8', 141, 148, 'Value', '≥ 350µm'),\n",
       " ('T9', 152, 171, 'Procedure', 'spectral domain OCT'),\n",
       " ('T10', 172, 207, 'Measurement', 'Best corrected visual acuity (BCVA)'),\n",
       " ('T11', 211, 243, 'Value', '20/50 to 20/320 ETDRS equivalent'),\n",
       " ('T12', 245, 269, 'Value', '65 letters to 23 letters'),\n",
       " ('T13', 271, 287, 'Qualifier', 'in the study eye'),\n",
       " ('T15', 340, 355, 'Observation', 'Treatment naïve'),\n",
       " ('T16', 363, 365, 'Negation', 'no'),\n",
       " ('T17', 366, 374, 'Temporal', 'previous'),\n",
       " ('T18', 375, 394, 'Procedure', 'anti-VEGF treatment'),\n",
       " ('T19', 395, 411, 'Qualifier', 'in the study eye'),\n",
       " ('T20', 415, 417, 'Negation', 'no'),\n",
       " ('T21', 418, 437, 'Procedure', 'anti-VEGF treatment'),\n",
       " ('T22', 438, 478, 'Temporal', 'in the 45 days prior to study enrollment'),\n",
       " ('T26', 533, 544, 'Qualifier', 'significant'),\n",
       " ('T27', 545, 563, 'Condition', 'intraretinal fluid'),\n",
       " ('T28', 564, 589, 'Qualifier', 'with room for improvement'),\n",
       " ('T30', 598, 611, 'Condition', 'macular edema'),\n",
       " ('T31', 616, 620, 'Condition', 'BCVA'),\n",
       " ('T33', 622, 649, 'Measurement', 'Intra-Ocular Pressure (IOP)'),\n",
       " ('T34', 653, 666, 'Value', 'under control'),\n",
       " ('T35', 674, 677, 'Measurement', 'IOP'),\n",
       " ('T36', 678, 685, 'Value', '≤ 25 mm'),\n",
       " ('T37', 686, 702, 'Qualifier', 'in the study eye'),\n",
       " ('T40', 708, 717, 'Qualifier', 'study eye'),\n",
       " ('T39', 721, 724, 'Negation', 'not'),\n",
       " ('T38', 739, 757, 'Drug', 'IOP lowering drops')]"
      ]
     },
     "execution_count": 9,
     "metadata": {},
     "output_type": "execute_result"
    }
   ],
   "source": [
    "def remove_overlap_entities(sorted_entities):\n",
    "#     keep_entities = []\n",
    "#     for idx, entity in enumerate(sorted_entities):\n",
    "#         if idx == 0:\n",
    "#             keep_entities.append(entity)\n",
    "#             last_keep = entity\n",
    "#             continue\n",
    "#         if entity[1] < last_keep[2]:\n",
    "#             if entity[2]-entity[1] > last_keep[2]-last_keep[1]:\n",
    "#                 last_keep = entity\n",
    "#                 keep_entities[-1] = last_keep\n",
    "#         elif entity[1] == last_keep[2]:\n",
    "#             last_keep = (last_keep[1], entity[2], last_keep[-1])\n",
    "#             keep_entities[-1] = last_keep\n",
    "#         else:\n",
    "#             last_keep = entity\n",
    "#             keep_entities.append(entity)\n",
    "    \n",
    "    keep_entities = sorted_entities\n",
    "    \n",
    "    uniqueEntity = []        \n",
    "    for ent in keep_entities:\n",
    "        uniqueEntity.append(ent[0])\n",
    "        \n",
    "    return keep_entities, uniqueEntity\n",
    "\n",
    "keep_entities, uniqueEntity = remove_overlap_entities(sorted_entities)\n",
    "keep_entities"
   ]
  },
  {
   "cell_type": "code",
   "execution_count": 10,
   "id": "46fe8f0b",
   "metadata": {},
   "outputs": [
    {
     "data": {
      "text/plain": [
       "[('*', 'OR', 'T1 T2'),\n",
       " ('R1', 'Has_value', 'T4 T3'),\n",
       " ('R2', 'Has_qualifier', 'T5 T6'),\n",
       " ('R3', 'AND', 'T9 T7'),\n",
       " ('R4', 'Has_value', 'T7 T8'),\n",
       " ('R5', 'AND', 'T5 T9'),\n",
       " ('R7', 'Has_qualifier', 'T10 T13'),\n",
       " ('R8', 'Has_value', 'T10 T11'),\n",
       " ('R9', 'Has_qualifier', 'T18 T19'),\n",
       " ('R10', 'Has_temporal', 'T18 T17'),\n",
       " ('R11', 'Has_negation', 'T18 T16'),\n",
       " ('R13', 'Has_temporal', 'T21 T22'),\n",
       " ('R14', 'Has_negation', 'T21 T20'),\n",
       " ('*', 'OR', 'T21 T18'),\n",
       " ('R17', 'Has_qualifier', 'T27 T26'),\n",
       " ('R18', 'Has_qualifier', 'T27 T28'),\n",
       " ('R20', 'Has_value', 'T35 T36'),\n",
       " ('R21', 'Has_qualifier', 'T35 T37'),\n",
       " ('R22', 'Has_value', 'T33 T34'),\n",
       " ('R23', 'Has_negation', 'T38 T39'),\n",
       " ('R24', 'Has_qualifier', 'T38 T40')]"
      ]
     },
     "execution_count": 10,
     "metadata": {},
     "output_type": "execute_result"
    }
   ],
   "source": [
    "def checkEntityValue(e):\n",
    "    if e.startswith('T'):\n",
    "        return e.strip()\n",
    "    else:\n",
    "        return e.split(':')[-1].strip()\n",
    "\n",
    "\n",
    "# https://datagy.io/python-list-find-all-index/\n",
    "def get_annotation_relations(ann_file, uniqueEntity):\n",
    "    relations = []\n",
    "    with open(ann_file, \"r\", encoding=\"utf-8\") as f:\n",
    "        for line in f:\n",
    "            if line.startswith('R') or line.startswith('*'):\n",
    "                assert len(line.strip().split('\\t')) == 2\n",
    "                \n",
    "                if line.strip().split('\\t')[1].split()[0] not in relation_type: continue\n",
    "                \n",
    "                rel = line.strip().split('\\t')[0]\n",
    "                rel_type = line.strip().split('\\t')[1].split()[0]\n",
    "                entities = line.strip().split('\\t')[1].split()[1:]\n",
    "                entities= [checkEntityValue(e) for e in entities]\n",
    "                if (entities[0] not in uniqueEntity) or (entities[1] not in uniqueEntity): continue           \n",
    "                entities = ' '.join(entities)\n",
    "                relations.append((rel, rel_type, entities))\n",
    "                \n",
    "    return relations\n",
    "get_annotation_relations(ann, uniqueEntity)"
   ]
  },
  {
   "cell_type": "code",
   "execution_count": 11,
   "id": "90c7f65f",
   "metadata": {},
   "outputs": [
    {
     "data": {
      "text/plain": [
       "\"Male or female, 18 years of age or older.  Study eye with clinically significant diabetic macular edema (DME) with central subfield thickness ≥ 350µm on spectral domain OCT  Best corrected visual acuity (BCVA) of 20/50 to 20/320 ETDRS equivalent (65 letters to 23 letters) in the study eye, with BCVA decrement primarily attributable to DME.  Treatment naïve, i.e., no previous anti-VEGF treatment in the study eye or no anti-VEGF treatment in the 45 days prior to study enrollment.  In the investigator's opinion, the subject still has significant intraretinal fluid with room for improvement in both macular edema and BCVA.  Intra-Ocular Pressure (IOP) is under control (i.e., IOP ≤ 25 mm in the study eye) and study eye is not receiving any IOP lowering drops.  Willing and able to return for all study visits.  Able to meet the extensive post-op evaluation regimen.  Understands and signs the informed consent form.\""
      ]
     },
     "execution_count": 11,
     "metadata": {},
     "output_type": "execute_result"
    }
   ],
   "source": [
    "with open(txt, \"r\", encoding=\"utf-8\") as f:\n",
    "        text_array = f.readlines()\n",
    "        file = 'NCT02348918'\n",
    "        if file in ['NCT02348918_exc', 'NCT02348918_inc', 'NCT01735955_exc']: # Inconsistent offsets\n",
    "            text = ' '.join([i.strip() for i in text_array])\n",
    "        else:\n",
    "            text = '  '.join([i.strip() for i in text_array])\n",
    "            \n",
    "text"
   ]
  },
  {
   "cell_type": "code",
   "execution_count": 12,
   "id": "5c4208d1",
   "metadata": {},
   "outputs": [],
   "source": [
    "def removePunctuation(word):\n",
    "    word = re.sub(r'^(\\.|,|\\(|\\))', '', word)\n",
    "    word = re.sub(r'(\\.|,|\\(|\\))$', '', word)\n",
    "    return word"
   ]
  },
  {
   "cell_type": "code",
   "execution_count": 13,
   "id": "a3b9d202",
   "metadata": {},
   "outputs": [
    {
     "data": {
      "text/plain": [
       "[(['Male', 'or', 'female', '18', 'years', 'of', 'age', 'or', 'older'], 0, 42),\n",
       " (['Study',\n",
       "   'eye',\n",
       "   'with',\n",
       "   'clinically',\n",
       "   'significant',\n",
       "   'diabetic',\n",
       "   'macular',\n",
       "   'edema',\n",
       "   'DME',\n",
       "   'with',\n",
       "   'central',\n",
       "   'subfield',\n",
       "   'thickness',\n",
       "   '≥',\n",
       "   '350µm',\n",
       "   'on',\n",
       "   'spectral',\n",
       "   'domain',\n",
       "   'OCT'],\n",
       "  42,\n",
       "  172),\n",
       " (['Best',\n",
       "   'corrected',\n",
       "   'visual',\n",
       "   'acuity',\n",
       "   'BCVA',\n",
       "   'of',\n",
       "   '20/50',\n",
       "   'to',\n",
       "   '20/320',\n",
       "   'ETDRS',\n",
       "   'equivalent',\n",
       "   '65',\n",
       "   'letters',\n",
       "   'to',\n",
       "   '23',\n",
       "   'letters',\n",
       "   'in',\n",
       "   'the',\n",
       "   'study',\n",
       "   'eye',\n",
       "   'with',\n",
       "   'BCVA',\n",
       "   'decrement',\n",
       "   'primarily',\n",
       "   'attributable',\n",
       "   'to',\n",
       "   'DME'],\n",
       "  172,\n",
       "  340),\n",
       " (['Treatment',\n",
       "   'naïve',\n",
       "   'i.e.',\n",
       "   'no',\n",
       "   'previous',\n",
       "   'anti-VEGF',\n",
       "   'treatment',\n",
       "   'in',\n",
       "   'the',\n",
       "   'study',\n",
       "   'eye',\n",
       "   'or',\n",
       "   'no',\n",
       "   'anti-VEGF',\n",
       "   'treatment',\n",
       "   'in',\n",
       "   'the',\n",
       "   '45',\n",
       "   'days',\n",
       "   'prior',\n",
       "   'to',\n",
       "   'study',\n",
       "   'enrollment'],\n",
       "  340,\n",
       "  480),\n",
       " (['In',\n",
       "   'the',\n",
       "   \"investigator's\",\n",
       "   'opinion',\n",
       "   'the',\n",
       "   'subject',\n",
       "   'still',\n",
       "   'has',\n",
       "   'significant',\n",
       "   'intraretinal',\n",
       "   'fluid',\n",
       "   'with',\n",
       "   'room',\n",
       "   'for',\n",
       "   'improvement',\n",
       "   'in',\n",
       "   'both',\n",
       "   'macular',\n",
       "   'edema',\n",
       "   'and',\n",
       "   'BCVA'],\n",
       "  480,\n",
       "  622),\n",
       " (['Intra-Ocular',\n",
       "   'Pressure',\n",
       "   'IOP',\n",
       "   'is',\n",
       "   'under',\n",
       "   'control',\n",
       "   'i.e.',\n",
       "   'IOP',\n",
       "   '≤',\n",
       "   '25',\n",
       "   'mm',\n",
       "   'in',\n",
       "   'the',\n",
       "   'study',\n",
       "   'eye',\n",
       "   'and',\n",
       "   'study',\n",
       "   'eye',\n",
       "   'is',\n",
       "   'not',\n",
       "   'receiving',\n",
       "   'any',\n",
       "   'IOP',\n",
       "   'lowering',\n",
       "   'drops'],\n",
       "  622,\n",
       "  759),\n",
       " (['Willing', 'and', 'able', 'to', 'return', 'for', 'all', 'study', 'visits'],\n",
       "  759,\n",
       "  808),\n",
       " (['Able',\n",
       "   'to',\n",
       "   'meet',\n",
       "   'the',\n",
       "   'extensive',\n",
       "   'post-op',\n",
       "   'evaluation',\n",
       "   'regimen'],\n",
       "  808,\n",
       "  863),\n",
       " (['Understands', 'and', 'signs', 'the', 'informed', 'consent', 'form'],\n",
       "  863,\n",
       "  912)]"
      ]
     },
     "execution_count": 13,
     "metadata": {},
     "output_type": "execute_result"
    }
   ],
   "source": [
    "globalText = []\n",
    "offset = 0\n",
    "for txt in text_array:\n",
    "    textlen = len(txt)\n",
    "    txt = txt.replace('.\\n','')\n",
    "    txt = txt.replace('\\n', '')  \n",
    "    \n",
    "    globalText.append(([removePunctuation(w) for w in txt.split()], offset, offset + textlen)) \n",
    "    offset += textlen\n",
    "\n",
    "globalText  "
   ]
  },
  {
   "cell_type": "code",
   "execution_count": 33,
   "id": "b92b13b6",
   "metadata": {},
   "outputs": [
    {
     "name": "stdout",
     "output_type": "stream",
     "text": [
      "['Male', 'or', 'female', '18', 'years', 'of', 'age', 'or', 'older']\n",
      "['Person', 'O', 'Person', 'B-Value', 'I-Value', 'O', 'Person', 'I-Value', 'I-Value']\n",
      "['T1', 'O', 'T2', 'T3', 'T3', 'O', 'T4', 'T3', 'T3']\n",
      "--------------------\n",
      "['Study', 'eye', 'with', 'clinically', 'significant', 'diabetic', 'macular', 'edema', 'DME', 'with', 'central', 'subfield', 'thickness', '≥', '350µm', 'on', 'spectral', 'domain', 'OCT']\n",
      "['O', 'O', 'O', 'B-Qualifier', 'I-Qualifier', 'B-Condition', 'I-Condition', 'I-Condition', 'I-Condition', 'O', 'B-Measurement', 'I-Measurement', 'I-Measurement', 'B-Value', 'I-Value', 'O', 'B-Procedure', 'I-Procedure', 'I-Procedure']\n",
      "['O', 'O', 'O', 'T6', 'T6', 'T5', 'T5', 'T5', 'T5', 'O', 'T7', 'T7', 'T7', 'T8', 'T8', 'O', 'T9', 'T9', 'T9']\n",
      "--------------------\n",
      "['Best', 'corrected', 'visual', 'acuity', 'BCVA', 'of', '20/50', 'to', '20/320', 'ETDRS', 'equivalent', '65', 'letters', 'to', '23', 'letters', 'in', 'the', 'study', 'eye', 'with', 'BCVA', 'decrement', 'primarily', 'attributable', 'to', 'DME']\n",
      "['B-Measurement', 'I-Measurement', 'I-Measurement', 'I-Measurement', 'I-Measurement', 'O', 'B-Value', 'I-Value', 'I-Value', 'I-Value', 'I-Value', 'B-Value', 'I-Value', 'I-Value', 'I-Value', 'I-Value', 'B-Qualifier', 'I-Qualifier', 'I-Qualifier', 'I-Qualifier', 'O', 'O', 'O', 'O', 'O', 'O', 'O']\n",
      "['T10', 'T10', 'T10', 'T10', 'T10', 'O', 'T11', 'T11', 'T11', 'T11', 'T11', 'T12', 'T12', 'T12', 'T12', 'T12', 'T13', 'T13', 'T13', 'T13', 'O', 'O', 'O', 'O', 'O', 'O', 'O']\n",
      "--------------------\n",
      "['Treatment', 'naïve', 'i.e.', 'no', 'previous', 'anti-VEGF', 'treatment', 'in', 'the', 'study', 'eye', 'or', 'no', 'anti-VEGF', 'treatment', 'in', 'the', '45', 'days', 'prior', 'to', 'study', 'enrollment']\n",
      "['B-Observation', 'I-Observation', 'O', 'Negation', 'Temporal', 'B-Procedure', 'I-Procedure', 'B-Qualifier', 'I-Qualifier', 'I-Qualifier', 'I-Qualifier', 'O', 'Negation', 'B-Procedure', 'I-Procedure', 'B-Temporal', 'I-Temporal', 'I-Temporal', 'I-Temporal', 'I-Temporal', 'I-Temporal', 'I-Temporal', 'I-Temporal']\n",
      "['T15', 'T15', 'O', 'T16', 'T17', 'T18', 'T18', 'T19', 'T19', 'T19', 'T19', 'O', 'T20', 'T21', 'T21', 'T22', 'T22', 'T22', 'T22', 'T22', 'T22', 'T22', 'T22']\n",
      "--------------------\n",
      "['In', 'the', \"investigator's\", 'opinion', 'the', 'subject', 'still', 'has', 'significant', 'intraretinal', 'fluid', 'with', 'room', 'for', 'improvement', 'in', 'both', 'macular', 'edema', 'and', 'BCVA']\n",
      "['O', 'O', 'O', 'O', 'O', 'O', 'O', 'O', 'Qualifier', 'B-Condition', 'I-Condition', 'B-Qualifier', 'I-Qualifier', 'I-Qualifier', 'I-Qualifier', 'O', 'O', 'B-Condition', 'I-Condition', 'O', 'Condition']\n",
      "['O', 'O', 'O', 'O', 'O', 'O', 'O', 'O', 'T26', 'T27', 'T27', 'T28', 'T28', 'T28', 'T28', 'O', 'O', 'T30', 'T30', 'O', 'T31']\n",
      "--------------------\n",
      "['Intra-Ocular', 'Pressure', 'IOP', 'is', 'under', 'control', 'i.e.', 'IOP', '≤', '25', 'mm', 'in', 'the', 'study', 'eye', 'and', 'study', 'eye', 'is', 'not', 'receiving', 'any', 'IOP', 'lowering', 'drops']\n",
      "['B-Measurement', 'I-Measurement', 'I-Measurement', 'O', 'B-Value', 'I-Value', 'O', 'Measurement', 'B-Value', 'I-Value', 'I-Value', 'B-Qualifier', 'I-Qualifier', 'I-Qualifier', 'I-Qualifier', 'O', 'B-Qualifier', 'I-Qualifier', 'O', 'Negation', 'O', 'O', 'B-Drug', 'I-Drug', 'I-Drug']\n",
      "['T33', 'T33', 'T33', 'O', 'T34', 'T34', 'O', 'T35', 'T36', 'T36', 'T36', 'T37', 'T37', 'T37', 'T37', 'O', 'T40', 'T40', 'O', 'T39', 'O', 'O', 'T38', 'T38', 'T38']\n",
      "--------------------\n",
      "['Willing', 'and', 'able', 'to', 'return', 'for', 'all', 'study', 'visits']\n",
      "['O', 'O', 'O', 'O', 'O', 'O', 'O', 'O', 'O']\n",
      "['O', 'O', 'O', 'O', 'O', 'O', 'O', 'O', 'O']\n",
      "--------------------\n",
      "['Able', 'to', 'meet', 'the', 'extensive', 'post-op', 'evaluation', 'regimen']\n",
      "['O', 'O', 'O', 'O', 'O', 'O', 'O', 'O']\n",
      "['O', 'O', 'O', 'O', 'O', 'O', 'O', 'O']\n",
      "--------------------\n",
      "['Understands', 'and', 'signs', 'the', 'informed', 'consent', 'form']\n",
      "['O', 'O', 'O', 'O', 'O', 'O', 'O']\n",
      "['O', 'O', 'O', 'O', 'O', 'O', 'O']\n",
      "--------------------\n"
     ]
    }
   ],
   "source": [
    "for text in globalText:\n",
    "    words = text[0]\n",
    "    tags = ['O']*len(words)\n",
    "    entity_identity = ['O']*len(words)\n",
    "    sent_indices = set()\n",
    "    for k in keep_entities:\n",
    "        if k[1] >= text[1] and k[2] <= text[2]:\n",
    "            break_down = [removePunctuation(v) for v in k[-1].split()]\n",
    "            main_index = 0\n",
    "            label = ''\n",
    "            for i, w in enumerate(break_down):\n",
    "                indices = list(locate(words, lambda x: x == w))\n",
    "\n",
    "                if i == 0:\n",
    "                    main_index = indices[0]\n",
    "                    if len(break_down) > 1: label = 'B-'\n",
    "                else:\n",
    "                    label = 'I-'\n",
    "                indices= list(filter(lambda x: x >= main_index, indices))\n",
    "                indices= list(filter(lambda x: x not in sent_indices, indices))\n",
    "                if len(indices) != 0:\n",
    "                    sent_indices.add(indices[0])\n",
    "                    tags[indices[0]] = label + k[3]\n",
    "                    entity_identity[indices[0]] = k[0]\n",
    "    print(words)\n",
    "    print(tags)\n",
    "    print(entity_identity)\n",
    "    print('-'*20)"
   ]
  }
 ],
 "metadata": {
  "kernelspec": {
   "display_name": "Python 3 (ipykernel)",
   "language": "python",
   "name": "python3"
  },
  "language_info": {
   "codemirror_mode": {
    "name": "ipython",
    "version": 3
   },
   "file_extension": ".py",
   "mimetype": "text/x-python",
   "name": "python",
   "nbconvert_exporter": "python",
   "pygments_lexer": "ipython3",
   "version": "3.8.12"
  }
 },
 "nbformat": 4,
 "nbformat_minor": 5
}

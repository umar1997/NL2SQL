{
 "cells": [
  {
   "cell_type": "markdown",
   "id": "f1751ba5",
   "metadata": {},
   "source": [
    "### Import Libraries"
   ]
  },
  {
   "cell_type": "code",
   "execution_count": 1,
   "id": "02bec27d",
   "metadata": {},
   "outputs": [],
   "source": [
    "import re\n",
    "import string\n",
    "import pandas as pd\n",
    "\n",
    "from sklearn.utils import shuffle\n",
    "\n",
    "from tqdm import tqdm\n",
    "from itertools import product"
   ]
  },
  {
   "cell_type": "code",
   "execution_count": 2,
   "id": "ab57ff7c",
   "metadata": {},
   "outputs": [
    {
     "name": "stdout",
     "output_type": "stream",
     "text": [
      "Train Length: 533\n",
      "Validation Length: 125\n",
      "Test Length: 131\n"
     ]
    }
   ],
   "source": [
    "Paths = {\n",
    "        'Data': './../../Data/',\n",
    "        'Train': './../../Data/Text2SqlData/train.csv',\n",
    "        'Validation': './../../Data/Text2SqlData/validation.csv',\n",
    "        'Test': './../../Data/Text2SqlData/test.csv',\n",
    "        'New_Train': './../../Data/PreparedText2SQL/train.csv',\n",
    "        'New_Validation': './../../Data/PreparedText2SQL/validation.csv',\n",
    "        'New_Test': './../../Data/PreparedText2SQL/test.csv',\n",
    "    }\n",
    "\n",
    "df_train = pd.read_csv(Paths['Train'])\n",
    "df_val = pd.read_csv(Paths['Validation'])\n",
    "df_test = pd.read_csv(Paths['Test'])\n",
    "\n",
    "print('Train Length: {}'.format(len(df_train)))\n",
    "print('Validation Length: {}'.format(len(df_val)))\n",
    "print('Test Length: {}'.format(len(df_test)))"
   ]
  },
  {
   "cell_type": "code",
   "execution_count": 3,
   "id": "d77480da",
   "metadata": {},
   "outputs": [
    {
     "data": {
      "text/html": [
       "<div>\n",
       "<style scoped>\n",
       "    .dataframe tbody tr th:only-of-type {\n",
       "        vertical-align: middle;\n",
       "    }\n",
       "\n",
       "    .dataframe tbody tr th {\n",
       "        vertical-align: top;\n",
       "    }\n",
       "\n",
       "    .dataframe thead th {\n",
       "        text-align: right;\n",
       "    }\n",
       "</style>\n",
       "<table border=\"1\" class=\"dataframe\">\n",
       "  <thead>\n",
       "    <tr style=\"text-align: right;\">\n",
       "      <th></th>\n",
       "      <th>base_question</th>\n",
       "      <th>folded_questions</th>\n",
       "      <th>query</th>\n",
       "    </tr>\n",
       "  </thead>\n",
       "  <tbody>\n",
       "    <tr>\n",
       "      <th>0</th>\n",
       "      <td>Count of patients grouped by race.</td>\n",
       "      <td>How many &lt;SYN-ARG-patients/people/persons/indi...</td>\n",
       "      <td>SELECT race, COUNT(DISTINCT pe1.person_id) AS ...</td>\n",
       "    </tr>\n",
       "    <tr>\n",
       "      <th>1</th>\n",
       "      <td>Count of patients grouped by race.</td>\n",
       "      <td>&lt;SYN-ARG-calculate/what's/what is/tell me&gt; the...</td>\n",
       "      <td>SELECT race, COUNT(DISTINCT pe1.person_id) AS ...</td>\n",
       "    </tr>\n",
       "    <tr>\n",
       "      <th>2</th>\n",
       "      <td>Count of patients grouped by race.</td>\n",
       "      <td>How many &lt;SYN-ARG-patients/people/persons/indi...</td>\n",
       "      <td>SELECT race, COUNT(DISTINCT pe1.person_id) AS ...</td>\n",
       "    </tr>\n",
       "    <tr>\n",
       "      <th>3</th>\n",
       "      <td>Count of patients grouped by race.</td>\n",
       "      <td>&lt;SYN-ARG-number/count/counts&gt; of &lt;SYN-ARG-pati...</td>\n",
       "      <td>SELECT race, COUNT(DISTINCT pe1.person_id) AS ...</td>\n",
       "    </tr>\n",
       "    <tr>\n",
       "      <th>4</th>\n",
       "      <td>Count of patients grouped by race.</td>\n",
       "      <td>&lt;SYN-ARG-calculate/tell me&gt; how many &lt;SYN-ARG-...</td>\n",
       "      <td>SELECT race, COUNT(DISTINCT pe1.person_id) AS ...</td>\n",
       "    </tr>\n",
       "    <tr>\n",
       "      <th>...</th>\n",
       "      <td>...</td>\n",
       "      <td>...</td>\n",
       "      <td>...</td>\n",
       "    </tr>\n",
       "    <tr>\n",
       "      <th>528</th>\n",
       "      <td>counts of patients with taking drug &lt;ARG-DRUG&gt;...</td>\n",
       "      <td>&lt;SYN-ARG-number/count/counts&gt; of &lt;SYN-ARG-pati...</td>\n",
       "      <td>SELECT DATE_PART_YEAR(drug_exposure_start_date...</td>\n",
       "    </tr>\n",
       "    <tr>\n",
       "      <th>529</th>\n",
       "      <td>counts of patients with taking drug &lt;ARG-DRUG&gt;...</td>\n",
       "      <td>&lt;SYN-ARG-calculate/tell me&gt; how many &lt;SYN-ARG-...</td>\n",
       "      <td>SELECT DATE_PART_YEAR(drug_exposure_start_date...</td>\n",
       "    </tr>\n",
       "    <tr>\n",
       "      <th>530</th>\n",
       "      <td>counts of patients with taking drug &lt;ARG-DRUG&gt;...</td>\n",
       "      <td>&lt;SYN-ARG-number/count/counts&gt; of &lt;SYN-ARG-pati...</td>\n",
       "      <td>SELECT DATE_PART_YEAR(drug_exposure_start_date...</td>\n",
       "    </tr>\n",
       "    <tr>\n",
       "      <th>531</th>\n",
       "      <td>counts of patients with taking drug &lt;ARG-DRUG&gt;...</td>\n",
       "      <td>&lt;SYN-ARG-calculate/what's/what is/tell me&gt; the...</td>\n",
       "      <td>SELECT DATE_PART_YEAR(drug_exposure_start_date...</td>\n",
       "    </tr>\n",
       "    <tr>\n",
       "      <th>532</th>\n",
       "      <td>counts of patients with taking drug &lt;ARG-DRUG&gt;...</td>\n",
       "      <td>&lt;SYN-ARG-calculate/tell me&gt; how many &lt;SYN-ARG-...</td>\n",
       "      <td>SELECT DATE_PART_YEAR(drug_exposure_start_date...</td>\n",
       "    </tr>\n",
       "  </tbody>\n",
       "</table>\n",
       "<p>533 rows × 3 columns</p>\n",
       "</div>"
      ],
      "text/plain": [
       "                                         base_question  \\\n",
       "0                   Count of patients grouped by race.   \n",
       "1                   Count of patients grouped by race.   \n",
       "2                   Count of patients grouped by race.   \n",
       "3                   Count of patients grouped by race.   \n",
       "4                   Count of patients grouped by race.   \n",
       "..                                                 ...   \n",
       "528  counts of patients with taking drug <ARG-DRUG>...   \n",
       "529  counts of patients with taking drug <ARG-DRUG>...   \n",
       "530  counts of patients with taking drug <ARG-DRUG>...   \n",
       "531  counts of patients with taking drug <ARG-DRUG>...   \n",
       "532  counts of patients with taking drug <ARG-DRUG>...   \n",
       "\n",
       "                                      folded_questions  \\\n",
       "0    How many <SYN-ARG-patients/people/persons/indi...   \n",
       "1    <SYN-ARG-calculate/what's/what is/tell me> the...   \n",
       "2    How many <SYN-ARG-patients/people/persons/indi...   \n",
       "3    <SYN-ARG-number/count/counts> of <SYN-ARG-pati...   \n",
       "4    <SYN-ARG-calculate/tell me> how many <SYN-ARG-...   \n",
       "..                                                 ...   \n",
       "528  <SYN-ARG-number/count/counts> of <SYN-ARG-pati...   \n",
       "529  <SYN-ARG-calculate/tell me> how many <SYN-ARG-...   \n",
       "530  <SYN-ARG-number/count/counts> of <SYN-ARG-pati...   \n",
       "531  <SYN-ARG-calculate/what's/what is/tell me> the...   \n",
       "532  <SYN-ARG-calculate/tell me> how many <SYN-ARG-...   \n",
       "\n",
       "                                                 query  \n",
       "0    SELECT race, COUNT(DISTINCT pe1.person_id) AS ...  \n",
       "1    SELECT race, COUNT(DISTINCT pe1.person_id) AS ...  \n",
       "2    SELECT race, COUNT(DISTINCT pe1.person_id) AS ...  \n",
       "3    SELECT race, COUNT(DISTINCT pe1.person_id) AS ...  \n",
       "4    SELECT race, COUNT(DISTINCT pe1.person_id) AS ...  \n",
       "..                                                 ...  \n",
       "528  SELECT DATE_PART_YEAR(drug_exposure_start_date...  \n",
       "529  SELECT DATE_PART_YEAR(drug_exposure_start_date...  \n",
       "530  SELECT DATE_PART_YEAR(drug_exposure_start_date...  \n",
       "531  SELECT DATE_PART_YEAR(drug_exposure_start_date...  \n",
       "532  SELECT DATE_PART_YEAR(drug_exposure_start_date...  \n",
       "\n",
       "[533 rows x 3 columns]"
      ]
     },
     "execution_count": 3,
     "metadata": {},
     "output_type": "execute_result"
    }
   ],
   "source": [
    "df_train"
   ]
  },
  {
   "cell_type": "code",
   "execution_count": 4,
   "id": "17292119",
   "metadata": {},
   "outputs": [],
   "source": [
    "df_train.rename(columns = {'query':'query_generated'}, inplace = True)\n",
    "df_val.rename(columns = {'query':'query_generated'}, inplace = True)\n",
    "df_test.rename(columns = {'query':'query_generated'}, inplace = True)"
   ]
  },
  {
   "cell_type": "code",
   "execution_count": 5,
   "id": "cbd9e526",
   "metadata": {},
   "outputs": [
    {
     "data": {
      "text/plain": [
       "base_question       object\n",
       "folded_questions    object\n",
       "query_generated     object\n",
       "dtype: object"
      ]
     },
     "execution_count": 5,
     "metadata": {},
     "output_type": "execute_result"
    }
   ],
   "source": [
    "df_train.dtypes"
   ]
  },
  {
   "cell_type": "code",
   "execution_count": 6,
   "id": "5471befd",
   "metadata": {},
   "outputs": [
    {
     "name": "stdout",
     "output_type": "stream",
     "text": [
      "Total Base Questions:\n",
      "Train: 56, Val: 56, Test: 56\n",
      "\n",
      "Total Folded Questions:\n",
      "Train: 528, Val: 125, Test: 131\n",
      "\n",
      "Total Query:\n",
      "Train: 56, Val: 56, Test: 56\n",
      "\n"
     ]
    }
   ],
   "source": [
    "print('Total Base Questions:')\n",
    "print(f'Train: {df_train.base_question.nunique()}, Val: {df_val.base_question.nunique()}, Test: {df_test.base_question.nunique()}\\n')\n",
    "print('Total Folded Questions:')\n",
    "print(f'Train: {df_train.folded_questions.nunique()}, Val: {df_val.folded_questions.nunique()}, Test: {df_test.folded_questions.nunique()}\\n')\n",
    "print('Total Query:')\n",
    "print(f'Train: {df_train.query_generated.nunique()}, Val: {df_val.query_generated.nunique()}, Test: {df_test.query_generated.nunique()}\\n')"
   ]
  },
  {
   "cell_type": "code",
   "execution_count": 7,
   "id": "91229f2a",
   "metadata": {},
   "outputs": [
    {
     "data": {
      "text/plain": [
       "{'AGE',\n",
       " 'CONDITION',\n",
       " 'DRUG',\n",
       " 'ETHNICITY',\n",
       " 'GENDER',\n",
       " 'RACE',\n",
       " 'STATE',\n",
       " 'TIMEDAYS',\n",
       " 'TIMEYEARS'}"
      ]
     },
     "execution_count": 7,
     "metadata": {},
     "output_type": "execute_result"
    }
   ],
   "source": [
    "uniqueEntities = set()\n",
    "for i, f in df_train.iterrows():\n",
    "    sentence = f.loc['base_question']\n",
    "    words = re.findall(r'<ARG-(.*?)><.>',sentence)\n",
    "    for w in words:\n",
    "        uniqueEntities.add(w)\n",
    "uniqueEntities"
   ]
  },
  {
   "cell_type": "code",
   "execution_count": 8,
   "id": "601b5b48",
   "metadata": {},
   "outputs": [
    {
     "data": {
      "text/plain": [
       "'Count of patients grouped by race.'"
      ]
     },
     "execution_count": 8,
     "metadata": {},
     "output_type": "execute_result"
    }
   ],
   "source": [
    "df_train['base_question'][0]"
   ]
  },
  {
   "cell_type": "code",
   "execution_count": 10,
   "id": "c08bfbf9",
   "metadata": {},
   "outputs": [
    {
     "data": {
      "text/plain": [
       "'How many <SYN-ARG-patients/people/persons/individuals/subjects> <SYN-ARG-are in/fit into/end up in/were in/fitted into/ended up in> each race group?'"
      ]
     },
     "execution_count": 10,
     "metadata": {},
     "output_type": "execute_result"
    }
   ],
   "source": [
    "df_train['folded_questions'][0]"
   ]
  },
  {
   "cell_type": "code",
   "execution_count": 11,
   "id": "fed1d8a7",
   "metadata": {},
   "outputs": [
    {
     "data": {
      "text/plain": [
       "['How many patients are in each race group?',\n",
       " 'How many patients fit into each race group?',\n",
       " 'How many patients end up in each race group?',\n",
       " 'How many patients were in each race group?',\n",
       " 'How many patients fitted into each race group?',\n",
       " 'How many patients ended up in each race group?',\n",
       " 'How many people are in each race group?',\n",
       " 'How many people fit into each race group?',\n",
       " 'How many people end up in each race group?',\n",
       " 'How many people were in each race group?',\n",
       " 'How many people fitted into each race group?',\n",
       " 'How many people ended up in each race group?',\n",
       " 'How many persons are in each race group?',\n",
       " 'How many persons fit into each race group?',\n",
       " 'How many persons end up in each race group?',\n",
       " 'How many persons were in each race group?',\n",
       " 'How many persons fitted into each race group?',\n",
       " 'How many persons ended up in each race group?',\n",
       " 'How many individuals are in each race group?',\n",
       " 'How many individuals fit into each race group?',\n",
       " 'How many individuals end up in each race group?',\n",
       " 'How many individuals were in each race group?',\n",
       " 'How many individuals fitted into each race group?',\n",
       " 'How many individuals ended up in each race group?',\n",
       " 'How many subjects are in each race group?',\n",
       " 'How many subjects fit into each race group?',\n",
       " 'How many subjects end up in each race group?',\n",
       " 'How many subjects were in each race group?',\n",
       " 'How many subjects fitted into each race group?',\n",
       " 'How many subjects ended up in each race group?']"
      ]
     },
     "execution_count": 11,
     "metadata": {},
     "output_type": "execute_result"
    }
   ],
   "source": [
    "def getSentences(s):\n",
    "    def getAlphabetsList():\n",
    "        alphabet_string = string.ascii_uppercase\n",
    "        alphabet_list = list(alphabet_string)\n",
    "        return alphabet_list\n",
    "\n",
    "    def getCombinations(s, alphabet_list):\n",
    "        options = re.findall(r'<SYN-ARG-(.*?)>',s)\n",
    "        words = [w.split('/') for w in options]\n",
    "\n",
    "        columnNumber = len(words)\n",
    "        alphabet_list = alphabet_list[:columnNumber]\n",
    "\n",
    "        df = pd.DataFrame(words)\n",
    "        df = df.transpose()\n",
    "        df.columns = alphabet_list\n",
    "\n",
    "        cartesianList = [df[alphabet_list[i]] for i in range(columnNumber)]\n",
    "        combinations  = list(product(*cartesianList))\n",
    "        combinations = list(filter(lambda x: None not in x, combinations)) # Remove pair with None\n",
    "        return combinations, columnNumber\n",
    "\n",
    "    def getPermutedSentences(s, combinations, columnNumber):\n",
    "        SENTENCES = []\n",
    "        options = re.sub(r'<SYN-ARG-(.*?)>', '#######',s)\n",
    "        hashes = re.findall(r'#######', options)\n",
    "        assert len(hashes) == columnNumber\n",
    "        for c in combinations:\n",
    "            for num_cols in range(columnNumber):\n",
    "                options = options.replace('#######', c[num_cols], 1)\n",
    "            SENTENCES.append(options)\n",
    "            options = re.sub(r'<SYN-ARG-(.*?)>', '#######',s)\n",
    "        assert len(combinations) == len(SENTENCES)\n",
    "        return SENTENCES\n",
    "\n",
    "    alphabet_list = getAlphabetsList()\n",
    "    combinations, columnNumber = getCombinations(s, alphabet_list)\n",
    "    sentences = getPermutedSentences(s, combinations, columnNumber)\n",
    "    return sentences\n",
    "\n",
    "s = 'How many <SYN-ARG-patients/people/persons/individuals/subjects> <SYN-ARG-are in/fit into/end up in/were in/fitted into/ended up in> each race group?'\n",
    "getSentences(s)"
   ]
  },
  {
   "cell_type": "code",
   "execution_count": 12,
   "id": "53bc934e",
   "metadata": {},
   "outputs": [],
   "source": [
    "def getDataFrames(df_type):\n",
    "    FOLDED, BASE, QUERY = [], [], []\n",
    "    for i, f in tqdm(df_type.iterrows(), total=df_type.shape[0]):\n",
    "        folded_qsts = df_type.loc[i]['folded_questions']\n",
    "        base_qsts = df_type.loc[i]['base_question']\n",
    "        query_gen = df_type.loc[i]['query_generated']\n",
    "        sentences = getSentences(folded_qsts)\n",
    "        FOLDED += sentences\n",
    "        BASE += [base_qsts]*len(sentences)\n",
    "        QUERY += [query_gen]*len(sentences)\n",
    "        assert len(FOLDED) == len(BASE) == len(QUERY)\n",
    "    \n",
    "    df = pd.DataFrame()\n",
    "    df['Base_Question'] = pd.Series(BASE)\n",
    "    df['Folded_Question'] = pd.Series(FOLDED)\n",
    "    df['Query_Generated'] = pd.Series(QUERY)\n",
    "    \n",
    "    return df"
   ]
  },
  {
   "cell_type": "code",
   "execution_count": 13,
   "id": "7fc7a77a",
   "metadata": {},
   "outputs": [
    {
     "name": "stderr",
     "output_type": "stream",
     "text": [
      "100%|███████████████████████████████████████████████| 131/131 [00:01<00:00, 77.94it/s]\n"
     ]
    }
   ],
   "source": [
    "new_df = getDataFrames(df_test)"
   ]
  },
  {
   "cell_type": "code",
   "execution_count": 14,
   "id": "c7e8b870",
   "metadata": {},
   "outputs": [
    {
     "data": {
      "text/html": [
       "<div>\n",
       "<style scoped>\n",
       "    .dataframe tbody tr th:only-of-type {\n",
       "        vertical-align: middle;\n",
       "    }\n",
       "\n",
       "    .dataframe tbody tr th {\n",
       "        vertical-align: top;\n",
       "    }\n",
       "\n",
       "    .dataframe thead th {\n",
       "        text-align: right;\n",
       "    }\n",
       "</style>\n",
       "<table border=\"1\" class=\"dataframe\">\n",
       "  <thead>\n",
       "    <tr style=\"text-align: right;\">\n",
       "      <th></th>\n",
       "      <th>Base_Question</th>\n",
       "      <th>Folded_Question</th>\n",
       "      <th>Query_Generated</th>\n",
       "    </tr>\n",
       "  </thead>\n",
       "  <tbody>\n",
       "    <tr>\n",
       "      <th>0</th>\n",
       "      <td>Count of patients grouped by race.</td>\n",
       "      <td>number of patients in each race group.</td>\n",
       "      <td>SELECT race, COUNT(DISTINCT pe1.person_id) AS ...</td>\n",
       "    </tr>\n",
       "    <tr>\n",
       "      <th>1</th>\n",
       "      <td>Count of patients grouped by race.</td>\n",
       "      <td>number of patients for each race group.</td>\n",
       "      <td>SELECT race, COUNT(DISTINCT pe1.person_id) AS ...</td>\n",
       "    </tr>\n",
       "    <tr>\n",
       "      <th>2</th>\n",
       "      <td>Count of patients grouped by race.</td>\n",
       "      <td>number of people in each race group.</td>\n",
       "      <td>SELECT race, COUNT(DISTINCT pe1.person_id) AS ...</td>\n",
       "    </tr>\n",
       "    <tr>\n",
       "      <th>3</th>\n",
       "      <td>Count of patients grouped by race.</td>\n",
       "      <td>number of people for each race group.</td>\n",
       "      <td>SELECT race, COUNT(DISTINCT pe1.person_id) AS ...</td>\n",
       "    </tr>\n",
       "    <tr>\n",
       "      <th>4</th>\n",
       "      <td>Count of patients grouped by race.</td>\n",
       "      <td>number of persons in each race group.</td>\n",
       "      <td>SELECT race, COUNT(DISTINCT pe1.person_id) AS ...</td>\n",
       "    </tr>\n",
       "    <tr>\n",
       "      <th>...</th>\n",
       "      <td>...</td>\n",
       "      <td>...</td>\n",
       "      <td>...</td>\n",
       "    </tr>\n",
       "    <tr>\n",
       "      <th>56926</th>\n",
       "      <td>counts of patients with taking drug &lt;ARG-DRUG&gt;...</td>\n",
       "      <td>tell me the counts of patients taking &lt;ARG-DRU...</td>\n",
       "      <td>SELECT DATE_PART_YEAR(drug_exposure_start_date...</td>\n",
       "    </tr>\n",
       "    <tr>\n",
       "      <th>56927</th>\n",
       "      <td>counts of patients with taking drug &lt;ARG-DRUG&gt;...</td>\n",
       "      <td>tell me the counts of people taking &lt;ARG-DRUG&gt;...</td>\n",
       "      <td>SELECT DATE_PART_YEAR(drug_exposure_start_date...</td>\n",
       "    </tr>\n",
       "    <tr>\n",
       "      <th>56928</th>\n",
       "      <td>counts of patients with taking drug &lt;ARG-DRUG&gt;...</td>\n",
       "      <td>tell me the counts of persons taking &lt;ARG-DRUG...</td>\n",
       "      <td>SELECT DATE_PART_YEAR(drug_exposure_start_date...</td>\n",
       "    </tr>\n",
       "    <tr>\n",
       "      <th>56929</th>\n",
       "      <td>counts of patients with taking drug &lt;ARG-DRUG&gt;...</td>\n",
       "      <td>tell me the counts of individuals taking &lt;ARG-...</td>\n",
       "      <td>SELECT DATE_PART_YEAR(drug_exposure_start_date...</td>\n",
       "    </tr>\n",
       "    <tr>\n",
       "      <th>56930</th>\n",
       "      <td>counts of patients with taking drug &lt;ARG-DRUG&gt;...</td>\n",
       "      <td>tell me the counts of subjects taking &lt;ARG-DRU...</td>\n",
       "      <td>SELECT DATE_PART_YEAR(drug_exposure_start_date...</td>\n",
       "    </tr>\n",
       "  </tbody>\n",
       "</table>\n",
       "<p>56931 rows × 3 columns</p>\n",
       "</div>"
      ],
      "text/plain": [
       "                                           Base_Question  \\\n",
       "0                     Count of patients grouped by race.   \n",
       "1                     Count of patients grouped by race.   \n",
       "2                     Count of patients grouped by race.   \n",
       "3                     Count of patients grouped by race.   \n",
       "4                     Count of patients grouped by race.   \n",
       "...                                                  ...   \n",
       "56926  counts of patients with taking drug <ARG-DRUG>...   \n",
       "56927  counts of patients with taking drug <ARG-DRUG>...   \n",
       "56928  counts of patients with taking drug <ARG-DRUG>...   \n",
       "56929  counts of patients with taking drug <ARG-DRUG>...   \n",
       "56930  counts of patients with taking drug <ARG-DRUG>...   \n",
       "\n",
       "                                         Folded_Question  \\\n",
       "0                 number of patients in each race group.   \n",
       "1                number of patients for each race group.   \n",
       "2                   number of people in each race group.   \n",
       "3                  number of people for each race group.   \n",
       "4                  number of persons in each race group.   \n",
       "...                                                  ...   \n",
       "56926  tell me the counts of patients taking <ARG-DRU...   \n",
       "56927  tell me the counts of people taking <ARG-DRUG>...   \n",
       "56928  tell me the counts of persons taking <ARG-DRUG...   \n",
       "56929  tell me the counts of individuals taking <ARG-...   \n",
       "56930  tell me the counts of subjects taking <ARG-DRU...   \n",
       "\n",
       "                                         Query_Generated  \n",
       "0      SELECT race, COUNT(DISTINCT pe1.person_id) AS ...  \n",
       "1      SELECT race, COUNT(DISTINCT pe1.person_id) AS ...  \n",
       "2      SELECT race, COUNT(DISTINCT pe1.person_id) AS ...  \n",
       "3      SELECT race, COUNT(DISTINCT pe1.person_id) AS ...  \n",
       "4      SELECT race, COUNT(DISTINCT pe1.person_id) AS ...  \n",
       "...                                                  ...  \n",
       "56926  SELECT DATE_PART_YEAR(drug_exposure_start_date...  \n",
       "56927  SELECT DATE_PART_YEAR(drug_exposure_start_date...  \n",
       "56928  SELECT DATE_PART_YEAR(drug_exposure_start_date...  \n",
       "56929  SELECT DATE_PART_YEAR(drug_exposure_start_date...  \n",
       "56930  SELECT DATE_PART_YEAR(drug_exposure_start_date...  \n",
       "\n",
       "[56931 rows x 3 columns]"
      ]
     },
     "execution_count": 14,
     "metadata": {},
     "output_type": "execute_result"
    }
   ],
   "source": [
    "new_df"
   ]
  },
  {
   "cell_type": "code",
   "execution_count": 15,
   "id": "3ba33822",
   "metadata": {},
   "outputs": [
    {
     "data": {
      "text/html": [
       "<div>\n",
       "<style scoped>\n",
       "    .dataframe tbody tr th:only-of-type {\n",
       "        vertical-align: middle;\n",
       "    }\n",
       "\n",
       "    .dataframe tbody tr th {\n",
       "        vertical-align: top;\n",
       "    }\n",
       "\n",
       "    .dataframe thead th {\n",
       "        text-align: right;\n",
       "    }\n",
       "</style>\n",
       "<table border=\"1\" class=\"dataframe\">\n",
       "  <thead>\n",
       "    <tr style=\"text-align: right;\">\n",
       "      <th></th>\n",
       "      <th>Base_Question</th>\n",
       "      <th>Folded_Question</th>\n",
       "      <th>Query_Generated</th>\n",
       "    </tr>\n",
       "  </thead>\n",
       "  <tbody>\n",
       "    <tr>\n",
       "      <th>0</th>\n",
       "      <td>Counts of patients taking drug &lt;ARG-DRUG&gt;&lt;0&gt;, ...</td>\n",
       "      <td>what's the counts of individuals got &lt;ARG-DRUG...</td>\n",
       "      <td>SELECT COUNT( DISTINCT dr1.person_id) FROM (((...</td>\n",
       "    </tr>\n",
       "    <tr>\n",
       "      <th>1</th>\n",
       "      <td>Counts of patients with condition &lt;ARG-CONDITI...</td>\n",
       "      <td>calculate the number of patients with all of t...</td>\n",
       "      <td>SELECT COUNT( DISTINCT a.person_id ) FROM ((SE...</td>\n",
       "    </tr>\n",
       "    <tr>\n",
       "      <th>2</th>\n",
       "      <td>Counts of patients with condition &lt;ARG-CONDITI...</td>\n",
       "      <td>what's the counts of individuals with all of t...</td>\n",
       "      <td>SELECT COUNT( DISTINCT a.person_id ) FROM ((((...</td>\n",
       "    </tr>\n",
       "    <tr>\n",
       "      <th>3</th>\n",
       "      <td>How many people were treated by drug &lt;ARG-DRUG...</td>\n",
       "      <td>How many subjects receive medication &lt;ARG-DRUG...</td>\n",
       "      <td>SELECT COUNT( DISTINCT con1.person_id ) FROM (...</td>\n",
       "    </tr>\n",
       "    <tr>\n",
       "      <th>4</th>\n",
       "      <td>How many people have Condition &lt;ARG-CONDITION&gt;...</td>\n",
       "      <td>what's the count of people suffered from &lt;ARG-...</td>\n",
       "      <td>SELECT COUNT( DISTINCT con1.person_id ) FROM (...</td>\n",
       "    </tr>\n",
       "    <tr>\n",
       "      <th>...</th>\n",
       "      <td>...</td>\n",
       "      <td>...</td>\n",
       "      <td>...</td>\n",
       "    </tr>\n",
       "    <tr>\n",
       "      <th>56926</th>\n",
       "      <td>Counts of patients with condition &lt;ARG-CONDITI...</td>\n",
       "      <td>What is the number of individuals suffer from ...</td>\n",
       "      <td>SELECT COUNT( DISTINCT person_id) FROM (&lt;SCHEM...</td>\n",
       "    </tr>\n",
       "    <tr>\n",
       "      <th>56927</th>\n",
       "      <td>Counts of patients with condition &lt;ARG-CONDITI...</td>\n",
       "      <td>what's the count of persons with all of these ...</td>\n",
       "      <td>SELECT COUNT( DISTINCT a.person_id ) FROM ((SE...</td>\n",
       "    </tr>\n",
       "    <tr>\n",
       "      <th>56928</th>\n",
       "      <td>Counts of patients taking drug &lt;ARG-DRUG&gt;&lt;0&gt; o...</td>\n",
       "      <td>How many people have treatment with &lt;ARG-DRUG&gt;...</td>\n",
       "      <td>SELECT COUNT( DISTINCT dr1.person_id) FROM (&lt;S...</td>\n",
       "    </tr>\n",
       "    <tr>\n",
       "      <th>56929</th>\n",
       "      <td>How many people have Condition &lt;ARG-CONDITION&gt;...</td>\n",
       "      <td>tell me the counts of patients have condition ...</td>\n",
       "      <td>SELECT COUNT( DISTINCT con1.person_id ) FROM (...</td>\n",
       "    </tr>\n",
       "    <tr>\n",
       "      <th>56930</th>\n",
       "      <td>Counts of patients with condition &lt;ARG-CONDITI...</td>\n",
       "      <td>calculate what is the number of subjects had c...</td>\n",
       "      <td>SELECT COUNT( DISTINCT con1.person_id) FROM ((...</td>\n",
       "    </tr>\n",
       "  </tbody>\n",
       "</table>\n",
       "<p>56931 rows × 3 columns</p>\n",
       "</div>"
      ],
      "text/plain": [
       "                                           Base_Question  \\\n",
       "0      Counts of patients taking drug <ARG-DRUG><0>, ...   \n",
       "1      Counts of patients with condition <ARG-CONDITI...   \n",
       "2      Counts of patients with condition <ARG-CONDITI...   \n",
       "3      How many people were treated by drug <ARG-DRUG...   \n",
       "4      How many people have Condition <ARG-CONDITION>...   \n",
       "...                                                  ...   \n",
       "56926  Counts of patients with condition <ARG-CONDITI...   \n",
       "56927  Counts of patients with condition <ARG-CONDITI...   \n",
       "56928  Counts of patients taking drug <ARG-DRUG><0> o...   \n",
       "56929  How many people have Condition <ARG-CONDITION>...   \n",
       "56930  Counts of patients with condition <ARG-CONDITI...   \n",
       "\n",
       "                                         Folded_Question  \\\n",
       "0      what's the counts of individuals got <ARG-DRUG...   \n",
       "1      calculate the number of patients with all of t...   \n",
       "2      what's the counts of individuals with all of t...   \n",
       "3      How many subjects receive medication <ARG-DRUG...   \n",
       "4      what's the count of people suffered from <ARG-...   \n",
       "...                                                  ...   \n",
       "56926  What is the number of individuals suffer from ...   \n",
       "56927  what's the count of persons with all of these ...   \n",
       "56928  How many people have treatment with <ARG-DRUG>...   \n",
       "56929  tell me the counts of patients have condition ...   \n",
       "56930  calculate what is the number of subjects had c...   \n",
       "\n",
       "                                         Query_Generated  \n",
       "0      SELECT COUNT( DISTINCT dr1.person_id) FROM (((...  \n",
       "1      SELECT COUNT( DISTINCT a.person_id ) FROM ((SE...  \n",
       "2      SELECT COUNT( DISTINCT a.person_id ) FROM ((((...  \n",
       "3      SELECT COUNT( DISTINCT con1.person_id ) FROM (...  \n",
       "4      SELECT COUNT( DISTINCT con1.person_id ) FROM (...  \n",
       "...                                                  ...  \n",
       "56926  SELECT COUNT( DISTINCT person_id) FROM (<SCHEM...  \n",
       "56927  SELECT COUNT( DISTINCT a.person_id ) FROM ((SE...  \n",
       "56928  SELECT COUNT( DISTINCT dr1.person_id) FROM (<S...  \n",
       "56929  SELECT COUNT( DISTINCT con1.person_id ) FROM (...  \n",
       "56930  SELECT COUNT( DISTINCT con1.person_id) FROM ((...  \n",
       "\n",
       "[56931 rows x 3 columns]"
      ]
     },
     "execution_count": 15,
     "metadata": {},
     "output_type": "execute_result"
    }
   ],
   "source": [
    "shuffled = shuffle(new_df)\n",
    "new_df = shuffled.reset_index(drop=True)\n",
    "new_df"
   ]
  },
  {
   "cell_type": "markdown",
   "id": "5997bef6",
   "metadata": {},
   "source": [
    "#### Before\n",
    "Train Length: 533  \n",
    "Validation Length: 125  \n",
    "Test Length: 131  "
   ]
  },
  {
   "cell_type": "code",
   "execution_count": 16,
   "id": "35fe84d5",
   "metadata": {},
   "outputs": [
    {
     "name": "stdout",
     "output_type": "stream",
     "text": [
      "Train Length: 596961\n",
      "Validation Length: 145368\n",
      "Test Length: 56931\n"
     ]
    }
   ],
   "source": [
    "df_train = pd.read_csv(Paths['New_Train'])\n",
    "df_val = pd.read_csv(Paths['New_Validation'])\n",
    "df_test = pd.read_csv(Paths['New_Test'])\n",
    "\n",
    "print('Train Length: {}'.format(len(df_train)))\n",
    "print('Validation Length: {}'.format(len(df_val)))\n",
    "print('Test Length: {}'.format(len(df_test)))"
   ]
  },
  {
   "cell_type": "code",
   "execution_count": null,
   "id": "1a4d9d74",
   "metadata": {},
   "outputs": [],
   "source": []
  }
 ],
 "metadata": {
  "kernelspec": {
   "display_name": "Python 3 (ipykernel)",
   "language": "python",
   "name": "python3"
  },
  "language_info": {
   "codemirror_mode": {
    "name": "ipython",
    "version": 3
   },
   "file_extension": ".py",
   "mimetype": "text/x-python",
   "name": "python",
   "nbconvert_exporter": "python",
   "pygments_lexer": "ipython3",
   "version": "3.8.12"
  }
 },
 "nbformat": 4,
 "nbformat_minor": 5
}

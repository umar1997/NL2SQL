{
 "cells": [
  {
   "cell_type": "markdown",
   "id": "df646580",
   "metadata": {},
   "source": [
    "FineTuning WikiSQL  \n",
    "https://github.com/patil-suraj/exploring-T5/blob/master/t5_fine_tuning.ipynb\n",
    "\n",
    "FineTuning Summarization  \n",
    "https://towardsdatascience.com/fine-tuning-a-t5-transformer-for-any-summarization-task-82334c64c81"
   ]
  },
  {
   "cell_type": "code",
   "execution_count": 1,
   "id": "d86f45f0",
   "metadata": {},
   "outputs": [],
   "source": [
    "from transformers import (\n",
    "    T5ForConditionalGeneration,\n",
    "    T5Tokenizer,\n",
    ")"
   ]
  },
  {
   "cell_type": "code",
   "execution_count": 2,
   "id": "6b32c1c3",
   "metadata": {},
   "outputs": [
    {
     "name": "stderr",
     "output_type": "stream",
     "text": [
      "The `xla_device` argument has been deprecated in v4.4.0 of Transformers. It is ignored and you can safely remove it from your `config.json` file.\n",
      "The `xla_device` argument has been deprecated in v4.4.0 of Transformers. It is ignored and you can safely remove it from your `config.json` file.\n"
     ]
    }
   ],
   "source": [
    "model = T5ForConditionalGeneration.from_pretrained(\"mrm8488/t5-base-finetuned-wikiSQL\")\n",
    "tokenizer = T5Tokenizer.from_pretrained(\"mrm8488/t5-base-finetuned-wikiSQL\")"
   ]
  },
  {
   "cell_type": "code",
   "execution_count": 3,
   "id": "c5e4b2d2",
   "metadata": {},
   "outputs": [],
   "source": [
    "def print_encoding(model_inputs, indent=4):\n",
    "    indent_str = \" \" * indent\n",
    "    print(\"{\")\n",
    "    for k, v in model_inputs.items():\n",
    "        print(indent_str + k + \":\")\n",
    "        print(indent_str + indent_str + str(v))\n",
    "    print(\"}\")"
   ]
  },
  {
   "cell_type": "code",
   "execution_count": 4,
   "id": "0b382313",
   "metadata": {},
   "outputs": [
    {
     "name": "stdout",
     "output_type": "stream",
     "text": [
      "Pad token: <pad> | Pad token id: 0\n",
      "Padding:\n",
      "{\n",
      "    input_ids:\n",
      "        tensor([[  381,    13,  1221,     3, 31801,    57,  1964,     5,     1,     0,\n",
      "             0,     0,     0,     0,     0,     0,     0,     0,     0,     0,\n",
      "             0,     0,     0,     0,     0,     0,     0,     0,     0,     0,\n",
      "             0,     0,     0,     0,     0,     0,     0,     0,     0,     0,\n",
      "             0,     0,     0,     0,     0,     0,     0,     0,     0,     0,\n",
      "             0,     0,     0,     0,     0,     0,     0,     0,     0,     0,\n",
      "             0,     0,     0,     0,     0,     0,     0,     0,     0,     0,\n",
      "             0,     0,     0,     0,     0,     0,     0,     0,     0,     0,\n",
      "             0,     0,     0,     0,     0,     0,     0,     0,     0,     0,\n",
      "             0,     0,     0,     0,     0,     0,     0,     0,     0,     0,\n",
      "             0,     0,     0,     0,     0,     0,     0,     0,     0,     0,\n",
      "             0,     0,     0,     0,     0,     0,     0,     0,     0,     0,\n",
      "             0,     0,     0,     0,     0,     0,     0,     0],\n",
      "        [  571,   186,  1221,   405,   284,  1964,   563,  3480,    58,     1,\n",
      "             0,     0,     0,     0,     0,     0,     0,     0,     0,     0,\n",
      "             0,     0,     0,     0,     0,     0,     0,     0,     0,     0,\n",
      "             0,     0,     0,     0,     0,     0,     0,     0,     0,     0,\n",
      "             0,     0,     0,     0,     0,     0,     0,     0,     0,     0,\n",
      "             0,     0,     0,     0,     0,     0,     0,     0,     0,     0,\n",
      "             0,     0,     0,     0,     0,     0,     0,     0,     0,     0,\n",
      "             0,     0,     0,     0,     0,     0,     0,     0,     0,     0,\n",
      "             0,     0,     0,     0,     0,     0,     0,     0,     0,     0,\n",
      "             0,     0,     0,     0,     0,     0,     0,     0,     0,     0,\n",
      "             0,     0,     0,     0,     0,     0,     0,     0,     0,     0,\n",
      "             0,     0,     0,     0,     0,     0,     0,     0,     0,     0,\n",
      "             0,     0,     0,     0,     0,     0,     0,     0],\n",
      "        [    3, 10628,     7,    13,  1221,   838,  2672,     3,     2,  4280,\n",
      "           517,    18,  3913, 19046,  3155,     2,   632,  3155,    11,     3,\n",
      "             2,  4280,   517,    18,  3913, 19046,  3155,     2,   536,  3155,\n",
      "           441,     3,     2,  4280,   517,    18,   382, 15382, 12860,   134,\n",
      "          3155,     2,   632,  3155,   477,     5,     1,     0,     0,     0,\n",
      "             0,     0,     0,     0,     0,     0,     0,     0,     0,     0,\n",
      "             0,     0,     0,     0,     0,     0,     0,     0,     0,     0,\n",
      "             0,     0,     0,     0,     0,     0,     0,     0,     0,     0,\n",
      "             0,     0,     0,     0,     0,     0,     0,     0,     0,     0,\n",
      "             0,     0,     0,     0,     0,     0,     0,     0,     0,     0,\n",
      "             0,     0,     0,     0,     0,     0,     0,     0,     0,     0,\n",
      "             0,     0,     0,     0,     0,     0,     0,     0,     0,     0,\n",
      "             0,     0,     0,     0,     0,     0,     0,     0],\n",
      "        [    3, 10628,     7,    13,  1221,    28,  1706,     3,     2,  4280,\n",
      "           517,    18, 17752,   308,   196,  9562,  3155,     2,   632,  3155,\n",
      "             6,     3,     2,  4280,   517,    18, 17752,   308,   196,  9562,\n",
      "          3155,     2,   536,  3155,     6,    11,     3,     2,  4280,   517,\n",
      "            18, 17752,   308,   196,  9562,  3155,     2,   357,  3155,     5,\n",
      "             1,     0,     0,     0,     0,     0,     0,     0,     0,     0,\n",
      "             0,     0,     0,     0,     0,     0,     0,     0,     0,     0,\n",
      "             0,     0,     0,     0,     0,     0,     0,     0,     0,     0,\n",
      "             0,     0,     0,     0,     0,     0,     0,     0,     0,     0,\n",
      "             0,     0,     0,     0,     0,     0,     0,     0,     0,     0,\n",
      "             0,     0,     0,     0,     0,     0,     0,     0,     0,     0,\n",
      "             0,     0,     0,     0,     0,     0,     0,     0,     0,     0,\n",
      "             0,     0,     0,     0,     0,     0,     0,     0]])\n",
      "    attention_mask:\n",
      "        tensor([[1, 1, 1, 1, 1, 1, 1, 1, 1, 0, 0, 0, 0, 0, 0, 0, 0, 0, 0, 0, 0, 0, 0, 0,\n",
      "         0, 0, 0, 0, 0, 0, 0, 0, 0, 0, 0, 0, 0, 0, 0, 0, 0, 0, 0, 0, 0, 0, 0, 0,\n",
      "         0, 0, 0, 0, 0, 0, 0, 0, 0, 0, 0, 0, 0, 0, 0, 0, 0, 0, 0, 0, 0, 0, 0, 0,\n",
      "         0, 0, 0, 0, 0, 0, 0, 0, 0, 0, 0, 0, 0, 0, 0, 0, 0, 0, 0, 0, 0, 0, 0, 0,\n",
      "         0, 0, 0, 0, 0, 0, 0, 0, 0, 0, 0, 0, 0, 0, 0, 0, 0, 0, 0, 0, 0, 0, 0, 0,\n",
      "         0, 0, 0, 0, 0, 0, 0, 0],\n",
      "        [1, 1, 1, 1, 1, 1, 1, 1, 1, 1, 0, 0, 0, 0, 0, 0, 0, 0, 0, 0, 0, 0, 0, 0,\n",
      "         0, 0, 0, 0, 0, 0, 0, 0, 0, 0, 0, 0, 0, 0, 0, 0, 0, 0, 0, 0, 0, 0, 0, 0,\n",
      "         0, 0, 0, 0, 0, 0, 0, 0, 0, 0, 0, 0, 0, 0, 0, 0, 0, 0, 0, 0, 0, 0, 0, 0,\n",
      "         0, 0, 0, 0, 0, 0, 0, 0, 0, 0, 0, 0, 0, 0, 0, 0, 0, 0, 0, 0, 0, 0, 0, 0,\n",
      "         0, 0, 0, 0, 0, 0, 0, 0, 0, 0, 0, 0, 0, 0, 0, 0, 0, 0, 0, 0, 0, 0, 0, 0,\n",
      "         0, 0, 0, 0, 0, 0, 0, 0],\n",
      "        [1, 1, 1, 1, 1, 1, 1, 1, 1, 1, 1, 1, 1, 1, 1, 1, 1, 1, 1, 1, 1, 1, 1, 1,\n",
      "         1, 1, 1, 1, 1, 1, 1, 1, 1, 1, 1, 1, 1, 1, 1, 1, 1, 1, 1, 1, 1, 1, 1, 0,\n",
      "         0, 0, 0, 0, 0, 0, 0, 0, 0, 0, 0, 0, 0, 0, 0, 0, 0, 0, 0, 0, 0, 0, 0, 0,\n",
      "         0, 0, 0, 0, 0, 0, 0, 0, 0, 0, 0, 0, 0, 0, 0, 0, 0, 0, 0, 0, 0, 0, 0, 0,\n",
      "         0, 0, 0, 0, 0, 0, 0, 0, 0, 0, 0, 0, 0, 0, 0, 0, 0, 0, 0, 0, 0, 0, 0, 0,\n",
      "         0, 0, 0, 0, 0, 0, 0, 0],\n",
      "        [1, 1, 1, 1, 1, 1, 1, 1, 1, 1, 1, 1, 1, 1, 1, 1, 1, 1, 1, 1, 1, 1, 1, 1,\n",
      "         1, 1, 1, 1, 1, 1, 1, 1, 1, 1, 1, 1, 1, 1, 1, 1, 1, 1, 1, 1, 1, 1, 1, 1,\n",
      "         1, 1, 1, 0, 0, 0, 0, 0, 0, 0, 0, 0, 0, 0, 0, 0, 0, 0, 0, 0, 0, 0, 0, 0,\n",
      "         0, 0, 0, 0, 0, 0, 0, 0, 0, 0, 0, 0, 0, 0, 0, 0, 0, 0, 0, 0, 0, 0, 0, 0,\n",
      "         0, 0, 0, 0, 0, 0, 0, 0, 0, 0, 0, 0, 0, 0, 0, 0, 0, 0, 0, 0, 0, 0, 0, 0,\n",
      "         0, 0, 0, 0, 0, 0, 0, 0]])\n",
      "}\n"
     ]
    }
   ],
   "source": [
    "# You can pass multiple strings into the tokenizer and pad them as you need\n",
    "model_inputs = tokenizer([\"number of patients grouped by race.\",\n",
    "                         \"How many patients does each race group contain?\",\n",
    "                          \"Counts of patients taking drug <ARG-DRUG><0> and <ARG-DRUG><1> within <ARG-TIMEDAYS><0> days.\",\n",
    "                          \"Counts of patients with condition <ARG-CONDITION><0>, <ARG-CONDITION><1>, and <ARG-CONDITION><2>.\",\n",
    "                         ],\n",
    "                         return_tensors=\"pt\",\n",
    "                         padding=\"max_length\",\n",
    "                         max_length = 128,\n",
    "                         truncation=True)\n",
    "print(f\"Pad token: {tokenizer.pad_token} | Pad token id: {tokenizer.pad_token_id}\")\n",
    "print(\"Padding:\")\n",
    "print_encoding(model_inputs)"
   ]
  },
  {
   "cell_type": "code",
   "execution_count": 5,
   "id": "70063127",
   "metadata": {},
   "outputs": [
    {
     "name": "stdout",
     "output_type": "stream",
     "text": [
      "Batch Decode:\n",
      "['number of patients grouped by race.</s> <pad> <pad> <pad> <pad> <pad> <pad> <pad> <pad> <pad> <pad> <pad> <pad> <pad> <pad> <pad> <pad> <pad> <pad> <pad> <pad> <pad> <pad> <pad> <pad> <pad> <pad> <pad> <pad> <pad> <pad> <pad> <pad> <pad> <pad> <pad> <pad> <pad> <pad> <pad> <pad> <pad> <pad> <pad> <pad> <pad> <pad> <pad> <pad> <pad> <pad> <pad> <pad> <pad> <pad> <pad> <pad> <pad> <pad> <pad> <pad> <pad> <pad> <pad> <pad> <pad> <pad> <pad> <pad> <pad> <pad> <pad> <pad> <pad> <pad> <pad> <pad> <pad> <pad> <pad> <pad> <pad> <pad> <pad> <pad> <pad> <pad> <pad> <pad> <pad> <pad> <pad> <pad> <pad> <pad> <pad> <pad> <pad> <pad> <pad> <pad> <pad> <pad> <pad> <pad> <pad> <pad> <pad> <pad> <pad> <pad> <pad> <pad> <pad> <pad> <pad> <pad> <pad> <pad> <pad>', 'How many patients does each race group contain?</s> <pad> <pad> <pad> <pad> <pad> <pad> <pad> <pad> <pad> <pad> <pad> <pad> <pad> <pad> <pad> <pad> <pad> <pad> <pad> <pad> <pad> <pad> <pad> <pad> <pad> <pad> <pad> <pad> <pad> <pad> <pad> <pad> <pad> <pad> <pad> <pad> <pad> <pad> <pad> <pad> <pad> <pad> <pad> <pad> <pad> <pad> <pad> <pad> <pad> <pad> <pad> <pad> <pad> <pad> <pad> <pad> <pad> <pad> <pad> <pad> <pad> <pad> <pad> <pad> <pad> <pad> <pad> <pad> <pad> <pad> <pad> <pad> <pad> <pad> <pad> <pad> <pad> <pad> <pad> <pad> <pad> <pad> <pad> <pad> <pad> <pad> <pad> <pad> <pad> <pad> <pad> <pad> <pad> <pad> <pad> <pad> <pad> <pad> <pad> <pad> <pad> <pad> <pad> <pad> <pad> <pad> <pad> <pad> <pad> <pad> <pad> <pad> <pad> <pad> <pad> <pad> <pad> <pad>', 'Counts of patients taking drug <unk> ARG-DRUG><unk> 0> and <unk> ARG-DRUG><unk> 1> within <unk> ARG-TIMEDAYS><unk> 0> days.</s> <pad> <pad> <pad> <pad> <pad> <pad> <pad> <pad> <pad> <pad> <pad> <pad> <pad> <pad> <pad> <pad> <pad> <pad> <pad> <pad> <pad> <pad> <pad> <pad> <pad> <pad> <pad> <pad> <pad> <pad> <pad> <pad> <pad> <pad> <pad> <pad> <pad> <pad> <pad> <pad> <pad> <pad> <pad> <pad> <pad> <pad> <pad> <pad> <pad> <pad> <pad> <pad> <pad> <pad> <pad> <pad> <pad> <pad> <pad> <pad> <pad> <pad> <pad> <pad> <pad> <pad> <pad> <pad> <pad> <pad> <pad> <pad> <pad> <pad> <pad> <pad> <pad> <pad> <pad> <pad> <pad>', 'Counts of patients with condition <unk> ARG-CONDITION><unk> 0>, <unk> ARG-CONDITION><unk> 1>, and <unk> ARG-CONDITION><unk> 2>.</s> <pad> <pad> <pad> <pad> <pad> <pad> <pad> <pad> <pad> <pad> <pad> <pad> <pad> <pad> <pad> <pad> <pad> <pad> <pad> <pad> <pad> <pad> <pad> <pad> <pad> <pad> <pad> <pad> <pad> <pad> <pad> <pad> <pad> <pad> <pad> <pad> <pad> <pad> <pad> <pad> <pad> <pad> <pad> <pad> <pad> <pad> <pad> <pad> <pad> <pad> <pad> <pad> <pad> <pad> <pad> <pad> <pad> <pad> <pad> <pad> <pad> <pad> <pad> <pad> <pad> <pad> <pad> <pad> <pad> <pad> <pad> <pad> <pad> <pad> <pad> <pad> <pad>']\n",
      "\n",
      "Batch Decode: (no special characters)\n",
      "['number of patients grouped by race.', 'How many patients does each race group contain?', 'Counts of patients taking drug ARG-DRUG>0> and ARG-DRUG>1> within ARG-TIMEDAYS>0> days.', 'Counts of patients with condition ARG-CONDITION>0>, ARG-CONDITION>1>, and ARG-CONDITION>2>.']\n"
     ]
    }
   ],
   "source": [
    "# You can also decode a whole batch at once:\n",
    "print(\"Batch Decode:\")\n",
    "print(tokenizer.batch_decode(model_inputs.input_ids))\n",
    "print()\n",
    "print(\"Batch Decode: (no special characters)\")\n",
    "print(tokenizer.batch_decode(model_inputs.input_ids, skip_special_tokens=True))"
   ]
  },
  {
   "cell_type": "code",
   "execution_count": 6,
   "id": "d9a2ba3d",
   "metadata": {},
   "outputs": [
    {
     "data": {
      "text/plain": [
       "tensor([  381,    13,  1221,     3, 31801,    57,  1964,     5,     1,     0,\n",
       "            0,     0,     0,     0,     0,     0,     0,     0,     0,     0,\n",
       "            0,     0,     0,     0,     0,     0,     0,     0,     0,     0,\n",
       "            0,     0,     0,     0,     0,     0,     0,     0,     0,     0,\n",
       "            0,     0,     0,     0,     0,     0,     0,     0,     0,     0,\n",
       "            0,     0,     0,     0,     0,     0,     0,     0,     0,     0,\n",
       "            0,     0,     0,     0,     0,     0,     0,     0,     0,     0,\n",
       "            0,     0,     0,     0,     0,     0,     0,     0,     0,     0,\n",
       "            0,     0,     0,     0,     0,     0,     0,     0,     0,     0,\n",
       "            0,     0,     0,     0,     0,     0,     0,     0,     0,     0,\n",
       "            0,     0,     0,     0,     0,     0,     0,     0,     0,     0,\n",
       "            0,     0,     0,     0,     0,     0,     0,     0,     0,     0,\n",
       "            0,     0,     0,     0,     0,     0,     0,     0])"
      ]
     },
     "execution_count": 6,
     "metadata": {},
     "output_type": "execute_result"
    }
   ],
   "source": [
    "model_inputs.input_ids[0]"
   ]
  },
  {
   "cell_type": "code",
   "execution_count": 7,
   "id": "774c3d5f",
   "metadata": {},
   "outputs": [
    {
     "name": "stdout",
     "output_type": "stream",
     "text": [
      "['▁number', '▁of', '▁patients', '▁', 'grouped', '▁by', '▁race', '.', '</s>', '<pad>', '<pad>', '<pad>', '<pad>', '<pad>', '<pad>', '<pad>', '<pad>', '<pad>', '<pad>', '<pad>', '<pad>', '<pad>', '<pad>', '<pad>', '<pad>', '<pad>', '<pad>', '<pad>', '<pad>', '<pad>', '<pad>', '<pad>', '<pad>', '<pad>', '<pad>', '<pad>', '<pad>', '<pad>', '<pad>', '<pad>', '<pad>', '<pad>', '<pad>', '<pad>', '<pad>', '<pad>', '<pad>', '<pad>', '<pad>', '<pad>', '<pad>', '<pad>', '<pad>', '<pad>', '<pad>', '<pad>', '<pad>', '<pad>', '<pad>', '<pad>', '<pad>', '<pad>', '<pad>', '<pad>', '<pad>', '<pad>', '<pad>', '<pad>', '<pad>', '<pad>', '<pad>', '<pad>', '<pad>', '<pad>', '<pad>', '<pad>', '<pad>', '<pad>', '<pad>', '<pad>', '<pad>', '<pad>', '<pad>', '<pad>', '<pad>', '<pad>', '<pad>', '<pad>', '<pad>', '<pad>', '<pad>', '<pad>', '<pad>', '<pad>', '<pad>', '<pad>', '<pad>', '<pad>', '<pad>', '<pad>', '<pad>', '<pad>', '<pad>', '<pad>', '<pad>', '<pad>', '<pad>', '<pad>', '<pad>', '<pad>', '<pad>', '<pad>', '<pad>', '<pad>', '<pad>', '<pad>', '<pad>', '<pad>', '<pad>', '<pad>', '<pad>', '<pad>', '<pad>', '<pad>', '<pad>', '<pad>', '<pad>', '<pad>']\n"
     ]
    }
   ],
   "source": [
    "tokens = tokenizer.convert_ids_to_tokens(model_inputs.input_ids[0])\n",
    "print(tokens)"
   ]
  },
  {
   "cell_type": "code",
   "execution_count": 8,
   "id": "e8a34842",
   "metadata": {},
   "outputs": [
    {
     "data": {
      "text/plain": [
       "tensor([[    0, 32099,  1221,     3, 31801,    57,  1964,     5,  7720,    13,\n",
       "          1221,     3, 31801,    57,  1964,     5,     1,     0,     0,     0,\n",
       "             0,     0,     0,     0,     0,     0,     0,     0,     0,     0,\n",
       "             0,     0,     0,     0,     0,     0,     0,     0,     0,     0,\n",
       "             0,     0,     0,     0,     0,     0,     0,     0,     0,     0,\n",
       "             0,     0,     0,     0,     0,     0,     0,     0,     0,     0,\n",
       "             0,     0,     0,     0,     0,     0,     0,     0,     0,     0,\n",
       "             0,     0,     0,     0,     0,     0,     0,     0,     0,     0,\n",
       "             0,     0,     0,     0,     0,     0,     0,     0,     0,     0,\n",
       "             0,     0,     0,     0,     0,     0,     0,     0,     0,     0,\n",
       "             0,     0,     0,     0,     0,     0,     0,     0,     0,     0,\n",
       "             0,     0,     0,     0,     0],\n",
       "        [    0, 32099,  1221,   399,  1964,   563,    58, 32098,  1221,   399,\n",
       "          1964,   563,    58,   571,   186,  1221,   405,   284,  1964,   563,\n",
       "          3480,    58,   571,   186,  1221,   405,   284,  1964,   563,  3480,\n",
       "            58,     1,     0,     0,     0,     0,     0,     0,     0,     0,\n",
       "             0,     0,     0,     0,     0,     0,     0,     0,     0,     0,\n",
       "             0,     0,     0,     0,     0,     0,     0,     0,     0,     0,\n",
       "             0,     0,     0,     0,     0,     0,     0,     0,     0,     0,\n",
       "             0,     0,     0,     0,     0,     0,     0,     0,     0,     0,\n",
       "             0,     0,     0,     0,     0,     0,     0,     0,     0,     0,\n",
       "             0,     0,     0,     0,     0,     0,     0,     0,     0,     0,\n",
       "             0,     0,     0,     0,     0,     0,     0,     0,     0,     0,\n",
       "             0,     0,     0,     0,     0],\n",
       "        [    0, 32099,     3, 10628,     7,    13,  1221,   838,  2672,     3,\n",
       "             2,  4280,   517,    18,  3913, 19046,  3155,     2,   632,  3155,\n",
       "            11,     3,     2,  4280,   517,    18,  3913, 19046,  3155,     2,\n",
       "           536,  3155,   441,     3,     2,  4280,   517,    18,   382, 15382,\n",
       "         12860,   134,  3155,     2,   632,  3155,   477,     5,     3, 10628,\n",
       "             7,    13,  1221,   838,  2672,     3,     2,  4280,   517,    18,\n",
       "          3913, 19046,  3155,     2,   632,  3155,    11,     3,     2,  4280,\n",
       "           517,    18,  3913, 19046,  3155,     2,   536,  3155,   477,     5,\n",
       "             3, 10628,     7,    13,  1221,   838,  2672,     3,     2,  4280,\n",
       "           517,    18,  3913, 19046,  3155,     2,   632,  3155,    11,     3,\n",
       "             2,  4280,   517,    18,  3913, 19046,  3155,     2,   536,  3155,\n",
       "           477,     5,     3, 10628,     1],\n",
       "        [    0, 32099,     3, 10628,     7,    13,  1221,    28,  1706,     3,\n",
       "             2,  4280,   517,    18, 17752,   308,   196,  9562,  3155,     2,\n",
       "           632,  3155,     6,     3,     2,  4280,   517,    18, 17752,   308,\n",
       "           196,  9562,  3155,     2,   536,  3155,     6,    11,     3,     2,\n",
       "          4280,   517,    18, 17752,   308,   196,  9562,  3155,     2,   357,\n",
       "          3155,     5,     3, 10628,     7,    13,  1221,    28,  1706,     3,\n",
       "             2,  4280,   517,    18, 17752,   308,   196,  9562,  3155,     2,\n",
       "           632,  3155,     6,     3,     2,  4280,   517,    18, 17752,   308,\n",
       "           196,  9562,  3155,     2,   536,  3155,     6,    11,     3,     2,\n",
       "          4280,   517,    18, 17752,   308,   196,  9562,  3155,     2,   357,\n",
       "          3155,     5,     3, 10628,     7,    13,  1221,    28,  1706,     3,\n",
       "             2,  4280,   517,    18,     1]])"
      ]
     },
     "execution_count": 8,
     "metadata": {},
     "output_type": "execute_result"
    }
   ],
   "source": [
    "output = model.generate(**model_inputs,\n",
    "            max_length=512,\n",
    "            use_cache=True,\n",
    "            num_beams=2,\n",
    "        )\n",
    "\n",
    "output"
   ]
  },
  {
   "cell_type": "code",
   "execution_count": 9,
   "id": "947b4da3",
   "metadata": {},
   "outputs": [
    {
     "data": {
      "text/plain": [
       "['<pad>',\n",
       " '<extra_id_0>',\n",
       " 'patients',\n",
       " '',\n",
       " 'grouped',\n",
       " 'by',\n",
       " 'race',\n",
       " '.',\n",
       " 'Number',\n",
       " 'of',\n",
       " 'patients',\n",
       " '',\n",
       " 'grouped',\n",
       " 'by',\n",
       " 'race',\n",
       " '.',\n",
       " '</s>',\n",
       " '<pad>',\n",
       " '<pad>',\n",
       " '<pad>',\n",
       " '<pad>',\n",
       " '<pad>',\n",
       " '<pad>',\n",
       " '<pad>',\n",
       " '<pad>',\n",
       " '<pad>',\n",
       " '<pad>',\n",
       " '<pad>',\n",
       " '<pad>',\n",
       " '<pad>',\n",
       " '<pad>',\n",
       " '<pad>',\n",
       " '<pad>',\n",
       " '<pad>',\n",
       " '<pad>',\n",
       " '<pad>',\n",
       " '<pad>',\n",
       " '<pad>',\n",
       " '<pad>',\n",
       " '<pad>',\n",
       " '<pad>',\n",
       " '<pad>',\n",
       " '<pad>',\n",
       " '<pad>',\n",
       " '<pad>',\n",
       " '<pad>',\n",
       " '<pad>',\n",
       " '<pad>',\n",
       " '<pad>',\n",
       " '<pad>',\n",
       " '<pad>',\n",
       " '<pad>',\n",
       " '<pad>',\n",
       " '<pad>',\n",
       " '<pad>',\n",
       " '<pad>',\n",
       " '<pad>',\n",
       " '<pad>',\n",
       " '<pad>',\n",
       " '<pad>',\n",
       " '<pad>',\n",
       " '<pad>',\n",
       " '<pad>',\n",
       " '<pad>',\n",
       " '<pad>',\n",
       " '<pad>',\n",
       " '<pad>',\n",
       " '<pad>',\n",
       " '<pad>',\n",
       " '<pad>',\n",
       " '<pad>',\n",
       " '<pad>',\n",
       " '<pad>',\n",
       " '<pad>',\n",
       " '<pad>',\n",
       " '<pad>',\n",
       " '<pad>',\n",
       " '<pad>',\n",
       " '<pad>',\n",
       " '<pad>',\n",
       " '<pad>',\n",
       " '<pad>',\n",
       " '<pad>',\n",
       " '<pad>',\n",
       " '<pad>',\n",
       " '<pad>',\n",
       " '<pad>',\n",
       " '<pad>',\n",
       " '<pad>',\n",
       " '<pad>',\n",
       " '<pad>',\n",
       " '<pad>',\n",
       " '<pad>',\n",
       " '<pad>',\n",
       " '<pad>',\n",
       " '<pad>',\n",
       " '<pad>',\n",
       " '<pad>',\n",
       " '<pad>',\n",
       " '<pad>',\n",
       " '<pad>',\n",
       " '<pad>',\n",
       " '<pad>',\n",
       " '<pad>',\n",
       " '<pad>',\n",
       " '<pad>',\n",
       " '<pad>',\n",
       " '<pad>',\n",
       " '<pad>',\n",
       " '<pad>',\n",
       " '<pad>',\n",
       " '<pad>',\n",
       " '<pad>',\n",
       " '<pad>',\n",
       " '<pad>']"
      ]
     },
     "execution_count": 9,
     "metadata": {},
     "output_type": "execute_result"
    }
   ],
   "source": [
    "tokenizer.batch_decode(output[0])"
   ]
  },
  {
   "cell_type": "markdown",
   "id": "4afee1bc",
   "metadata": {},
   "source": [
    "#### Using translate English to SQL:"
   ]
  },
  {
   "cell_type": "markdown",
   "id": "8282f037",
   "metadata": {},
   "source": [
    "https://huggingface.co/mrm8488/t5-base-finetuned-wikiSQL?text=translate+English+to+SQL%3A+How+many+models+were+finetuned+using+BERT+as+base+model%3F"
   ]
  },
  {
   "cell_type": "code",
   "execution_count": 10,
   "id": "207b373f",
   "metadata": {},
   "outputs": [
    {
     "name": "stdout",
     "output_type": "stream",
     "text": [
      "Pad token: <pad> | Pad token id: 0\n",
      "Padding:\n",
      "{\n",
      "    input_ids:\n",
      "        tensor([[13959,  1566,    12, 12558,    10,   381,    13,  1221,     3, 31801,\n",
      "            57,  1964,     5,     1,     0,     0,     0,     0,     0,     0,\n",
      "             0,     0,     0,     0,     0,     0,     0,     0,     0,     0,\n",
      "             0,     0,     0,     0,     0,     0,     0,     0,     0,     0,\n",
      "             0,     0,     0,     0,     0,     0,     0,     0,     0,     0,\n",
      "             0,     0,     0,     0,     0,     0,     0,     0,     0,     0,\n",
      "             0,     0,     0,     0,     0,     0,     0,     0,     0,     0,\n",
      "             0,     0,     0,     0,     0,     0,     0,     0,     0,     0,\n",
      "             0,     0,     0,     0,     0,     0,     0,     0,     0,     0,\n",
      "             0,     0,     0,     0,     0,     0,     0,     0,     0,     0,\n",
      "             0,     0,     0,     0,     0,     0,     0,     0,     0,     0,\n",
      "             0,     0,     0,     0,     0,     0,     0,     0,     0,     0,\n",
      "             0,     0,     0,     0,     0,     0,     0,     0],\n",
      "        [13959,  1566,    12, 12558,    10,   571,   186,  1221,   405,   284,\n",
      "          1964,   563,  3480,    58,     1,     0,     0,     0,     0,     0,\n",
      "             0,     0,     0,     0,     0,     0,     0,     0,     0,     0,\n",
      "             0,     0,     0,     0,     0,     0,     0,     0,     0,     0,\n",
      "             0,     0,     0,     0,     0,     0,     0,     0,     0,     0,\n",
      "             0,     0,     0,     0,     0,     0,     0,     0,     0,     0,\n",
      "             0,     0,     0,     0,     0,     0,     0,     0,     0,     0,\n",
      "             0,     0,     0,     0,     0,     0,     0,     0,     0,     0,\n",
      "             0,     0,     0,     0,     0,     0,     0,     0,     0,     0,\n",
      "             0,     0,     0,     0,     0,     0,     0,     0,     0,     0,\n",
      "             0,     0,     0,     0,     0,     0,     0,     0,     0,     0,\n",
      "             0,     0,     0,     0,     0,     0,     0,     0,     0,     0,\n",
      "             0,     0,     0,     0,     0,     0,     0,     0],\n",
      "        [13959,  1566,    12, 12558,    10,     3, 10628,     7,    13,  1221,\n",
      "           838,  2672,     3,     2,  4280,   517,    18,  3913, 19046,  3155,\n",
      "             2,   632,  3155,    11,     3,     2,  4280,   517,    18,  3913,\n",
      "         19046,  3155,     2,   536,  3155,   441,     3,     2,  4280,   517,\n",
      "            18,   382, 15382, 12860,   134,  3155,     2,   632,  3155,   477,\n",
      "             5,     1,     0,     0,     0,     0,     0,     0,     0,     0,\n",
      "             0,     0,     0,     0,     0,     0,     0,     0,     0,     0,\n",
      "             0,     0,     0,     0,     0,     0,     0,     0,     0,     0,\n",
      "             0,     0,     0,     0,     0,     0,     0,     0,     0,     0,\n",
      "             0,     0,     0,     0,     0,     0,     0,     0,     0,     0,\n",
      "             0,     0,     0,     0,     0,     0,     0,     0,     0,     0,\n",
      "             0,     0,     0,     0,     0,     0,     0,     0,     0,     0,\n",
      "             0,     0,     0,     0,     0,     0,     0,     0],\n",
      "        [13959,  1566,    12, 12558,    10,     3, 10628,     7,    13,  1221,\n",
      "            28,  1706,     3,     2,  4280,   517,    18, 17752,   308,   196,\n",
      "          9562,  3155,     2,   632,  3155,     6,     3,     2,  4280,   517,\n",
      "            18, 17752,   308,   196,  9562,  3155,     2,   536,  3155,     6,\n",
      "            11,     3,     2,  4280,   517,    18, 17752,   308,   196,  9562,\n",
      "          3155,     2,   357,  3155,     5,     1,     0,     0,     0,     0,\n",
      "             0,     0,     0,     0,     0,     0,     0,     0,     0,     0,\n",
      "             0,     0,     0,     0,     0,     0,     0,     0,     0,     0,\n",
      "             0,     0,     0,     0,     0,     0,     0,     0,     0,     0,\n",
      "             0,     0,     0,     0,     0,     0,     0,     0,     0,     0,\n",
      "             0,     0,     0,     0,     0,     0,     0,     0,     0,     0,\n",
      "             0,     0,     0,     0,     0,     0,     0,     0,     0,     0,\n",
      "             0,     0,     0,     0,     0,     0,     0,     0]])\n",
      "    attention_mask:\n",
      "        tensor([[1, 1, 1, 1, 1, 1, 1, 1, 1, 1, 1, 1, 1, 1, 0, 0, 0, 0, 0, 0, 0, 0, 0, 0,\n",
      "         0, 0, 0, 0, 0, 0, 0, 0, 0, 0, 0, 0, 0, 0, 0, 0, 0, 0, 0, 0, 0, 0, 0, 0,\n",
      "         0, 0, 0, 0, 0, 0, 0, 0, 0, 0, 0, 0, 0, 0, 0, 0, 0, 0, 0, 0, 0, 0, 0, 0,\n",
      "         0, 0, 0, 0, 0, 0, 0, 0, 0, 0, 0, 0, 0, 0, 0, 0, 0, 0, 0, 0, 0, 0, 0, 0,\n",
      "         0, 0, 0, 0, 0, 0, 0, 0, 0, 0, 0, 0, 0, 0, 0, 0, 0, 0, 0, 0, 0, 0, 0, 0,\n",
      "         0, 0, 0, 0, 0, 0, 0, 0],\n",
      "        [1, 1, 1, 1, 1, 1, 1, 1, 1, 1, 1, 1, 1, 1, 1, 0, 0, 0, 0, 0, 0, 0, 0, 0,\n",
      "         0, 0, 0, 0, 0, 0, 0, 0, 0, 0, 0, 0, 0, 0, 0, 0, 0, 0, 0, 0, 0, 0, 0, 0,\n",
      "         0, 0, 0, 0, 0, 0, 0, 0, 0, 0, 0, 0, 0, 0, 0, 0, 0, 0, 0, 0, 0, 0, 0, 0,\n",
      "         0, 0, 0, 0, 0, 0, 0, 0, 0, 0, 0, 0, 0, 0, 0, 0, 0, 0, 0, 0, 0, 0, 0, 0,\n",
      "         0, 0, 0, 0, 0, 0, 0, 0, 0, 0, 0, 0, 0, 0, 0, 0, 0, 0, 0, 0, 0, 0, 0, 0,\n",
      "         0, 0, 0, 0, 0, 0, 0, 0],\n",
      "        [1, 1, 1, 1, 1, 1, 1, 1, 1, 1, 1, 1, 1, 1, 1, 1, 1, 1, 1, 1, 1, 1, 1, 1,\n",
      "         1, 1, 1, 1, 1, 1, 1, 1, 1, 1, 1, 1, 1, 1, 1, 1, 1, 1, 1, 1, 1, 1, 1, 1,\n",
      "         1, 1, 1, 1, 0, 0, 0, 0, 0, 0, 0, 0, 0, 0, 0, 0, 0, 0, 0, 0, 0, 0, 0, 0,\n",
      "         0, 0, 0, 0, 0, 0, 0, 0, 0, 0, 0, 0, 0, 0, 0, 0, 0, 0, 0, 0, 0, 0, 0, 0,\n",
      "         0, 0, 0, 0, 0, 0, 0, 0, 0, 0, 0, 0, 0, 0, 0, 0, 0, 0, 0, 0, 0, 0, 0, 0,\n",
      "         0, 0, 0, 0, 0, 0, 0, 0],\n",
      "        [1, 1, 1, 1, 1, 1, 1, 1, 1, 1, 1, 1, 1, 1, 1, 1, 1, 1, 1, 1, 1, 1, 1, 1,\n",
      "         1, 1, 1, 1, 1, 1, 1, 1, 1, 1, 1, 1, 1, 1, 1, 1, 1, 1, 1, 1, 1, 1, 1, 1,\n",
      "         1, 1, 1, 1, 1, 1, 1, 1, 0, 0, 0, 0, 0, 0, 0, 0, 0, 0, 0, 0, 0, 0, 0, 0,\n",
      "         0, 0, 0, 0, 0, 0, 0, 0, 0, 0, 0, 0, 0, 0, 0, 0, 0, 0, 0, 0, 0, 0, 0, 0,\n",
      "         0, 0, 0, 0, 0, 0, 0, 0, 0, 0, 0, 0, 0, 0, 0, 0, 0, 0, 0, 0, 0, 0, 0, 0,\n",
      "         0, 0, 0, 0, 0, 0, 0, 0]])\n",
      "}\n"
     ]
    }
   ],
   "source": [
    "model_inputs = tokenizer([\"translate English to SQL: number of patients grouped by race.\",\n",
    "                         \"translate English to SQL: How many patients does each race group contain?\",\n",
    "                          \"translate English to SQL: Counts of patients taking drug <ARG-DRUG><0> and <ARG-DRUG><1> within <ARG-TIMEDAYS><0> days.\",\n",
    "                          \"translate English to SQL: Counts of patients with condition <ARG-CONDITION><0>, <ARG-CONDITION><1>, and <ARG-CONDITION><2>.\",\n",
    "                         ],\n",
    "                         return_tensors=\"pt\",\n",
    "                         padding=\"max_length\", \n",
    "                         max_length=128,\n",
    "                         truncation=True)\n",
    "print(f\"Pad token: {tokenizer.pad_token} | Pad token id: {tokenizer.pad_token_id}\")\n",
    "print(\"Padding:\")\n",
    "print_encoding(model_inputs)"
   ]
  },
  {
   "cell_type": "code",
   "execution_count": 11,
   "id": "5fa1c294",
   "metadata": {},
   "outputs": [
    {
     "name": "stdout",
     "output_type": "stream",
     "text": [
      "Batch Decode: (no special characters)\n",
      "['translate English to SQL: number of patients grouped by race.', 'translate English to SQL: How many patients does each race group contain?', 'translate English to SQL: Counts of patients taking drug ARG-DRUG>0> and ARG-DRUG>1> within ARG-TIMEDAYS>0> days.', 'translate English to SQL: Counts of patients with condition ARG-CONDITION>0>, ARG-CONDITION>1>, and ARG-CONDITION>2>.']\n"
     ]
    }
   ],
   "source": [
    "# print(\"Batch Decode:\")\n",
    "# print(tokenizer.batch_decode(model_inputs.input_ids))\n",
    "# print()\n",
    "print(\"Batch Decode: (no special characters)\")\n",
    "print(tokenizer.batch_decode(model_inputs.input_ids, skip_special_tokens=True))"
   ]
  },
  {
   "cell_type": "code",
   "execution_count": 12,
   "id": "54c5d869",
   "metadata": {},
   "outputs": [
    {
     "data": {
      "text/plain": [
       "tensor([[    0,     3, 23143, 14196,  2847, 17161, 17656, 21680,   953,   549,\n",
       "         17444,   427, 10949,  3274,  1531,    15,    26,     1,     0,     0,\n",
       "             0,     0,     0,     0,     0,     0,     0,     0,     0,     0,\n",
       "             0,     0,     0,     0,     0,     0,     0,     0,     0,     0,\n",
       "             0,     0,     0,     0,     0,     0,     0,     0,     0,     0,\n",
       "             0,     0,     0,     0,     0,     0,     0,     0],\n",
       "        [    0,     3, 23143, 14196,  2847, 17161, 17656, 21680,   953,   549,\n",
       "         17444,   427, 10949,  1531,  3274, 10949,  1531,     1,     0,     0,\n",
       "             0,     0,     0,     0,     0,     0,     0,     0,     0,     0,\n",
       "             0,     0,     0,     0,     0,     0,     0,     0,     0,     0,\n",
       "             0,     0,     0,     0,     0,     0,     0,     0,     0,     0,\n",
       "             0,     0,     0,     0,     0,     0,     0,     0],\n",
       "        [    0,     3, 23143, 14196,     3, 10628,     7,    13,  1221,   838,\n",
       "          2672,     3,     2,  4280,   517,    18,  3913, 19046,  3155,     2,\n",
       "           632,  3155,  3430,     3,     2,  4280,   517,    18,  3913, 19046,\n",
       "          3155,     2,   536,  3155,     3,     2,  4280,   517,    18, 13368,\n",
       "         16803,     7,  3155,     2,   632,  3155,     1,     0,     0,     0,\n",
       "             0,     0,     0,     0,     0,     0,     0,     0],\n",
       "        [    0,     3, 23143, 14196,     3, 10628,     7, 21680,   953,   549,\n",
       "         17444,   427, 24239,  3274,     3,     2,  4280,   517,    18, 17752,\n",
       "           308,   196,  9562,  3155,     2,   632,  3155,     6,     3,     2,\n",
       "          4280,   517,    18, 17752,   308,   196,  9562,  3155,     2,   536,\n",
       "          3155,  3430, 24239,  3274,     3,     2,  4280,   517,    18, 17752,\n",
       "           308,   196,  9562,  3155,     2,   357,  3155,     1]])"
      ]
     },
     "execution_count": 12,
     "metadata": {},
     "output_type": "execute_result"
    }
   ],
   "source": [
    "output = model.generate(**model_inputs,\n",
    "            max_length=512,\n",
    "            use_cache=True,\n",
    "            num_beams=2,\n",
    "        )\n",
    "\n",
    "output"
   ]
  },
  {
   "cell_type": "code",
   "execution_count": 13,
   "id": "386dda82",
   "metadata": {},
   "outputs": [
    {
     "data": {
      "text/plain": [
       "['translate',\n",
       " 'English',\n",
       " 'to',\n",
       " 'SQL',\n",
       " ':',\n",
       " 'number',\n",
       " 'of',\n",
       " 'patients',\n",
       " '',\n",
       " 'grouped',\n",
       " 'by',\n",
       " 'race',\n",
       " '.',\n",
       " '</s>',\n",
       " '<pad>',\n",
       " '<pad>',\n",
       " '<pad>',\n",
       " '<pad>',\n",
       " '<pad>',\n",
       " '<pad>']"
      ]
     },
     "execution_count": 13,
     "metadata": {},
     "output_type": "execute_result"
    }
   ],
   "source": [
    "tokenizer.batch_decode(model_inputs.input_ids[0], skip_special_tokens=False, clean_up_tokenization_spaces=True)[:20]"
   ]
  },
  {
   "cell_type": "code",
   "execution_count": 14,
   "id": "bef6b8ef",
   "metadata": {},
   "outputs": [
    {
     "data": {
      "text/plain": [
       "['<pad>',\n",
       " '',\n",
       " 'SEL',\n",
       " 'ECT',\n",
       " 'CO',\n",
       " 'UNT',\n",
       " 'Patient',\n",
       " 'FROM',\n",
       " 'table',\n",
       " 'W',\n",
       " 'HER',\n",
       " 'E',\n",
       " 'Race',\n",
       " '=',\n",
       " 'Group',\n",
       " 'e',\n",
       " 'd',\n",
       " '</s>',\n",
       " '<pad>',\n",
       " '<pad>',\n",
       " '<pad>',\n",
       " '<pad>',\n",
       " '<pad>',\n",
       " '<pad>',\n",
       " '<pad>',\n",
       " '<pad>',\n",
       " '<pad>',\n",
       " '<pad>',\n",
       " '<pad>',\n",
       " '<pad>',\n",
       " '<pad>',\n",
       " '<pad>',\n",
       " '<pad>',\n",
       " '<pad>',\n",
       " '<pad>',\n",
       " '<pad>',\n",
       " '<pad>',\n",
       " '<pad>',\n",
       " '<pad>',\n",
       " '<pad>',\n",
       " '<pad>',\n",
       " '<pad>',\n",
       " '<pad>',\n",
       " '<pad>',\n",
       " '<pad>',\n",
       " '<pad>',\n",
       " '<pad>',\n",
       " '<pad>',\n",
       " '<pad>',\n",
       " '<pad>',\n",
       " '<pad>',\n",
       " '<pad>',\n",
       " '<pad>',\n",
       " '<pad>',\n",
       " '<pad>',\n",
       " '<pad>',\n",
       " '<pad>',\n",
       " '<pad>']"
      ]
     },
     "execution_count": 14,
     "metadata": {},
     "output_type": "execute_result"
    }
   ],
   "source": [
    "tokenizer.batch_decode(output[0], skip_special_tokens=True, clean_up_tokenization_spaces=True)"
   ]
  },
  {
   "cell_type": "code",
   "execution_count": 15,
   "id": "5a63b51b",
   "metadata": {},
   "outputs": [
    {
     "data": {
      "text/plain": [
       "'SELECT COUNT Patient FROM table WHERE Race = Grouped'"
      ]
     },
     "execution_count": 15,
     "metadata": {},
     "output_type": "execute_result"
    }
   ],
   "source": [
    "tokenizer.decode(output[0], skip_special_tokens=True, clean_up_tokenization_spaces=True)"
   ]
  },
  {
   "cell_type": "code",
   "execution_count": 16,
   "id": "75dd59db",
   "metadata": {},
   "outputs": [
    {
     "data": {
      "text/plain": [
       "T5Config {\n",
       "  \"_name_or_path\": \"mrm8488/t5-base-finetuned-wikiSQL\",\n",
       "  \"architectures\": [\n",
       "    \"T5ForConditionalGeneration\"\n",
       "  ],\n",
       "  \"d_ff\": 3072,\n",
       "  \"d_kv\": 64,\n",
       "  \"d_model\": 768,\n",
       "  \"decoder_start_token_id\": 0,\n",
       "  \"dropout_rate\": 0.1,\n",
       "  \"eos_token_id\": 1,\n",
       "  \"feed_forward_proj\": \"relu\",\n",
       "  \"initializer_factor\": 1.0,\n",
       "  \"is_encoder_decoder\": true,\n",
       "  \"layer_norm_epsilon\": 1e-06,\n",
       "  \"model_type\": \"t5\",\n",
       "  \"n_positions\": 512,\n",
       "  \"num_decoder_layers\": 12,\n",
       "  \"num_heads\": 12,\n",
       "  \"num_layers\": 12,\n",
       "  \"output_past\": true,\n",
       "  \"pad_token_id\": 0,\n",
       "  \"relative_attention_max_distance\": 128,\n",
       "  \"relative_attention_num_buckets\": 32,\n",
       "  \"task_specific_params\": {\n",
       "    \"summarization\": {\n",
       "      \"early_stopping\": true,\n",
       "      \"length_penalty\": 2.0,\n",
       "      \"max_length\": 200,\n",
       "      \"min_length\": 30,\n",
       "      \"no_repeat_ngram_size\": 3,\n",
       "      \"num_beams\": 4,\n",
       "      \"prefix\": \"summarize: \"\n",
       "    },\n",
       "    \"translation_en_to_de\": {\n",
       "      \"early_stopping\": true,\n",
       "      \"max_length\": 300,\n",
       "      \"num_beams\": 4,\n",
       "      \"prefix\": \"translate English to German: \"\n",
       "    },\n",
       "    \"translation_en_to_fr\": {\n",
       "      \"early_stopping\": true,\n",
       "      \"max_length\": 300,\n",
       "      \"num_beams\": 4,\n",
       "      \"prefix\": \"translate English to French: \"\n",
       "    },\n",
       "    \"translation_en_to_ro\": {\n",
       "      \"early_stopping\": true,\n",
       "      \"max_length\": 300,\n",
       "      \"num_beams\": 4,\n",
       "      \"prefix\": \"translate English to Romanian: \"\n",
       "    }\n",
       "  },\n",
       "  \"transformers_version\": \"4.19.2\",\n",
       "  \"use_cache\": true,\n",
       "  \"vocab_size\": 32128\n",
       "}"
      ]
     },
     "execution_count": 16,
     "metadata": {},
     "output_type": "execute_result"
    }
   ],
   "source": [
    "model.config"
   ]
  },
  {
   "cell_type": "code",
   "execution_count": 17,
   "id": "28e8e625",
   "metadata": {},
   "outputs": [],
   "source": [
    "Paths = {\n",
    "    'Data': './../../Data/',\n",
    "    'Train': './../../Data/PreparedText2SQL/train.csv',\n",
    "    'Validation': './../../Data/PreparedText2SQL/validation.csv',\n",
    "    'Test': './../../Data/PreparedText2SQL/test.csv',\n",
    "}"
   ]
  },
  {
   "cell_type": "code",
   "execution_count": 18,
   "id": "09d666e3",
   "metadata": {},
   "outputs": [
    {
     "data": {
      "text/html": [
       "<div>\n",
       "<style scoped>\n",
       "    .dataframe tbody tr th:only-of-type {\n",
       "        vertical-align: middle;\n",
       "    }\n",
       "\n",
       "    .dataframe tbody tr th {\n",
       "        vertical-align: top;\n",
       "    }\n",
       "\n",
       "    .dataframe thead th {\n",
       "        text-align: right;\n",
       "    }\n",
       "</style>\n",
       "<table border=\"1\" class=\"dataframe\">\n",
       "  <thead>\n",
       "    <tr style=\"text-align: right;\">\n",
       "      <th></th>\n",
       "      <th>Unnamed: 0</th>\n",
       "      <th>Base_Question</th>\n",
       "      <th>Folded_Question</th>\n",
       "      <th>Query_Generated</th>\n",
       "    </tr>\n",
       "  </thead>\n",
       "  <tbody>\n",
       "    <tr>\n",
       "      <th>0</th>\n",
       "      <td>0</td>\n",
       "      <td>Count of patients grouped by race.</td>\n",
       "      <td>How many patients are in each race group?</td>\n",
       "      <td>SELECT race, COUNT(DISTINCT pe1.person_id) AS ...</td>\n",
       "    </tr>\n",
       "    <tr>\n",
       "      <th>1</th>\n",
       "      <td>1</td>\n",
       "      <td>Count of patients grouped by race.</td>\n",
       "      <td>How many patients fit into each race group?</td>\n",
       "      <td>SELECT race, COUNT(DISTINCT pe1.person_id) AS ...</td>\n",
       "    </tr>\n",
       "    <tr>\n",
       "      <th>2</th>\n",
       "      <td>2</td>\n",
       "      <td>Count of patients grouped by race.</td>\n",
       "      <td>How many patients end up in each race group?</td>\n",
       "      <td>SELECT race, COUNT(DISTINCT pe1.person_id) AS ...</td>\n",
       "    </tr>\n",
       "    <tr>\n",
       "      <th>3</th>\n",
       "      <td>3</td>\n",
       "      <td>Count of patients grouped by race.</td>\n",
       "      <td>How many patients were in each race group?</td>\n",
       "      <td>SELECT race, COUNT(DISTINCT pe1.person_id) AS ...</td>\n",
       "    </tr>\n",
       "    <tr>\n",
       "      <th>4</th>\n",
       "      <td>4</td>\n",
       "      <td>Count of patients grouped by race.</td>\n",
       "      <td>How many patients fitted into each race group?</td>\n",
       "      <td>SELECT race, COUNT(DISTINCT pe1.person_id) AS ...</td>\n",
       "    </tr>\n",
       "    <tr>\n",
       "      <th>...</th>\n",
       "      <td>...</td>\n",
       "      <td>...</td>\n",
       "      <td>...</td>\n",
       "      <td>...</td>\n",
       "    </tr>\n",
       "    <tr>\n",
       "      <th>596956</th>\n",
       "      <td>596956</td>\n",
       "      <td>counts of patients with taking drug &lt;ARG-DRUG&gt;...</td>\n",
       "      <td>tell me how many patients are taking &lt;ARG-DRUG...</td>\n",
       "      <td>SELECT DATE_PART_YEAR(drug_exposure_start_date...</td>\n",
       "    </tr>\n",
       "    <tr>\n",
       "      <th>596957</th>\n",
       "      <td>596957</td>\n",
       "      <td>counts of patients with taking drug &lt;ARG-DRUG&gt;...</td>\n",
       "      <td>tell me how many people are taking &lt;ARG-DRUG&gt;&lt;...</td>\n",
       "      <td>SELECT DATE_PART_YEAR(drug_exposure_start_date...</td>\n",
       "    </tr>\n",
       "    <tr>\n",
       "      <th>596958</th>\n",
       "      <td>596958</td>\n",
       "      <td>counts of patients with taking drug &lt;ARG-DRUG&gt;...</td>\n",
       "      <td>tell me how many persons are taking &lt;ARG-DRUG&gt;...</td>\n",
       "      <td>SELECT DATE_PART_YEAR(drug_exposure_start_date...</td>\n",
       "    </tr>\n",
       "    <tr>\n",
       "      <th>596959</th>\n",
       "      <td>596959</td>\n",
       "      <td>counts of patients with taking drug &lt;ARG-DRUG&gt;...</td>\n",
       "      <td>tell me how many individuals are taking &lt;ARG-D...</td>\n",
       "      <td>SELECT DATE_PART_YEAR(drug_exposure_start_date...</td>\n",
       "    </tr>\n",
       "    <tr>\n",
       "      <th>596960</th>\n",
       "      <td>596960</td>\n",
       "      <td>counts of patients with taking drug &lt;ARG-DRUG&gt;...</td>\n",
       "      <td>tell me how many subjects are taking &lt;ARG-DRUG...</td>\n",
       "      <td>SELECT DATE_PART_YEAR(drug_exposure_start_date...</td>\n",
       "    </tr>\n",
       "  </tbody>\n",
       "</table>\n",
       "<p>596961 rows × 4 columns</p>\n",
       "</div>"
      ],
      "text/plain": [
       "        Unnamed: 0                                      Base_Question  \\\n",
       "0                0                 Count of patients grouped by race.   \n",
       "1                1                 Count of patients grouped by race.   \n",
       "2                2                 Count of patients grouped by race.   \n",
       "3                3                 Count of patients grouped by race.   \n",
       "4                4                 Count of patients grouped by race.   \n",
       "...            ...                                                ...   \n",
       "596956      596956  counts of patients with taking drug <ARG-DRUG>...   \n",
       "596957      596957  counts of patients with taking drug <ARG-DRUG>...   \n",
       "596958      596958  counts of patients with taking drug <ARG-DRUG>...   \n",
       "596959      596959  counts of patients with taking drug <ARG-DRUG>...   \n",
       "596960      596960  counts of patients with taking drug <ARG-DRUG>...   \n",
       "\n",
       "                                          Folded_Question  \\\n",
       "0               How many patients are in each race group?   \n",
       "1             How many patients fit into each race group?   \n",
       "2            How many patients end up in each race group?   \n",
       "3              How many patients were in each race group?   \n",
       "4          How many patients fitted into each race group?   \n",
       "...                                                   ...   \n",
       "596956  tell me how many patients are taking <ARG-DRUG...   \n",
       "596957  tell me how many people are taking <ARG-DRUG><...   \n",
       "596958  tell me how many persons are taking <ARG-DRUG>...   \n",
       "596959  tell me how many individuals are taking <ARG-D...   \n",
       "596960  tell me how many subjects are taking <ARG-DRUG...   \n",
       "\n",
       "                                          Query_Generated  \n",
       "0       SELECT race, COUNT(DISTINCT pe1.person_id) AS ...  \n",
       "1       SELECT race, COUNT(DISTINCT pe1.person_id) AS ...  \n",
       "2       SELECT race, COUNT(DISTINCT pe1.person_id) AS ...  \n",
       "3       SELECT race, COUNT(DISTINCT pe1.person_id) AS ...  \n",
       "4       SELECT race, COUNT(DISTINCT pe1.person_id) AS ...  \n",
       "...                                                   ...  \n",
       "596956  SELECT DATE_PART_YEAR(drug_exposure_start_date...  \n",
       "596957  SELECT DATE_PART_YEAR(drug_exposure_start_date...  \n",
       "596958  SELECT DATE_PART_YEAR(drug_exposure_start_date...  \n",
       "596959  SELECT DATE_PART_YEAR(drug_exposure_start_date...  \n",
       "596960  SELECT DATE_PART_YEAR(drug_exposure_start_date...  \n",
       "\n",
       "[596961 rows x 4 columns]"
      ]
     },
     "execution_count": 18,
     "metadata": {},
     "output_type": "execute_result"
    }
   ],
   "source": [
    "import pandas as pd\n",
    "\n",
    "df_train = pd.read_csv(Paths['Train'])\n",
    "df_train"
   ]
  },
  {
   "cell_type": "code",
   "execution_count": 24,
   "id": "1fa8750c",
   "metadata": {},
   "outputs": [
    {
     "data": {
      "text/plain": [
       "(198, 1190)"
      ]
     },
     "execution_count": 24,
     "metadata": {},
     "output_type": "execute_result"
    }
   ],
   "source": [
    "max_folded = 0\n",
    "max_query = 0\n",
    "for i, f in df_train.iterrows():\n",
    "    folded = len(f['Folded_Question']) #f['Folded_Question']\n",
    "    query = len(f['Query_Generated'])  #f['Query_Generated']\n",
    "    \n",
    "    if folded > max_folded:\n",
    "        max_folded = folded\n",
    "    if query > max_query:\n",
    "        max_query = query\n",
    "        \n",
    "max_folded, max_query"
   ]
  },
  {
   "cell_type": "code",
   "execution_count": 25,
   "id": "d85ff1b9",
   "metadata": {},
   "outputs": [],
   "source": [
    "b = [ 3, 23143, 14196,  2847, 17161,   599,     3, 15438, 25424,  6227,\n",
    "    3,    26,    52,  5411,  6075,   834,    23,    26,    61, 21680,\n",
    "   41,  6306, 20557, 20211,  4275,    26, 13534,   834, 19300,  4334,\n",
    "    3,    26,    52,   536,     3, 15355,  3162,    41,   599,  6306,\n",
    " 3913, 19046,    18, 20050,  5329,  6048,   908,  6306,  4280,   517,\n",
    "   18,  3913, 19046,   908,  6306,   632,   908,  4417,  9215,   784,\n",
    " 3913, 19046,    18, 20050,  5329,  6048,   908,  6306,  4280,   517,\n",
    "   18,  3913, 19046,   908,  6306,   536,   908,    61,  4417,  9215,\n",
    "  784,  3913, 19046,    18, 20050,  5329,  6048,   908,  6306,  4280,\n",
    "  517,    18,  3913, 19046,   908,  6306,   357,   908,    61,  9191,\n",
    "    3,    26,    52,  5411,    26, 13534,   834,  1018,  6873,   834,\n",
    "   23,    26,  2423,  1018,  6873,   834,    23,    26,    61,     3,\n",
    "  117,     1]"
   ]
  },
  {
   "cell_type": "code",
   "execution_count": 26,
   "id": "af0a6b52",
   "metadata": {},
   "outputs": [],
   "source": [
    "c = [    3, 23143, 14196,  2847, 17161,   599,     3, 15438, 25424,  6227,\n",
    "    3,    26,    52,  5411,  6075,   834,    23,    26,    61, 21680,\n",
    "   41,  6306, 20557, 20211,  4275,    26, 13534,   834, 19300,  4334,\n",
    "    3,    26,    52,   536,     3, 15355,  3162,    41,   599,  6306,\n",
    " 3913, 19046,    18, 20050,  5329,  6048,   908,  6306,  4280,   517,\n",
    "   18,  3913, 19046,   908,  6306,   632,   908,  4417,  9215,   784,\n",
    " 3913, 19046,    18, 20050,  5329,  6048,   908,  6306,  4280,   517,\n",
    "   18,  3913, 19046,   908,  6306,   536,   908,    61,  4417,  9215,\n",
    "  784,  3913, 19046,    18, 20050,  5329,  6048,   908,  6306,  4280,\n",
    "  517,    18,  3913, 19046,   908,  6306,   357,   908,    61,  9191,\n",
    "    3,    26,    52,  5411,    26, 13534,   834,  1018,  6873,   834,\n",
    "   23,    26,  2423,  1018,  6873,   834,    23,    26,    61,     3,\n",
    "  117,     1]"
   ]
  },
  {
   "cell_type": "code",
   "execution_count": 27,
   "id": "bbe77f85",
   "metadata": {},
   "outputs": [
    {
     "data": {
      "text/plain": [
       "True"
      ]
     },
     "execution_count": 27,
     "metadata": {},
     "output_type": "execute_result"
    }
   ],
   "source": [
    "b == c"
   ]
  },
  {
   "cell_type": "code",
   "execution_count": null,
   "id": "66cb2108",
   "metadata": {},
   "outputs": [],
   "source": []
  }
 ],
 "metadata": {
  "kernelspec": {
   "display_name": "Python 3 (ipykernel)",
   "language": "python",
   "name": "python3"
  },
  "language_info": {
   "codemirror_mode": {
    "name": "ipython",
    "version": 3
   },
   "file_extension": ".py",
   "mimetype": "text/x-python",
   "name": "python",
   "nbconvert_exporter": "python",
   "pygments_lexer": "ipython3",
   "version": "3.8.12"
  }
 },
 "nbformat": 4,
 "nbformat_minor": 5
}

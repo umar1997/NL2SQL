{
 "cells": [
  {
   "cell_type": "markdown",
   "id": "e21362a3",
   "metadata": {},
   "source": [
    "## Logging\n",
    "\n",
    "\n",
    "https://towardsdatascience.com/8-advanced-python-logging-features-that-you-shouldnt-miss-a68a5ef1b62d#:~:text=Handler%20specifies%20the%20destination%20of,to%20streams%20such%20as%20sys.\n",
    "    \n",
    "https://docs.python.org/3/howto/logging-cookbook.html"
   ]
  },
  {
   "cell_type": "markdown",
   "id": "062f9684",
   "metadata": {},
   "source": [
    "#### Basic Logging"
   ]
  },
  {
   "cell_type": "code",
   "execution_count": null,
   "id": "fac8fd84",
   "metadata": {},
   "outputs": [],
   "source": [
    "# https://docs.python.org/3/library/logging.html\n",
    "\n",
    "# CRITICAL 50\n",
    "# ERROR    40\n",
    "# WARNING  30\n",
    "# INFO     20\n",
    "# DEBUG    10"
   ]
  },
  {
   "cell_type": "code",
   "execution_count": null,
   "id": "32cb4899",
   "metadata": {},
   "outputs": [],
   "source": [
    "import logging\n",
    "\n",
    "_log_format = f\"%(asctime)s - [%(levelname)s] - %(name)s - (%(filename)s).%(funcName)s(%(lineno)d) - %(message)s\"\n",
    "\n",
    "def get_file_handler(file_name):\n",
    "    file_handler = logging.FileHandler(file_name)\n",
    "    file_handler.setLevel(logging.WARNING)\n",
    "    file_handler.setFormatter(logging.Formatter(_log_format))\n",
    "    return file_handler\n",
    "\n",
    "def get_stream_handler():\n",
    "    stream_handler = logging.StreamHandler()\n",
    "    stream_handler.setLevel(logging.INFO)\n",
    "    stream_handler.setFormatter(logging.Formatter(_log_format))\n",
    "    return stream_handler\n",
    "\n",
    "def get_logger(name, file_name):\n",
    "    logger = logging.getLogger(name)\n",
    "    logger.setLevel(logging.DEBUG)\n",
    "    logger.addHandler(get_file_handler(file_name))\n",
    "    logger.addHandler(get_stream_handler())\n",
    "    return logger"
   ]
  },
  {
   "cell_type": "code",
   "execution_count": null,
   "id": "4745c7e3",
   "metadata": {},
   "outputs": [],
   "source": [
    "logger = get_logger('Example_Log', 'sample.log') # __name__ (Some ppl use this)"
   ]
  },
  {
   "cell_type": "code",
   "execution_count": null,
   "id": "76e2fa5f",
   "metadata": {},
   "outputs": [],
   "source": [
    "logger.info(\"Program starts\")\n",
    "logger.warning(\"This should appear in both console and log file\")\n",
    "logger.debug(\"Program is over\")"
   ]
  },
  {
   "cell_type": "markdown",
   "id": "56811e2e",
   "metadata": {},
   "source": [
    "### How to use different formatter with the same logger"
   ]
  },
  {
   "cell_type": "code",
   "execution_count": null,
   "id": "14efe407",
   "metadata": {},
   "outputs": [],
   "source": [
    "# https://stackoverflow.com/questions/1741972/how-to-use-different-formatters-with-the-same-logging-handler-in-python\n",
    "import logging\n",
    "\n",
    "class DispatchingFormatter:\n",
    "\n",
    "    def __init__(self, formatters, default_formatter):\n",
    "        self._formatters = formatters\n",
    "        self._default_formatter = default_formatter\n",
    "\n",
    "    def format(self, record):\n",
    "        formatter = self._formatters.get(record.name, self._default_formatter)\n",
    "        return formatter.format(record)\n",
    "\n",
    "\n",
    "stream_handler = logging.StreamHandler()\n",
    "stream_handler.setFormatter(DispatchingFormatter({\n",
    "        'base.foo': logging.Formatter('FOO: %(message)s'),\n",
    "        'base.bar': logging.Formatter('BAR: %(message)s'),\n",
    "    },\n",
    "    logging.Formatter('%(message)s'),\n",
    "))\n",
    "\n",
    "# logger = \n",
    "logging.getLogger().addHandler(stream_handler)\n",
    "# logger.addHandler(stream_handler)\n",
    "\n",
    "logging.getLogger('base.foo').error('Log from foo')\n",
    "logging.getLogger('base.bar').error('Log from bar')\n",
    "logging.getLogger('base.baz').error('Log from baz')"
   ]
  },
  {
   "cell_type": "code",
   "execution_count": null,
   "id": "7ac1ec5d",
   "metadata": {},
   "outputs": [],
   "source": [
    "logger_foo = logging.getLogger('base.foo')\n",
    "logger_foo.addHandler(stream_handler)\n",
    "\n",
    "logger_foo.warning('Logging from foo')\n",
    "# logging.getLogger('base.foo').error('Log from foo')\n",
    "# logging.getLogger('base.bar').error('Log from bar')\n",
    "# logging.getLogger('base.baz').error('Log from baz')"
   ]
  },
  {
   "cell_type": "code",
   "execution_count": null,
   "id": "6fd40b51",
   "metadata": {},
   "outputs": [],
   "source": []
  },
  {
   "cell_type": "markdown",
   "id": "ebad1e44",
   "metadata": {},
   "source": [
    "### Multiple Formatter with Basic Logger\n",
    "Using This"
   ]
  },
  {
   "cell_type": "code",
   "execution_count": null,
   "id": "96ecc02c",
   "metadata": {},
   "outputs": [],
   "source": [
    "import logging\n",
    "\n",
    "_log_format = f\"%(asctime)s - [%(levelname)s] - %(name)s - (%(filename)s).%(funcName)s(%(lineno)d) - %(message)s\"\n",
    "\n",
    "def get_file_handler(file_name):\n",
    "    file_handler = logging.FileHandler(file_name)\n",
    "    file_handler.setLevel(logging.INFO)\n",
    "    file_handler.setFormatter(logging.Formatter(_log_format, datefmt=\"%Y-%m-%d %H:%M\"))\n",
    "    return file_handler\n",
    "\n",
    "def get_file_handler_meta(file_name):\n",
    "    file_handler = logging.FileHandler(file_name)\n",
    "    file_handler.setLevel(logging.CRITICAL)\n",
    "    file_handler.setFormatter(logging.Formatter('# META-DATA: %(message)s'))\n",
    "    return file_handler\n",
    "\n",
    "def get_stream_handler():\n",
    "    stream_handler = logging.StreamHandler()\n",
    "    stream_handler.setLevel(logging.WARNING)\n",
    "    stream_handler.setFormatter(logging.Formatter(_log_format, datefmt=\"%Y-%m-%d %H:%M\"))\n",
    "    return stream_handler\n",
    "\n",
    "def get_logger(name, file_name, meta=None):\n",
    "    \n",
    "    logger = logging.getLogger(name)\n",
    "    logger.setLevel(logging.INFO)\n",
    "    if meta == 'meta':\n",
    "        logger.addHandler(get_file_handler_meta(file_name))\n",
    "    else:\n",
    "        logger.addHandler(get_file_handler(file_name))\n",
    "#     logger.addHandler(get_stream_handler())\n",
    "    return logger"
   ]
  },
  {
   "cell_type": "code",
   "execution_count": null,
   "id": "9bd4d7ed",
   "metadata": {},
   "outputs": [],
   "source": [
    "logger_meta = get_logger(name='Example', file_name='sample.log', meta='meta')"
   ]
  },
  {
   "cell_type": "code",
   "execution_count": null,
   "id": "d197dfd8",
   "metadata": {},
   "outputs": [],
   "source": [
    "logger_meta.critical('Hi this is meta\\n')"
   ]
  },
  {
   "cell_type": "code",
   "execution_count": null,
   "id": "1a287e54",
   "metadata": {},
   "outputs": [],
   "source": [
    "logger_non_meta = get_logger(name='Example3', file_name='sample.log')"
   ]
  },
  {
   "cell_type": "code",
   "execution_count": null,
   "id": "2d7726de",
   "metadata": {},
   "outputs": [],
   "source": [
    "logger_non_meta.info('Hi this is non meta')\n",
    "logger_non_meta.info('\\n')\n",
    "logger_non_meta.info('Hi this is non meta 2')"
   ]
  },
  {
   "cell_type": "markdown",
   "id": "1850423c",
   "metadata": {},
   "source": [
    "#### Example  \n",
    "https://github.com/uf-hobi-informatics-lab/ClinicalTransformerNER/blob/8ab97f5889222337a3b61060a203de4fc3cdb5be/src/common_utils/common_log.py#L13"
   ]
  },
  {
   "cell_type": "code",
   "execution_count": null,
   "id": "9bbe676b",
   "metadata": {},
   "outputs": [],
   "source": [
    "import logging\n",
    "\n",
    "LOG_LVLs = {\n",
    "    'i': logging.INFO,\n",
    "    'd': logging.DEBUG,\n",
    "    'e': logging.ERROR,\n",
    "    'w': logging.WARN\n",
    "}\n",
    "\n",
    "\n",
    "def create_logger(logger_name=\"\", log_level=\"d\", set_file=None):\n",
    "    logger = logging.getLogger(logger_name)\n",
    "    formatter = logging.Formatter(\"%(asctime)s - %(name)s - %(levelname)s - %(message)s\", datefmt=\"%Y-%m-%d %H:%M:%S\")\n",
    "    logger.setLevel(LOG_LVLs[log_level])\n",
    "    if set_file:\n",
    "        fh = logging.FileHandler(set_file)\n",
    "        fh.setFormatter(formatter)\n",
    "        fh.setLevel(LOG_LVLs[log_level])\n",
    "        logger.addHandler(fh)\n",
    "    else:\n",
    "        ch = logging.StreamHandler()\n",
    "        ch.setFormatter(formatter)\n",
    "        ch.setLevel(LOG_LVLs[log_level])\n",
    "        logger.addHandler(ch)\n",
    "\n",
    "    return loggerb"
   ]
  },
  {
   "cell_type": "code",
   "execution_count": null,
   "id": "d202c127",
   "metadata": {},
   "outputs": [],
   "source": [
    "import logging\n",
    "from pathlib import Path\n",
    "\n",
    "from common_utils.common_log import create_logger\n",
    "\n",
    "\n",
    "class TransformerNERLogger:\n",
    "    def __init__(self, logger_file=None, logger_level=logging.DEBUG):\n",
    "        self.lf = logger_file\n",
    "        self.lvl = logger_level\n",
    "\n",
    "    def set_log_info(self, logger_file, logger_level):\n",
    "        self.lf = logger_file\n",
    "        self.lvl = logger_level\n",
    "\n",
    "    def get_logger(self):\n",
    "        if self.lf:\n",
    "            return create_logger(\"Transformer_NER\", log_level=self.lvl, set_file=self.lf)"
   ]
  },
  {
   "cell_type": "code",
   "execution_count": null,
   "id": "01972fd5",
   "metadata": {},
   "outputs": [],
   "source": [
    "logger = TransformerNERLogger(logger_file = 'Something.log').get_logger()"
   ]
  },
  {
   "cell_type": "code",
   "execution_count": null,
   "id": "cd4c0fd0",
   "metadata": {},
   "outputs": [],
   "source": [
    "global_args.device = torch.device(\"cuda\" if torch.cuda.is_available() else \"cpu\")\n",
    "    logger.info(\"Task will use cuda device: GPU_{}.\".format(\n",
    "        torch.cuda.current_device()) if torch.cuda.device_count() else 'Task will use CPU.')"
   ]
  },
  {
   "cell_type": "code",
   "execution_count": null,
   "id": "4cfa3964",
   "metadata": {},
   "outputs": [],
   "source": [
    "__name__"
   ]
  },
  {
   "cell_type": "code",
   "execution_count": null,
   "id": "49e058e5",
   "metadata": {},
   "outputs": [],
   "source": [
    "logger = logging.getLogger(__name__)"
   ]
  }
 ],
 "metadata": {
  "kernelspec": {
   "display_name": "Python 3 (ipykernel)",
   "language": "python",
   "name": "python3"
  },
  "language_info": {
   "codemirror_mode": {
    "name": "ipython",
    "version": 3
   },
   "file_extension": ".py",
   "mimetype": "text/x-python",
   "name": "python",
   "nbconvert_exporter": "python",
   "pygments_lexer": "ipython3",
   "version": "3.8.12"
  }
 },
 "nbformat": 4,
 "nbformat_minor": 5
}

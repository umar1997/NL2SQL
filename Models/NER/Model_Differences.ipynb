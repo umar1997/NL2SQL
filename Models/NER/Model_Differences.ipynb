{
 "cells": [
  {
   "cell_type": "code",
   "execution_count": 11,
   "id": "94cde391",
   "metadata": {},
   "outputs": [],
   "source": [
    "import pandas as pd\n",
    "from tqdm import tqdm\n",
    "from transformers import AutoTokenizer"
   ]
  },
  {
   "cell_type": "code",
   "execution_count": 2,
   "id": "d46bad3f",
   "metadata": {},
   "outputs": [],
   "source": [
    "Paths = {\n",
    "            'Data': './../../Data/',\n",
    "            'Chia_w_scope': './../../Data/chia_with_scope/',\n",
    "            'Chia_wo_scope': './../../Data/chia_without_scope/',\n",
    "        }"
   ]
  },
  {
   "cell_type": "code",
   "execution_count": 3,
   "id": "45dadb76",
   "metadata": {},
   "outputs": [],
   "source": [
    "def eval_dataframe(df):\n",
    "\n",
    "    df['Text'] = df['Text'].apply(eval)\n",
    "    df['Group_Entities'] = df['Group_Entities'].apply(eval)\n",
    "    df['Relations'] = df['Relations'].apply(eval)\n",
    "    df['Tokens'] = df['Tokens'].apply(eval)\n",
    "    df['Entities'] = df['Entities'].apply(eval)\n",
    "\n",
    "    return df\n",
    "\n",
    "def get_tags_and_tokens(df):\n",
    "        \n",
    "    globalTags = []\n",
    "    globalTokens = []\n",
    "    prefixes = ['B-', 'I-']\n",
    "\n",
    "    for i, f in df.iterrows():\n",
    "        entities_in_file = f['Entities']\n",
    "        tokens_in_file = f['Tokens']\n",
    "        for ent in entities_in_file[0]:\n",
    "            entity_arr = []\n",
    "            for e in ent:\n",
    "                if (any(e.startswith(x) for x in prefixes)) or (e=='O'): entity_arr.append(e)\n",
    "                else: \n",
    "                    new_e = 'B-'+ e\n",
    "                    entity_arr.append(new_e)                  \n",
    "            globalTags.append(entity_arr)\n",
    "        for t in tokens_in_file:\n",
    "            globalTokens.append(t)\n",
    "        assert len(globalTokens[-1]) == len(globalTags[-1])\n",
    "    assert len(globalTokens) == len(globalTags) \n",
    "\n",
    "    return globalTokens, globalTags\n",
    "\n",
    "\n",
    "def create_dataframe(globalTokens, globalTags):\n",
    "    ner_df = pd.DataFrame()\n",
    "    ner_df['Tags'] = pd.Series(globalTags)\n",
    "    ner_df['Sentence'] = pd.Series(globalTokens)\n",
    "\n",
    "    return ner_df"
   ]
  },
  {
   "cell_type": "code",
   "execution_count": 4,
   "id": "ff118d57",
   "metadata": {},
   "outputs": [],
   "source": [
    "df = pd.read_csv(Paths['Data'] + 'Chia_w_scope_data.csv')\n",
    "df = df.drop(columns=df.columns[0], axis=1)\n",
    "\n",
    "df = eval_dataframe(df)\n",
    "globalTokens, globalTags = get_tags_and_tokens(df)\n",
    "ner_df = create_dataframe(globalTokens, globalTags)"
   ]
  },
  {
   "cell_type": "code",
   "execution_count": 5,
   "id": "05042b8d",
   "metadata": {},
   "outputs": [
    {
     "data": {
      "text/html": [
       "<div>\n",
       "<style scoped>\n",
       "    .dataframe tbody tr th:only-of-type {\n",
       "        vertical-align: middle;\n",
       "    }\n",
       "\n",
       "    .dataframe tbody tr th {\n",
       "        vertical-align: top;\n",
       "    }\n",
       "\n",
       "    .dataframe thead th {\n",
       "        text-align: right;\n",
       "    }\n",
       "</style>\n",
       "<table border=\"1\" class=\"dataframe\">\n",
       "  <thead>\n",
       "    <tr style=\"text-align: right;\">\n",
       "      <th></th>\n",
       "      <th>Tags</th>\n",
       "      <th>Sentence</th>\n",
       "    </tr>\n",
       "  </thead>\n",
       "  <tbody>\n",
       "    <tr>\n",
       "      <th>0</th>\n",
       "      <td>[B-Person, O, B-Value, I-Value, I-Value, I-Value]</td>\n",
       "      <td>[ages, of, 7, and, 75, years]</td>\n",
       "    </tr>\n",
       "    <tr>\n",
       "      <th>1</th>\n",
       "      <td>[O, B-Condition, O, O, B-Qualifier, B-Qualifie...</td>\n",
       "      <td>[marked, disability, owing, to, primary, gener...</td>\n",
       "    </tr>\n",
       "    <tr>\n",
       "      <th>2</th>\n",
       "      <td>[B-Measurement, I-Measurement, O, B-Value, I-V...</td>\n",
       "      <td>[disease, duration, of, at, least, 5, years]</td>\n",
       "    </tr>\n",
       "    <tr>\n",
       "      <th>3</th>\n",
       "      <td>[B-Temporal, B-Procedure, I-Procedure]</td>\n",
       "      <td>[previous, brain, surgery]</td>\n",
       "    </tr>\n",
       "    <tr>\n",
       "      <th>4</th>\n",
       "      <td>[B-Condition, I-Condition, B-Value, I-Value, I...</td>\n",
       "      <td>[cognitive, impairment, &lt;, 120, points, on, th...</td>\n",
       "    </tr>\n",
       "    <tr>\n",
       "      <th>...</th>\n",
       "      <td>...</td>\n",
       "      <td>...</td>\n",
       "    </tr>\n",
       "    <tr>\n",
       "      <th>12551</th>\n",
       "      <td>[O, O, O, B-Procedure, I-Procedure, I-Procedur...</td>\n",
       "      <td>[Medically, fit, for, definitive, surgical, ma...</td>\n",
       "    </tr>\n",
       "    <tr>\n",
       "      <th>12552</th>\n",
       "      <td>[B-Observation, I-Observation, B-Value, I-Valu...</td>\n",
       "      <td>[Life, expectancy, greater, than, one, year]</td>\n",
       "    </tr>\n",
       "    <tr>\n",
       "      <th>12553</th>\n",
       "      <td>[B-Condition, B-Negation, B-Temporal, I-Tempor...</td>\n",
       "      <td>[Stone, free, after, definitive, surgical, the...</td>\n",
       "    </tr>\n",
       "    <tr>\n",
       "      <th>12554</th>\n",
       "      <td>[O, O, B-Condition, I-Condition, O, O, O, B-Pr...</td>\n",
       "      <td>[Patients, with, medical, comorbidities, preve...</td>\n",
       "    </tr>\n",
       "    <tr>\n",
       "      <th>12555</th>\n",
       "      <td>[O, O, B-Qualifier, B-Observation, I-Observati...</td>\n",
       "      <td>[Patients, with, persistent, stone, burden, fo...</td>\n",
       "    </tr>\n",
       "  </tbody>\n",
       "</table>\n",
       "<p>12556 rows × 2 columns</p>\n",
       "</div>"
      ],
      "text/plain": [
       "                                                    Tags  \\\n",
       "0      [B-Person, O, B-Value, I-Value, I-Value, I-Value]   \n",
       "1      [O, B-Condition, O, O, B-Qualifier, B-Qualifie...   \n",
       "2      [B-Measurement, I-Measurement, O, B-Value, I-V...   \n",
       "3                 [B-Temporal, B-Procedure, I-Procedure]   \n",
       "4      [B-Condition, I-Condition, B-Value, I-Value, I...   \n",
       "...                                                  ...   \n",
       "12551  [O, O, O, B-Procedure, I-Procedure, I-Procedur...   \n",
       "12552  [B-Observation, I-Observation, B-Value, I-Valu...   \n",
       "12553  [B-Condition, B-Negation, B-Temporal, I-Tempor...   \n",
       "12554  [O, O, B-Condition, I-Condition, O, O, O, B-Pr...   \n",
       "12555  [O, O, B-Qualifier, B-Observation, I-Observati...   \n",
       "\n",
       "                                                Sentence  \n",
       "0                          [ages, of, 7, and, 75, years]  \n",
       "1      [marked, disability, owing, to, primary, gener...  \n",
       "2           [disease, duration, of, at, least, 5, years]  \n",
       "3                             [previous, brain, surgery]  \n",
       "4      [cognitive, impairment, <, 120, points, on, th...  \n",
       "...                                                  ...  \n",
       "12551  [Medically, fit, for, definitive, surgical, ma...  \n",
       "12552       [Life, expectancy, greater, than, one, year]  \n",
       "12553  [Stone, free, after, definitive, surgical, the...  \n",
       "12554  [Patients, with, medical, comorbidities, preve...  \n",
       "12555  [Patients, with, persistent, stone, burden, fo...  \n",
       "\n",
       "[12556 rows x 2 columns]"
      ]
     },
     "execution_count": 5,
     "metadata": {},
     "output_type": "execute_result"
    }
   ],
   "source": [
    "ner_df"
   ]
  },
  {
   "cell_type": "code",
   "execution_count": 6,
   "id": "995e50b5",
   "metadata": {},
   "outputs": [],
   "source": [
    "checkpoints = [\n",
    "    'dmis-lab/biobert-v1.1',\n",
    "    'bert-base-cased',\n",
    "    'microsoft/BiomedNLP-PubMedBERT-base-uncased-abstract-fulltext',\n",
    "    'fidukm34/biobert_v1.1_pubmed-finetuned-ner-finetuned-ner',\n",
    "    'sciarrilli/biobert-base-cased-v1.2-finetuned-ner',\n",
    "    'emilyalsentzer/Bio_ClinicalBERT',\n",
    "    'bionlp/bluebert_pubmed_mimic_uncased_L-24_H-1024_A-16',\n",
    "    'algoprog/mimics-tagging-roberta-base',\n",
    "    'monologg/biobert_v1.1_pubmed'\n",
    "]"
   ]
  },
  {
   "cell_type": "code",
   "execution_count": 9,
   "id": "8ea4892c",
   "metadata": {},
   "outputs": [
    {
     "name": "stdout",
     "output_type": "stream",
     "text": [
      "dmis-lab/biobert-v1.1\n"
     ]
    },
    {
     "name": "stderr",
     "output_type": "stream",
     "text": [
      "100%|█████████████████████████████████████| 12556/12556 [20:40<00:00, 10.12it/s]\n"
     ]
    },
    {
     "name": "stdout",
     "output_type": "stream",
     "text": [
      "bert-base-cased\n"
     ]
    },
    {
     "name": "stderr",
     "output_type": "stream",
     "text": [
      "100%|█████████████████████████████████████| 12556/12556 [20:39<00:00, 10.13it/s]\n"
     ]
    },
    {
     "name": "stdout",
     "output_type": "stream",
     "text": [
      "microsoft/BiomedNLP-PubMedBERT-base-uncased-abstract-fulltext\n"
     ]
    },
    {
     "name": "stderr",
     "output_type": "stream",
     "text": [
      "100%|█████████████████████████████████████| 12556/12556 [22:14<00:00,  9.41it/s]\n"
     ]
    },
    {
     "name": "stdout",
     "output_type": "stream",
     "text": [
      "fidukm34/biobert_v1.1_pubmed-finetuned-ner-finetuned-ner\n"
     ]
    },
    {
     "name": "stderr",
     "output_type": "stream",
     "text": [
      "100%|█████████████████████████████████████| 12556/12556 [20:48<00:00, 10.06it/s]\n"
     ]
    },
    {
     "name": "stdout",
     "output_type": "stream",
     "text": [
      "sciarrilli/biobert-base-cased-v1.2-finetuned-ner\n"
     ]
    },
    {
     "name": "stderr",
     "output_type": "stream",
     "text": [
      "100%|█████████████████████████████████████| 12556/12556 [20:48<00:00, 10.05it/s]\n"
     ]
    },
    {
     "name": "stdout",
     "output_type": "stream",
     "text": [
      "emilyalsentzer/Bio_ClinicalBERT\n"
     ]
    },
    {
     "name": "stderr",
     "output_type": "stream",
     "text": [
      "100%|█████████████████████████████████████| 12556/12556 [20:46<00:00, 10.07it/s]\n"
     ]
    },
    {
     "name": "stdout",
     "output_type": "stream",
     "text": [
      "bionlp/bluebert_pubmed_mimic_uncased_L-24_H-1024_A-16\n"
     ]
    },
    {
     "name": "stderr",
     "output_type": "stream",
     "text": [
      "100%|█████████████████████████████████████| 12556/12556 [22:02<00:00,  9.49it/s]\n"
     ]
    },
    {
     "name": "stdout",
     "output_type": "stream",
     "text": [
      "algoprog/mimics-tagging-roberta-base\n"
     ]
    },
    {
     "name": "stderr",
     "output_type": "stream",
     "text": [
      "100%|█████████████████████████████████████| 12556/12556 [53:51<00:00,  3.89it/s]\n"
     ]
    },
    {
     "name": "stdout",
     "output_type": "stream",
     "text": [
      "monologg/biobert_v1.1_pubmed\n"
     ]
    },
    {
     "name": "stderr",
     "output_type": "stream",
     "text": [
      "100%|█████████████████████████████████████| 12556/12556 [21:01<00:00,  9.96it/s]\n"
     ]
    }
   ],
   "source": [
    "Models = {}\n",
    "for cp in checkpoints:\n",
    "    print(cp)\n",
    "    tokenizer = AutoTokenizer.from_pretrained(cp, do_lower_case = True)\n",
    "    Models[cp] = {'vocab_size': len(tokenizer.vocab)}\n",
    "    for j in tqdm(range(len(ner_df))):\n",
    "        s_example = ner_df.loc[j]['Sentence']\n",
    "        t_example = ner_df.loc[j]['Tags']\n",
    "        for i, ex in enumerate(s_example):\n",
    "            try:\n",
    "                tokenizer.vocab[ex]\n",
    "            except:\n",
    "                tag = t_example[i]\n",
    "                if tag == 'O':\n",
    "                    continue\n",
    "                try:\n",
    "                    if tag.startswith('B-') or tag.startswith('I-'):\n",
    "                        Models[cp][tag[2:]] += 1\n",
    "                    else:\n",
    "                        Models[cp][tag] += 1\n",
    "                except:\n",
    "                    if tag.startswith('B-') or tag.startswith('I-'):\n",
    "                        Models[cp][tag[2:]] = 1\n",
    "                    else:\n",
    "                        Models[cp][tag] = 1"
   ]
  },
  {
   "cell_type": "code",
   "execution_count": 10,
   "id": "db94ded6",
   "metadata": {
    "scrolled": false
   },
   "outputs": [
    {
     "data": {
      "text/plain": [
       "{'dmis-lab/biobert-v1.1': {'vocab_size': 28996,\n",
       "  'Qualifier': 1960,\n",
       "  'Condition': 10373,\n",
       "  'Procedure': 2803,\n",
       "  'Measurement': 3324,\n",
       "  'Observation': 589,\n",
       "  'Drug': 3560,\n",
       "  'Value': 2519,\n",
       "  'Device': 381,\n",
       "  'Temporal': 679,\n",
       "  'Negation': 51,\n",
       "  'Person': 123},\n",
       " 'bert-base-cased': {'vocab_size': 28996,\n",
       "  'Qualifier': 1960,\n",
       "  'Condition': 10373,\n",
       "  'Procedure': 2803,\n",
       "  'Measurement': 3324,\n",
       "  'Observation': 589,\n",
       "  'Drug': 3560,\n",
       "  'Value': 2519,\n",
       "  'Device': 381,\n",
       "  'Temporal': 679,\n",
       "  'Negation': 51,\n",
       "  'Person': 123},\n",
       " 'microsoft/BiomedNLP-PubMedBERT-base-uncased-abstract-fulltext': {'vocab_size': 30522,\n",
       "  'Measurement': 3420,\n",
       "  'Condition': 4948,\n",
       "  'Procedure': 1340,\n",
       "  'Person': 636,\n",
       "  'Qualifier': 1471,\n",
       "  'Drug': 1941,\n",
       "  'Value': 2584,\n",
       "  'Observation': 740,\n",
       "  'Device': 156,\n",
       "  'Temporal': 692,\n",
       "  'Negation': 169},\n",
       " 'fidukm34/biobert_v1.1_pubmed-finetuned-ner-finetuned-ner': {'vocab_size': 28996,\n",
       "  'Qualifier': 1960,\n",
       "  'Condition': 10373,\n",
       "  'Procedure': 2803,\n",
       "  'Measurement': 3324,\n",
       "  'Observation': 589,\n",
       "  'Drug': 3560,\n",
       "  'Value': 2519,\n",
       "  'Device': 381,\n",
       "  'Temporal': 679,\n",
       "  'Negation': 51,\n",
       "  'Person': 123},\n",
       " 'sciarrilli/biobert-base-cased-v1.2-finetuned-ner': {'vocab_size': 28996,\n",
       "  'Qualifier': 1960,\n",
       "  'Condition': 10373,\n",
       "  'Procedure': 2803,\n",
       "  'Measurement': 3324,\n",
       "  'Observation': 589,\n",
       "  'Drug': 3560,\n",
       "  'Value': 2519,\n",
       "  'Device': 381,\n",
       "  'Temporal': 679,\n",
       "  'Negation': 51,\n",
       "  'Person': 123},\n",
       " 'emilyalsentzer/Bio_ClinicalBERT': {'vocab_size': 28996,\n",
       "  'Qualifier': 1960,\n",
       "  'Condition': 10373,\n",
       "  'Procedure': 2803,\n",
       "  'Measurement': 3324,\n",
       "  'Observation': 589,\n",
       "  'Drug': 3560,\n",
       "  'Value': 2519,\n",
       "  'Device': 381,\n",
       "  'Temporal': 679,\n",
       "  'Negation': 51,\n",
       "  'Person': 123},\n",
       " 'bionlp/bluebert_pubmed_mimic_uncased_L-24_H-1024_A-16': {'vocab_size': 30522,\n",
       "  'Qualifier': 2267,\n",
       "  'Condition': 9788,\n",
       "  'Procedure': 2840,\n",
       "  'Measurement': 4330,\n",
       "  'Observation': 942,\n",
       "  'Person': 636,\n",
       "  'Drug': 3448,\n",
       "  'Value': 2770,\n",
       "  'Device': 379,\n",
       "  'Temporal': 924,\n",
       "  'Negation': 168},\n",
       " 'algoprog/mimics-tagging-roberta-base': {'vocab_size': 50265,\n",
       "  'Condition': 16720,\n",
       "  'Qualifier': 3318,\n",
       "  'Procedure': 4701,\n",
       "  'Measurement': 4347,\n",
       "  'Value': 2702,\n",
       "  'Temporal': 2484,\n",
       "  'Observation': 1418,\n",
       "  'Drug': 4422,\n",
       "  'Device': 537,\n",
       "  'Negation': 159,\n",
       "  'Person': 329},\n",
       " 'monologg/biobert_v1.1_pubmed': {'vocab_size': 28996,\n",
       "  'Qualifier': 1960,\n",
       "  'Condition': 10373,\n",
       "  'Procedure': 2803,\n",
       "  'Measurement': 3324,\n",
       "  'Observation': 589,\n",
       "  'Drug': 3560,\n",
       "  'Value': 2519,\n",
       "  'Device': 381,\n",
       "  'Temporal': 679,\n",
       "  'Negation': 51,\n",
       "  'Person': 123}}"
      ]
     },
     "execution_count": 10,
     "metadata": {},
     "output_type": "execute_result"
    }
   ],
   "source": [
    "Models"
   ]
  },
  {
   "cell_type": "code",
   "execution_count": 12,
   "id": "7e186e51",
   "metadata": {},
   "outputs": [
    {
     "data": {
      "application/vnd.jupyter.widget-view+json": {
       "model_id": "76979c7f39344dcdaa710a7c2938928e",
       "version_major": 2,
       "version_minor": 0
      },
      "text/plain": [
       "Downloading:   0%|          | 0.00/289 [00:00<?, ?B/s]"
      ]
     },
     "metadata": {},
     "output_type": "display_data"
    },
    {
     "data": {
      "application/vnd.jupyter.widget-view+json": {
       "model_id": "76d4cd688b5e43318fe98d40d6105651",
       "version_major": 2,
       "version_minor": 0
      },
      "text/plain": [
       "Downloading:   0%|          | 0.00/456k [00:00<?, ?B/s]"
      ]
     },
     "metadata": {},
     "output_type": "display_data"
    },
    {
     "name": "stderr",
     "output_type": "stream",
     "text": [
      "100%|█████████████████████████████████████| 12556/12556 [54:25<00:00,  3.85it/s]\n"
     ]
    }
   ],
   "source": [
    "Models_Extra = {}\n",
    "cp = 'dmis-lab/biobert-large-cased-v1.1'\n",
    "tokenizer = AutoTokenizer.from_pretrained(cp, do_lower_case = True)\n",
    "Models_Extra[cp] = {'vocab_size': len(tokenizer.vocab)}\n",
    "for j in tqdm(range(len(ner_df))):\n",
    "    s_example = ner_df.loc[j]['Sentence']\n",
    "    t_example = ner_df.loc[j]['Tags']\n",
    "    for i, ex in enumerate(s_example):\n",
    "        try:\n",
    "            tokenizer.vocab[ex]\n",
    "        except:\n",
    "            tag = t_example[i]\n",
    "            if tag == 'O':\n",
    "                continue\n",
    "            try:\n",
    "                if tag.startswith('B-') or tag.startswith('I-'):\n",
    "                    Models_Extra[cp][tag[2:]] += 1\n",
    "                else:\n",
    "                    Models_Extra[cp][tag] += 1\n",
    "            except:\n",
    "                if tag.startswith('B-') or tag.startswith('I-'):\n",
    "                    Models_Extra[cp][tag[2:]] = 1\n",
    "                else:\n",
    "                    Models_Extra[cp][tag] = 1"
   ]
  },
  {
   "cell_type": "code",
   "execution_count": 13,
   "id": "457bf1d5",
   "metadata": {},
   "outputs": [
    {
     "data": {
      "text/plain": [
       "{'dmis-lab/biobert-large-cased-v1.1': {'vocab_size': 58996,\n",
       "  'Condition': 8589,\n",
       "  'Procedure': 2260,\n",
       "  'Measurement': 2657,\n",
       "  'Observation': 558,\n",
       "  'Qualifier': 1812,\n",
       "  'Drug': 3220,\n",
       "  'Value': 1820,\n",
       "  'Device': 320,\n",
       "  'Temporal': 631,\n",
       "  'Negation': 51,\n",
       "  'Person': 121}}"
      ]
     },
     "execution_count": 13,
     "metadata": {},
     "output_type": "execute_result"
    }
   ],
   "source": [
    "Models_Extra"
   ]
  },
  {
   "cell_type": "code",
   "execution_count": null,
   "id": "2c5896d2",
   "metadata": {},
   "outputs": [],
   "source": [
    "{'dmis-lab/biobert-v1.1': {'vocab_size': 28996,\n",
    "  'Qualifier': 1960,\n",
    "  'Condition': 10373,\n",
    "  'Procedure': 2803,\n",
    "  'Measurement': 3324,\n",
    "  'Observation': 589,\n",
    "  'Drug': 3560,\n",
    "  'Value': 2519,\n",
    "  'Device': 381,\n",
    "  'Temporal': 679,\n",
    "  'Negation': 51,\n",
    "  'Person': 123},"
   ]
  }
 ],
 "metadata": {
  "kernelspec": {
   "display_name": "Python 3 (ipykernel)",
   "language": "python",
   "name": "python3"
  },
  "language_info": {
   "codemirror_mode": {
    "name": "ipython",
    "version": 3
   },
   "file_extension": ".py",
   "mimetype": "text/x-python",
   "name": "python",
   "nbconvert_exporter": "python",
   "pygments_lexer": "ipython3",
   "version": "3.8.12"
  }
 },
 "nbformat": 4,
 "nbformat_minor": 5
}

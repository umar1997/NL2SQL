{
 "cells": [
  {
   "cell_type": "markdown",
   "id": "ea1711d4",
   "metadata": {},
   "source": [
    "### Import Libraries"
   ]
  },
  {
   "cell_type": "code",
   "execution_count": 115,
   "id": "b61dffac",
   "metadata": {},
   "outputs": [
    {
     "data": {
      "text/plain": [
       "'1.10.0+cu102'"
      ]
     },
     "execution_count": 115,
     "metadata": {},
     "output_type": "execute_result"
    }
   ],
   "source": [
    "import numpy as np \n",
    "import pandas as pd\n",
    "\n",
    "import time\n",
    "from tqdm import tqdm, trange\n",
    "\n",
    "import torch\n",
    "from torch.optim import AdamW\n",
    "from torch.utils.data import TensorDataset, DataLoader, RandomSampler, SequentialSampler\n",
    "\n",
    "from transformers import BertTokenizer, BertConfig\n",
    "from transformers import BertForTokenClassification, AdamW\n",
    "from transformers import get_linear_schedule_with_warmup\n",
    "\n",
    "from sklearn.model_selection import train_test_split\n",
    "from keras_preprocessing.sequence import pad_sequences\n",
    "from seqeval.metrics import f1_score, accuracy_score\n",
    "\n",
    "import plotly.graph_objects as go\n",
    "\n",
    "import matplotlib.pyplot as plt\n",
    "%matplotlib inline\n",
    "\n",
    "torch.__version__"
   ]
  },
  {
   "cell_type": "code",
   "execution_count": 65,
   "id": "7878f978",
   "metadata": {},
   "outputs": [
    {
     "name": "stdout",
     "output_type": "stream",
     "text": [
      "1\n",
      "cuda\n"
     ]
    }
   ],
   "source": [
    "device = torch.device('cuda' if torch.cuda.is_available() else 'cpu')\n",
    "print(torch.cuda.device_count())\n",
    "print(device)"
   ]
  },
  {
   "cell_type": "markdown",
   "id": "7893cb78",
   "metadata": {},
   "source": [
    "### Import Data"
   ]
  },
  {
   "cell_type": "code",
   "execution_count": 11,
   "id": "e4a0c9f2",
   "metadata": {},
   "outputs": [],
   "source": [
    "Paths = {\n",
    "    'Data': './../../Data/',\n",
    "    'Chia_w_scope': './../../Data/chia_with_scope/',\n",
    "    'Chia_wo_scope': './../../Data/chia_without_scope/',\n",
    "}"
   ]
  },
  {
   "cell_type": "code",
   "execution_count": 12,
   "id": "2a0e4013",
   "metadata": {},
   "outputs": [
    {
     "data": {
      "text/html": [
       "<div>\n",
       "<style scoped>\n",
       "    .dataframe tbody tr th:only-of-type {\n",
       "        vertical-align: middle;\n",
       "    }\n",
       "\n",
       "    .dataframe tbody tr th {\n",
       "        vertical-align: top;\n",
       "    }\n",
       "\n",
       "    .dataframe thead th {\n",
       "        text-align: right;\n",
       "    }\n",
       "</style>\n",
       "<table border=\"1\" class=\"dataframe\">\n",
       "  <thead>\n",
       "    <tr style=\"text-align: right;\">\n",
       "      <th></th>\n",
       "      <th>File</th>\n",
       "      <th>Criteria</th>\n",
       "      <th>Text</th>\n",
       "      <th>Group_Entities</th>\n",
       "      <th>Relations</th>\n",
       "      <th>Tokens</th>\n",
       "      <th>Entities</th>\n",
       "    </tr>\n",
       "  </thead>\n",
       "  <tbody>\n",
       "    <tr>\n",
       "      <th>0</th>\n",
       "      <td>NCT01497639_inc</td>\n",
       "      <td>inc</td>\n",
       "      <td>['ages of 7 and 75 years\\n', 'marked disabilit...</td>\n",
       "      <td>[('T1', 0, 4, 'Person', 'ages'), ('T2', 8, 22,...</td>\n",
       "      <td>[('R1', 'Has_value', 'T1 T2'), ('*', 'OR', 'T6...</td>\n",
       "      <td>[['ages', 'of', '7', 'and', '75', 'years'], ['...</td>\n",
       "      <td>([['Person', 'O', 'B-Value', 'I-Value', 'I-Val...</td>\n",
       "    </tr>\n",
       "    <tr>\n",
       "      <th>1</th>\n",
       "      <td>NCT01497639_exc</td>\n",
       "      <td>exc</td>\n",
       "      <td>['previous brain surgery;\\n', 'cognitive impai...</td>\n",
       "      <td>[('T1', 0, 8, 'Temporal', 'previous'), ('T2', ...</td>\n",
       "      <td>[('R1', 'Has_temporal', 'T2 T1'), ('R2', 'Has_...</td>\n",
       "      <td>[['previous', 'brain', 'surgery'], ['cognitive...</td>\n",
       "      <td>([['Temporal', 'B-Procedure', 'I-Procedure'], ...</td>\n",
       "    </tr>\n",
       "    <tr>\n",
       "      <th>2</th>\n",
       "      <td>NCT02609698_inc</td>\n",
       "      <td>inc</td>\n",
       "      <td>['Patients aged 19 or older\\n', 'Patients who ...</td>\n",
       "      <td>[('T1', 9, 13, 'Person', 'aged'), ('T2', 14, 2...</td>\n",
       "      <td>[('R1', 'Has_value', 'T1 T2')]</td>\n",
       "      <td>[['Patients', 'aged', '19', 'or', 'older'], ['...</td>\n",
       "      <td>([['O', 'Person', 'B-Value', 'I-Value', 'I-Val...</td>\n",
       "    </tr>\n",
       "    <tr>\n",
       "      <th>3</th>\n",
       "      <td>NCT02609698_exc</td>\n",
       "      <td>exc</td>\n",
       "      <td>['Patients with any contraindications or hyper...</td>\n",
       "      <td>[('T1', 18, 35, 'Condition', 'contraindication...</td>\n",
       "      <td>[('*', 'OR', 'T1 T2'), ('*', 'OR', 'T6 T7'), (...</td>\n",
       "      <td>[['Patients', 'with', 'any', 'contraindication...</td>\n",
       "      <td>([['O', 'O', 'O', 'Condition', 'O', 'Condition...</td>\n",
       "    </tr>\n",
       "    <tr>\n",
       "      <th>4</th>\n",
       "      <td>NCT01228279_inc</td>\n",
       "      <td>inc</td>\n",
       "      <td>['Adult (age 18 years and older)\\n', 'Patients...</td>\n",
       "      <td>[('T1', 0, 5, 'Person', 'Adult'), ('T2', 7, 10...</td>\n",
       "      <td>[('R1', 'Has_value', 'T2 T3'), ('R4', 'Has_qua...</td>\n",
       "      <td>[['Adult', 'age', '18', 'years', 'and', 'older...</td>\n",
       "      <td>([['Person', 'Person', 'B-Value', 'I-Value', '...</td>\n",
       "    </tr>\n",
       "    <tr>\n",
       "      <th>...</th>\n",
       "      <td>...</td>\n",
       "      <td>...</td>\n",
       "      <td>...</td>\n",
       "      <td>...</td>\n",
       "      <td>...</td>\n",
       "      <td>...</td>\n",
       "      <td>...</td>\n",
       "    </tr>\n",
       "    <tr>\n",
       "      <th>1945</th>\n",
       "      <td>NCT00894712_exc</td>\n",
       "      <td>exc</td>\n",
       "      <td>['Visible skin pathology, excessive freckles, ...</td>\n",
       "      <td>[('T1', 8, 22, 'Condition', 'skin pathology'),...</td>\n",
       "      <td>[('R1', 'Has_qualifier', 'T2 T3'), ('*', 'OR',...</td>\n",
       "      <td>[['Visible', 'skin', 'pathology', 'excessive',...</td>\n",
       "      <td>([['O', 'B-Condition', 'I-Condition', 'Qualifi...</td>\n",
       "    </tr>\n",
       "    <tr>\n",
       "      <th>1946</th>\n",
       "      <td>NCT02361892_inc</td>\n",
       "      <td>inc</td>\n",
       "      <td>['submucosal,\\n', 'intramural or subserosal le...</td>\n",
       "      <td>[('T1', 0, 10, 'Condition', 'submucosal'), ('T...</td>\n",
       "      <td>[]</td>\n",
       "      <td>[['submucosal'], ['intramural', 'or', 'subsero...</td>\n",
       "      <td>([['Condition'], ['B-Condition', 'O', 'B-Condi...</td>\n",
       "    </tr>\n",
       "    <tr>\n",
       "      <th>1947</th>\n",
       "      <td>NCT02361892_exc</td>\n",
       "      <td>exc</td>\n",
       "      <td>['endometrial hyperplasia with atypia,\\n', 'es...</td>\n",
       "      <td>[('T1', 0, 23, 'Condition', 'endometrial hyper...</td>\n",
       "      <td>[]</td>\n",
       "      <td>[['endometrial', 'hyperplasia', 'with', 'atypi...</td>\n",
       "      <td>([['B-Condition', 'I-Condition', 'O', 'Conditi...</td>\n",
       "    </tr>\n",
       "    <tr>\n",
       "      <th>1948</th>\n",
       "      <td>NCT02375295_inc</td>\n",
       "      <td>inc</td>\n",
       "      <td>['Male or Female.\\n', 'No age restriction.\\n',...</td>\n",
       "      <td>[('T1', 0, 4, 'Person', 'Male'), ('T2', 8, 14,...</td>\n",
       "      <td>[('*', 'OR', 'T1 T2'), ('R1', 'Has_qualifier',...</td>\n",
       "      <td>[['Male', 'or', 'Female'], ['No', 'age', 'rest...</td>\n",
       "      <td>([['Person', 'O', 'Person'], ['O', 'O', 'O'], ...</td>\n",
       "    </tr>\n",
       "    <tr>\n",
       "      <th>1949</th>\n",
       "      <td>NCT02375295_exc</td>\n",
       "      <td>exc</td>\n",
       "      <td>['Patients with medical comorbidities preventi...</td>\n",
       "      <td>[('T1', 14, 35, 'Condition', 'medical comorbid...</td>\n",
       "      <td>[('R2', 'AND', 'T1 T2'), ('R4', 'AND', 'T6 T8'...</td>\n",
       "      <td>[['Patients', 'with', 'medical', 'comorbiditie...</td>\n",
       "      <td>([['O', 'O', 'B-Condition', 'I-Condition', 'O'...</td>\n",
       "    </tr>\n",
       "  </tbody>\n",
       "</table>\n",
       "<p>1950 rows × 7 columns</p>\n",
       "</div>"
      ],
      "text/plain": [
       "                 File Criteria  \\\n",
       "0     NCT01497639_inc      inc   \n",
       "1     NCT01497639_exc      exc   \n",
       "2     NCT02609698_inc      inc   \n",
       "3     NCT02609698_exc      exc   \n",
       "4     NCT01228279_inc      inc   \n",
       "...               ...      ...   \n",
       "1945  NCT00894712_exc      exc   \n",
       "1946  NCT02361892_inc      inc   \n",
       "1947  NCT02361892_exc      exc   \n",
       "1948  NCT02375295_inc      inc   \n",
       "1949  NCT02375295_exc      exc   \n",
       "\n",
       "                                                   Text  \\\n",
       "0     ['ages of 7 and 75 years\\n', 'marked disabilit...   \n",
       "1     ['previous brain surgery;\\n', 'cognitive impai...   \n",
       "2     ['Patients aged 19 or older\\n', 'Patients who ...   \n",
       "3     ['Patients with any contraindications or hyper...   \n",
       "4     ['Adult (age 18 years and older)\\n', 'Patients...   \n",
       "...                                                 ...   \n",
       "1945  ['Visible skin pathology, excessive freckles, ...   \n",
       "1946  ['submucosal,\\n', 'intramural or subserosal le...   \n",
       "1947  ['endometrial hyperplasia with atypia,\\n', 'es...   \n",
       "1948  ['Male or Female.\\n', 'No age restriction.\\n',...   \n",
       "1949  ['Patients with medical comorbidities preventi...   \n",
       "\n",
       "                                         Group_Entities  \\\n",
       "0     [('T1', 0, 4, 'Person', 'ages'), ('T2', 8, 22,...   \n",
       "1     [('T1', 0, 8, 'Temporal', 'previous'), ('T2', ...   \n",
       "2     [('T1', 9, 13, 'Person', 'aged'), ('T2', 14, 2...   \n",
       "3     [('T1', 18, 35, 'Condition', 'contraindication...   \n",
       "4     [('T1', 0, 5, 'Person', 'Adult'), ('T2', 7, 10...   \n",
       "...                                                 ...   \n",
       "1945  [('T1', 8, 22, 'Condition', 'skin pathology'),...   \n",
       "1946  [('T1', 0, 10, 'Condition', 'submucosal'), ('T...   \n",
       "1947  [('T1', 0, 23, 'Condition', 'endometrial hyper...   \n",
       "1948  [('T1', 0, 4, 'Person', 'Male'), ('T2', 8, 14,...   \n",
       "1949  [('T1', 14, 35, 'Condition', 'medical comorbid...   \n",
       "\n",
       "                                              Relations  \\\n",
       "0     [('R1', 'Has_value', 'T1 T2'), ('*', 'OR', 'T6...   \n",
       "1     [('R1', 'Has_temporal', 'T2 T1'), ('R2', 'Has_...   \n",
       "2                        [('R1', 'Has_value', 'T1 T2')]   \n",
       "3     [('*', 'OR', 'T1 T2'), ('*', 'OR', 'T6 T7'), (...   \n",
       "4     [('R1', 'Has_value', 'T2 T3'), ('R4', 'Has_qua...   \n",
       "...                                                 ...   \n",
       "1945  [('R1', 'Has_qualifier', 'T2 T3'), ('*', 'OR',...   \n",
       "1946                                                 []   \n",
       "1947                                                 []   \n",
       "1948  [('*', 'OR', 'T1 T2'), ('R1', 'Has_qualifier',...   \n",
       "1949  [('R2', 'AND', 'T1 T2'), ('R4', 'AND', 'T6 T8'...   \n",
       "\n",
       "                                                 Tokens  \\\n",
       "0     [['ages', 'of', '7', 'and', '75', 'years'], ['...   \n",
       "1     [['previous', 'brain', 'surgery'], ['cognitive...   \n",
       "2     [['Patients', 'aged', '19', 'or', 'older'], ['...   \n",
       "3     [['Patients', 'with', 'any', 'contraindication...   \n",
       "4     [['Adult', 'age', '18', 'years', 'and', 'older...   \n",
       "...                                                 ...   \n",
       "1945  [['Visible', 'skin', 'pathology', 'excessive',...   \n",
       "1946  [['submucosal'], ['intramural', 'or', 'subsero...   \n",
       "1947  [['endometrial', 'hyperplasia', 'with', 'atypi...   \n",
       "1948  [['Male', 'or', 'Female'], ['No', 'age', 'rest...   \n",
       "1949  [['Patients', 'with', 'medical', 'comorbiditie...   \n",
       "\n",
       "                                               Entities  \n",
       "0     ([['Person', 'O', 'B-Value', 'I-Value', 'I-Val...  \n",
       "1     ([['Temporal', 'B-Procedure', 'I-Procedure'], ...  \n",
       "2     ([['O', 'Person', 'B-Value', 'I-Value', 'I-Val...  \n",
       "3     ([['O', 'O', 'O', 'Condition', 'O', 'Condition...  \n",
       "4     ([['Person', 'Person', 'B-Value', 'I-Value', '...  \n",
       "...                                                 ...  \n",
       "1945  ([['O', 'B-Condition', 'I-Condition', 'Qualifi...  \n",
       "1946  ([['Condition'], ['B-Condition', 'O', 'B-Condi...  \n",
       "1947  ([['B-Condition', 'I-Condition', 'O', 'Conditi...  \n",
       "1948  ([['Person', 'O', 'Person'], ['O', 'O', 'O'], ...  \n",
       "1949  ([['O', 'O', 'B-Condition', 'I-Condition', 'O'...  \n",
       "\n",
       "[1950 rows x 7 columns]"
      ]
     },
     "execution_count": 12,
     "metadata": {},
     "output_type": "execute_result"
    }
   ],
   "source": [
    "df = pd.read_csv(Paths['Data'] + 'Chia_w_scope_data.csv')\n",
    "df = df.drop(columns=df.columns[0], axis=1)\n",
    "df"
   ]
  },
  {
   "cell_type": "code",
   "execution_count": 14,
   "id": "cfe7775b",
   "metadata": {},
   "outputs": [],
   "source": [
    "df['Text'] = df['Text'].apply(eval)\n",
    "df['Group_Entities'] = df['Group_Entities'].apply(eval)\n",
    "df['Relations'] = df['Relations'].apply(eval)\n",
    "df['Tokens'] = df['Tokens'].apply(eval)\n",
    "df['Entities'] = df['Entities'].apply(eval)"
   ]
  },
  {
   "cell_type": "markdown",
   "id": "9a8b92b1",
   "metadata": {},
   "source": [
    "### Preparing Data"
   ]
  },
  {
   "cell_type": "code",
   "execution_count": 15,
   "id": "f197cd8f",
   "metadata": {},
   "outputs": [
    {
     "data": {
      "text/plain": [
       "['Condition',\n",
       " 'Drug',\n",
       " 'Procedure',\n",
       " 'Measurement',\n",
       " 'Observation',\n",
       " 'Person',\n",
       " 'Device',\n",
       " 'Value',\n",
       " 'Temporal',\n",
       " 'Qualifier',\n",
       " 'Negation']"
      ]
     },
     "execution_count": 15,
     "metadata": {},
     "output_type": "execute_result"
    }
   ],
   "source": [
    "entity_types = ['Condition', 'Drug', 'Procedure', 'Measurement', 'Observation', 'Person', 'Device', \\\n",
    "    'Value', 'Temporal', 'Qualifier', 'Negation']\n",
    "\n",
    "entity_types"
   ]
  },
  {
   "cell_type": "code",
   "execution_count": 53,
   "id": "1744ec07",
   "metadata": {},
   "outputs": [],
   "source": [
    "globalTags = []\n",
    "globalTokens = []\n",
    "prefixes = ['B-', 'I-']\n",
    "\n",
    "for i, f in df.iterrows():\n",
    "    entities_in_file = f['Entities']\n",
    "    tokens_in_file = f['Tokens']\n",
    "#     print(f['File'])\n",
    "#     print(entities_in_file[0])\n",
    "#     print(tokens_in_file)\n",
    "#     break\n",
    "    for ent in entities_in_file[0]:\n",
    "        entity_arr = []\n",
    "        for e in ent:\n",
    "            if (any(e.startswith(x) for x in prefixes)) or (e=='O'): entity_arr.append(e)\n",
    "            else: \n",
    "                new_e = 'B-'+ e\n",
    "                entity_arr.append(new_e)\n",
    "                \n",
    "        globalTags.append(entity_arr)\n",
    "    for t in tokens_in_file:\n",
    "        globalTokens.append(t)\n",
    "    assert len(globalTokens[-1]) == len(globalTags[-1])\n",
    "\n",
    "assert len(globalTokens) == len(globalTags)"
   ]
  },
  {
   "cell_type": "code",
   "execution_count": 66,
   "id": "fd8c01e1",
   "metadata": {
    "scrolled": true
   },
   "outputs": [
    {
     "data": {
      "text/plain": [
       "[['B-Person', 'O', 'B-Value', 'I-Value', 'I-Value', 'I-Value'],\n",
       " ['O',\n",
       "  'B-Condition',\n",
       "  'O',\n",
       "  'O',\n",
       "  'B-Qualifier',\n",
       "  'B-Qualifier',\n",
       "  'O',\n",
       "  'B-Qualifier',\n",
       "  'B-Condition',\n",
       "  'O',\n",
       "  'B-Qualifier',\n",
       "  'B-Procedure',\n",
       "  'I-Procedure']]"
      ]
     },
     "execution_count": 66,
     "metadata": {},
     "output_type": "execute_result"
    }
   ],
   "source": [
    "globalTags[:2]"
   ]
  },
  {
   "cell_type": "code",
   "execution_count": 56,
   "id": "e1818da5",
   "metadata": {},
   "outputs": [
    {
     "data": {
      "text/html": [
       "<div>\n",
       "<style scoped>\n",
       "    .dataframe tbody tr th:only-of-type {\n",
       "        vertical-align: middle;\n",
       "    }\n",
       "\n",
       "    .dataframe tbody tr th {\n",
       "        vertical-align: top;\n",
       "    }\n",
       "\n",
       "    .dataframe thead th {\n",
       "        text-align: right;\n",
       "    }\n",
       "</style>\n",
       "<table border=\"1\" class=\"dataframe\">\n",
       "  <thead>\n",
       "    <tr style=\"text-align: right;\">\n",
       "      <th></th>\n",
       "      <th>Tags</th>\n",
       "      <th>Sentence</th>\n",
       "    </tr>\n",
       "  </thead>\n",
       "  <tbody>\n",
       "    <tr>\n",
       "      <th>0</th>\n",
       "      <td>[B-Person, O, B-Value, I-Value, I-Value, I-Value]</td>\n",
       "      <td>[ages, of, 7, and, 75, years]</td>\n",
       "    </tr>\n",
       "    <tr>\n",
       "      <th>1</th>\n",
       "      <td>[O, B-Condition, O, O, B-Qualifier, B-Qualifie...</td>\n",
       "      <td>[marked, disability, owing, to, primary, gener...</td>\n",
       "    </tr>\n",
       "    <tr>\n",
       "      <th>2</th>\n",
       "      <td>[B-Measurement, I-Measurement, O, B-Value, I-V...</td>\n",
       "      <td>[disease, duration, of, at, least, 5, years]</td>\n",
       "    </tr>\n",
       "    <tr>\n",
       "      <th>3</th>\n",
       "      <td>[B-Temporal, B-Procedure, I-Procedure]</td>\n",
       "      <td>[previous, brain, surgery]</td>\n",
       "    </tr>\n",
       "    <tr>\n",
       "      <th>4</th>\n",
       "      <td>[B-Condition, I-Condition, B-Value, I-Value, I...</td>\n",
       "      <td>[cognitive, impairment, &lt;, 120, points, on, th...</td>\n",
       "    </tr>\n",
       "  </tbody>\n",
       "</table>\n",
       "</div>"
      ],
      "text/plain": [
       "                                                Tags  \\\n",
       "0  [B-Person, O, B-Value, I-Value, I-Value, I-Value]   \n",
       "1  [O, B-Condition, O, O, B-Qualifier, B-Qualifie...   \n",
       "2  [B-Measurement, I-Measurement, O, B-Value, I-V...   \n",
       "3             [B-Temporal, B-Procedure, I-Procedure]   \n",
       "4  [B-Condition, I-Condition, B-Value, I-Value, I...   \n",
       "\n",
       "                                            Sentence  \n",
       "0                      [ages, of, 7, and, 75, years]  \n",
       "1  [marked, disability, owing, to, primary, gener...  \n",
       "2       [disease, duration, of, at, least, 5, years]  \n",
       "3                         [previous, brain, surgery]  \n",
       "4  [cognitive, impairment, <, 120, points, on, th...  "
      ]
     },
     "execution_count": 56,
     "metadata": {},
     "output_type": "execute_result"
    }
   ],
   "source": [
    "ner_df = pd.DataFrame()\n",
    "ner_df['Tags'] = pd.Series(globalTags)\n",
    "ner_df['Sentence'] = pd.Series(globalTokens)\n",
    "ner_df.head()"
   ]
  },
  {
   "cell_type": "code",
   "execution_count": 71,
   "id": "a1dbb41f",
   "metadata": {},
   "outputs": [
    {
     "data": {
      "text/html": [
       "<div>\n",
       "<style scoped>\n",
       "    .dataframe tbody tr th:only-of-type {\n",
       "        vertical-align: middle;\n",
       "    }\n",
       "\n",
       "    .dataframe tbody tr th {\n",
       "        vertical-align: top;\n",
       "    }\n",
       "\n",
       "    .dataframe thead th {\n",
       "        text-align: right;\n",
       "    }\n",
       "</style>\n",
       "<table border=\"1\" class=\"dataframe\">\n",
       "  <thead>\n",
       "    <tr style=\"text-align: right;\">\n",
       "      <th></th>\n",
       "      <th>Tags</th>\n",
       "      <th>Sentence</th>\n",
       "    </tr>\n",
       "  </thead>\n",
       "  <tbody>\n",
       "    <tr>\n",
       "      <th>0</th>\n",
       "      <td>[B-Person, O, B-Value, I-Value, I-Value, I-Value]</td>\n",
       "      <td>[ages, of, 7, and, 75, years]</td>\n",
       "    </tr>\n",
       "    <tr>\n",
       "      <th>1</th>\n",
       "      <td>[O, B-Condition, O, O, B-Qualifier, B-Qualifie...</td>\n",
       "      <td>[marked, disability, owing, to, primary, gener...</td>\n",
       "    </tr>\n",
       "    <tr>\n",
       "      <th>2</th>\n",
       "      <td>[B-Measurement, I-Measurement, O, B-Value, I-V...</td>\n",
       "      <td>[disease, duration, of, at, least, 5, years]</td>\n",
       "    </tr>\n",
       "    <tr>\n",
       "      <th>3</th>\n",
       "      <td>[B-Temporal, B-Procedure, I-Procedure]</td>\n",
       "      <td>[previous, brain, surgery]</td>\n",
       "    </tr>\n",
       "    <tr>\n",
       "      <th>4</th>\n",
       "      <td>[B-Condition, I-Condition, B-Value, I-Value, I...</td>\n",
       "      <td>[cognitive, impairment, &lt;, 120, points, on, th...</td>\n",
       "    </tr>\n",
       "    <tr>\n",
       "      <th>5</th>\n",
       "      <td>[B-Qualifier, I-Qualifier, I-Qualifier, B-Cond...</td>\n",
       "      <td>[moderate, to, severe, depression, &gt;, 25, poin...</td>\n",
       "    </tr>\n",
       "    <tr>\n",
       "      <th>6</th>\n",
       "      <td>[O, B-Condition, I-Condition, O, O, O, B-Proce...</td>\n",
       "      <td>[marked, brain, atrophy, as, detected, by, mag...</td>\n",
       "    </tr>\n",
       "    <tr>\n",
       "      <th>7</th>\n",
       "      <td>[O, O, O, O, O, O, O, O, O, O, O, O, O, O, O, ...</td>\n",
       "      <td>[other, medical, or, psychiatric, coexisting, ...</td>\n",
       "    </tr>\n",
       "    <tr>\n",
       "      <th>8</th>\n",
       "      <td>[O, B-Person, B-Value, I-Value, I-Value]</td>\n",
       "      <td>[Patients, aged, 19, or, older]</td>\n",
       "    </tr>\n",
       "    <tr>\n",
       "      <th>9</th>\n",
       "      <td>[O, O, O, O, O, O, O, O, O, O, O, O, O]</td>\n",
       "      <td>[Patients, who, have, submitted, a, written, c...</td>\n",
       "    </tr>\n",
       "    <tr>\n",
       "      <th>10</th>\n",
       "      <td>[B-Condition, I-Condition, I-Condition]</td>\n",
       "      <td>[De, novo, lesion]</td>\n",
       "    </tr>\n",
       "    <tr>\n",
       "      <th>11</th>\n",
       "      <td>[O, O, O, O, O, O, O, O, O, O]</td>\n",
       "      <td>[Patients, scheduled, for, elective, intervent...</td>\n",
       "    </tr>\n",
       "    <tr>\n",
       "      <th>12</th>\n",
       "      <td>[O, O, O, B-Condition, O, B-Condition, O, O, B...</td>\n",
       "      <td>[Patients, with, any, contraindications, or, h...</td>\n",
       "    </tr>\n",
       "    <tr>\n",
       "      <th>13</th>\n",
       "      <td>[O, O, B-Condition, I-Condition, I-Condition, ...</td>\n",
       "      <td>[Patients, with, Acute, Myocardial, Infarction...</td>\n",
       "    </tr>\n",
       "    <tr>\n",
       "      <th>14</th>\n",
       "      <td>[O, O, O, O, O, O, B-Procedure, O, B-Procedure...</td>\n",
       "      <td>[Patients, who, are, anticipated, to, receive,...</td>\n",
       "    </tr>\n",
       "    <tr>\n",
       "      <th>15</th>\n",
       "      <td>[B-Condition, I-Condition, I-Condition, B-Cond...</td>\n",
       "      <td>[Chronic, total, occlusion, CTO, lesions, in, ...</td>\n",
       "    </tr>\n",
       "    <tr>\n",
       "      <th>16</th>\n",
       "      <td>[O, O, B-Condition, I-Condition]</td>\n",
       "      <td>[Patients, experiencing, cardiogenic, shock]</td>\n",
       "    </tr>\n",
       "    <tr>\n",
       "      <th>17</th>\n",
       "      <td>[O, O, O, O, O, O, O, O]</td>\n",
       "      <td>[Women, who, are, breastfeeding, pregnant, or,...</td>\n",
       "    </tr>\n",
       "    <tr>\n",
       "      <th>18</th>\n",
       "      <td>[O, O, O, O, B-Condition]</td>\n",
       "      <td>[Patients, with, findings, of, hemorrhage]</td>\n",
       "    </tr>\n",
       "    <tr>\n",
       "      <th>19</th>\n",
       "      <td>[O, O, O, B-Observation, I-Observation, O, B-V...</td>\n",
       "      <td>[Patients, with, a, life, expectancy, of, less...</td>\n",
       "    </tr>\n",
       "    <tr>\n",
       "      <th>20</th>\n",
       "      <td>[O, O, O, O, O, B-Procedure, I-Procedure, I-Pr...</td>\n",
       "      <td>[Patients, who, have, received, a, drug, eluti...</td>\n",
       "    </tr>\n",
       "    <tr>\n",
       "      <th>21</th>\n",
       "      <td>[O, O, O, O, O, O, O, O, O, O, O, O, O]</td>\n",
       "      <td>[Any, other, patients, judged, by, the, invest...</td>\n",
       "    </tr>\n",
       "    <tr>\n",
       "      <th>22</th>\n",
       "      <td>[B-Person, B-Person, B-Value, I-Value, I-Value...</td>\n",
       "      <td>[Adult, age, 18, years, and, older]</td>\n",
       "    </tr>\n",
       "    <tr>\n",
       "      <th>23</th>\n",
       "      <td>[O, O, B-Condition, I-Condition, I-Condition, ...</td>\n",
       "      <td>[Patients, with, end, stage, renal, disease(ES...</td>\n",
       "    </tr>\n",
       "    <tr>\n",
       "      <th>24</th>\n",
       "      <td>[B-Condition, I-Condition]</td>\n",
       "      <td>[Diabetes, Mellitus]</td>\n",
       "    </tr>\n",
       "    <tr>\n",
       "      <th>25</th>\n",
       "      <td>[B-Condition, I-Condition, I-Condition, B-Temp...</td>\n",
       "      <td>[Acute, coronary, syndrome, in, the, past, 6, ...</td>\n",
       "    </tr>\n",
       "    <tr>\n",
       "      <th>26</th>\n",
       "      <td>[B-Condition, O, B-Condition, O, B-Condition, ...</td>\n",
       "      <td>[Cardiac, arrhythmias, 2nd, and, 3rd, degree, ...</td>\n",
       "    </tr>\n",
       "    <tr>\n",
       "      <th>27</th>\n",
       "      <td>[O, O, O, B-Condition, O, B-Condition, I-Condi...</td>\n",
       "      <td>[Symptoms, suggestive, of, obstructive, or, ce...</td>\n",
       "    </tr>\n",
       "    <tr>\n",
       "      <th>28</th>\n",
       "      <td>[O, O, B-Drug]</td>\n",
       "      <td>[Patients, taking, Clonidine]</td>\n",
       "    </tr>\n",
       "    <tr>\n",
       "      <th>29</th>\n",
       "      <td>[B-Measurement, I-Measurement, I-Measurement, ...</td>\n",
       "      <td>[Body, mass, index, BMI, &gt;, 34]</td>\n",
       "    </tr>\n",
       "    <tr>\n",
       "      <th>30</th>\n",
       "      <td>[O, O, O, O, O]</td>\n",
       "      <td>[Patients, unable, to, give, consent]</td>\n",
       "    </tr>\n",
       "    <tr>\n",
       "      <th>31</th>\n",
       "      <td>[O, O]</td>\n",
       "      <td>[Pregnant, women]</td>\n",
       "    </tr>\n",
       "    <tr>\n",
       "      <th>32</th>\n",
       "      <td>[O, O, B-Condition, I-Condition, O, B-Conditio...</td>\n",
       "      <td>[Patients, with, leg, injury, involving, nerve...</td>\n",
       "    </tr>\n",
       "    <tr>\n",
       "      <th>33</th>\n",
       "      <td>[O, O, B-Drug, O]</td>\n",
       "      <td>[Patients, taking, anticoagulant, medication]</td>\n",
       "    </tr>\n",
       "    <tr>\n",
       "      <th>34</th>\n",
       "      <td>[O, O, B-Qualifier, B-Condition, I-Condition, ...</td>\n",
       "      <td>[Patients, with, significant, bleeding, disord...</td>\n",
       "    </tr>\n",
       "    <tr>\n",
       "      <th>35</th>\n",
       "      <td>[B-Measurement, B-Value, I-Value, I-Value, B-T...</td>\n",
       "      <td>[Hemoglobin, &lt;1.05, g, dl, at, the, time, of, ...</td>\n",
       "    </tr>\n",
       "    <tr>\n",
       "      <th>36</th>\n",
       "      <td>[O, O, B-Qualifier, O, B-Qualifier, O]</td>\n",
       "      <td>[patients, with, unilateral, or, bilateral, ne...</td>\n",
       "    </tr>\n",
       "    <tr>\n",
       "      <th>37</th>\n",
       "      <td>[B-Qualifier, B-Condition, I-Condition, O, O, ...</td>\n",
       "      <td>[Planned, kidney, transplant, in, the, next, 4...</td>\n",
       "    </tr>\n",
       "    <tr>\n",
       "      <th>38</th>\n",
       "      <td>[B-Observation, I-Observation, O, O, I-Temporal]</td>\n",
       "      <td>[Life, expectancy, under, 6, months]</td>\n",
       "    </tr>\n",
       "    <tr>\n",
       "      <th>39</th>\n",
       "      <td>[B-Condition, B-Measurement, I-Measurement, O,...</td>\n",
       "      <td>[Oliguria, urine, output, less, than, 400, ml,...</td>\n",
       "    </tr>\n",
       "    <tr>\n",
       "      <th>40</th>\n",
       "      <td>[O, O, O, O, O, B-Qualifier, B-Condition, I-Co...</td>\n",
       "      <td>[Subject, has, been, diagnosed, with, symptoma...</td>\n",
       "    </tr>\n",
       "    <tr>\n",
       "      <th>41</th>\n",
       "      <td>[O, O, O, B-Condition, O, B-Condition, O, O, O...</td>\n",
       "      <td>[At, least, one, episode, of, AF, must, be, do...</td>\n",
       "    </tr>\n",
       "    <tr>\n",
       "      <th>42</th>\n",
       "      <td>[O, O, B-Qualifier, B-Qualifier, B-Condition, ...</td>\n",
       "      <td>[Subject, has, structural, normal, heart, with...</td>\n",
       "    </tr>\n",
       "    <tr>\n",
       "      <th>43</th>\n",
       "      <td>[O, O, B-Value, B-Procedure, O, B-Measurement,...</td>\n",
       "      <td>[Subject, has, normal, ECG, parameters, QRS, w...</td>\n",
       "    </tr>\n",
       "    <tr>\n",
       "      <th>44</th>\n",
       "      <td>[O, O, B-Value, I-Value, I-Value, I-Value, I-V...</td>\n",
       "      <td>[Subject, is, at, least, 18, and, not, older, ...</td>\n",
       "    </tr>\n",
       "    <tr>\n",
       "      <th>45</th>\n",
       "      <td>[O, O, O, O, O, O, O, O, O]</td>\n",
       "      <td>[Subject, is, able, and, willing, to, give, in...</td>\n",
       "    </tr>\n",
       "    <tr>\n",
       "      <th>46</th>\n",
       "      <td>[O, O, O, O, B-Condition, I-Condition]</td>\n",
       "      <td>[Subject, has, documented, typical, atrial, fl...</td>\n",
       "    </tr>\n",
       "    <tr>\n",
       "      <th>47</th>\n",
       "      <td>[O, O, O, O, O, O, O, O, O, O, B-Condition, O,...</td>\n",
       "      <td>[Subject, has, any, history, of, successful, o...</td>\n",
       "    </tr>\n",
       "    <tr>\n",
       "      <th>48</th>\n",
       "      <td>[O, O, O, O, B-Qualifier, B-Procedure, I-Proce...</td>\n",
       "      <td>[Subject, had, any, previous, left, atrial, ab...</td>\n",
       "    </tr>\n",
       "    <tr>\n",
       "      <th>49</th>\n",
       "      <td>[O, O, O, O, B-Procedure, I-Procedure, O, B-De...</td>\n",
       "      <td>[Subject, had, any, previous, cardiac, surgery...</td>\n",
       "    </tr>\n",
       "    <tr>\n",
       "      <th>50</th>\n",
       "      <td>[O, O, B-Device, I-Device, O, B-Device, I-Device]</td>\n",
       "      <td>[Subject, has, permanent, pacemaker, or, defib...</td>\n",
       "    </tr>\n",
       "    <tr>\n",
       "      <th>51</th>\n",
       "      <td>[O, O, B-Condition, I-Condition, I-Condition, ...</td>\n",
       "      <td>[Subject, has, 2°, type, II, 3°, degree, AV, b...</td>\n",
       "    </tr>\n",
       "    <tr>\n",
       "      <th>52</th>\n",
       "      <td>[O, O, B-Condition, I-Condition, I-Condition]</td>\n",
       "      <td>[Subject, has, unstable, angina, pectoris]</td>\n",
       "    </tr>\n",
       "    <tr>\n",
       "      <th>53</th>\n",
       "      <td>[O, O, O, O, O, B-Condition, I-Condition, O, B...</td>\n",
       "      <td>[Subject, has, history, of, previous, myocardi...</td>\n",
       "    </tr>\n",
       "    <tr>\n",
       "      <th>54</th>\n",
       "      <td>[O, O, B-Qualifier, B-Condition, I-Condition]</td>\n",
       "      <td>[Subject, has, symptomatic, carotid, stenosis]</td>\n",
       "    </tr>\n",
       "    <tr>\n",
       "      <th>55</th>\n",
       "      <td>[O, O, B-Condition, I-Condition, I-Condition, ...</td>\n",
       "      <td>[Subject, has, chronic, obstructive, pulmonary...</td>\n",
       "    </tr>\n",
       "    <tr>\n",
       "      <th>56</th>\n",
       "      <td>[O, O, O, B-Condition, O, B-Drug, I-Drug]</td>\n",
       "      <td>[Subject, has, any, contraindication, for, ora...</td>\n",
       "    </tr>\n",
       "    <tr>\n",
       "      <th>57</th>\n",
       "      <td>[O, O, O, O, O, O, B-Condition, I-Condition, I...</td>\n",
       "      <td>[Subject, has, any, history, of, previous, tra...</td>\n",
       "    </tr>\n",
       "    <tr>\n",
       "      <th>58</th>\n",
       "      <td>[O, O, O, B-Condition, I-Condition, I-Conditio...</td>\n",
       "      <td>[Subject, has, known, intra, cardiac, thrombus...</td>\n",
       "    </tr>\n",
       "    <tr>\n",
       "      <th>59</th>\n",
       "      <td>[O, O, O, B-Qualifier, B-Condition, I-Conditio...</td>\n",
       "      <td>[Subject, has, any, significant, congenital, h...</td>\n",
       "    </tr>\n",
       "  </tbody>\n",
       "</table>\n",
       "</div>"
      ],
      "text/plain": [
       "                                                 Tags  \\\n",
       "0   [B-Person, O, B-Value, I-Value, I-Value, I-Value]   \n",
       "1   [O, B-Condition, O, O, B-Qualifier, B-Qualifie...   \n",
       "2   [B-Measurement, I-Measurement, O, B-Value, I-V...   \n",
       "3              [B-Temporal, B-Procedure, I-Procedure]   \n",
       "4   [B-Condition, I-Condition, B-Value, I-Value, I...   \n",
       "5   [B-Qualifier, I-Qualifier, I-Qualifier, B-Cond...   \n",
       "6   [O, B-Condition, I-Condition, O, O, O, B-Proce...   \n",
       "7   [O, O, O, O, O, O, O, O, O, O, O, O, O, O, O, ...   \n",
       "8            [O, B-Person, B-Value, I-Value, I-Value]   \n",
       "9             [O, O, O, O, O, O, O, O, O, O, O, O, O]   \n",
       "10            [B-Condition, I-Condition, I-Condition]   \n",
       "11                     [O, O, O, O, O, O, O, O, O, O]   \n",
       "12  [O, O, O, B-Condition, O, B-Condition, O, O, B...   \n",
       "13  [O, O, B-Condition, I-Condition, I-Condition, ...   \n",
       "14  [O, O, O, O, O, O, B-Procedure, O, B-Procedure...   \n",
       "15  [B-Condition, I-Condition, I-Condition, B-Cond...   \n",
       "16                   [O, O, B-Condition, I-Condition]   \n",
       "17                           [O, O, O, O, O, O, O, O]   \n",
       "18                          [O, O, O, O, B-Condition]   \n",
       "19  [O, O, O, B-Observation, I-Observation, O, B-V...   \n",
       "20  [O, O, O, O, O, B-Procedure, I-Procedure, I-Pr...   \n",
       "21            [O, O, O, O, O, O, O, O, O, O, O, O, O]   \n",
       "22  [B-Person, B-Person, B-Value, I-Value, I-Value...   \n",
       "23  [O, O, B-Condition, I-Condition, I-Condition, ...   \n",
       "24                         [B-Condition, I-Condition]   \n",
       "25  [B-Condition, I-Condition, I-Condition, B-Temp...   \n",
       "26  [B-Condition, O, B-Condition, O, B-Condition, ...   \n",
       "27  [O, O, O, B-Condition, O, B-Condition, I-Condi...   \n",
       "28                                     [O, O, B-Drug]   \n",
       "29  [B-Measurement, I-Measurement, I-Measurement, ...   \n",
       "30                                    [O, O, O, O, O]   \n",
       "31                                             [O, O]   \n",
       "32  [O, O, B-Condition, I-Condition, O, B-Conditio...   \n",
       "33                                  [O, O, B-Drug, O]   \n",
       "34  [O, O, B-Qualifier, B-Condition, I-Condition, ...   \n",
       "35  [B-Measurement, B-Value, I-Value, I-Value, B-T...   \n",
       "36             [O, O, B-Qualifier, O, B-Qualifier, O]   \n",
       "37  [B-Qualifier, B-Condition, I-Condition, O, O, ...   \n",
       "38   [B-Observation, I-Observation, O, O, I-Temporal]   \n",
       "39  [B-Condition, B-Measurement, I-Measurement, O,...   \n",
       "40  [O, O, O, O, O, B-Qualifier, B-Condition, I-Co...   \n",
       "41  [O, O, O, B-Condition, O, B-Condition, O, O, O...   \n",
       "42  [O, O, B-Qualifier, B-Qualifier, B-Condition, ...   \n",
       "43  [O, O, B-Value, B-Procedure, O, B-Measurement,...   \n",
       "44  [O, O, B-Value, I-Value, I-Value, I-Value, I-V...   \n",
       "45                        [O, O, O, O, O, O, O, O, O]   \n",
       "46             [O, O, O, O, B-Condition, I-Condition]   \n",
       "47  [O, O, O, O, O, O, O, O, O, O, B-Condition, O,...   \n",
       "48  [O, O, O, O, B-Qualifier, B-Procedure, I-Proce...   \n",
       "49  [O, O, O, O, B-Procedure, I-Procedure, O, B-De...   \n",
       "50  [O, O, B-Device, I-Device, O, B-Device, I-Device]   \n",
       "51  [O, O, B-Condition, I-Condition, I-Condition, ...   \n",
       "52      [O, O, B-Condition, I-Condition, I-Condition]   \n",
       "53  [O, O, O, O, O, B-Condition, I-Condition, O, B...   \n",
       "54      [O, O, B-Qualifier, B-Condition, I-Condition]   \n",
       "55  [O, O, B-Condition, I-Condition, I-Condition, ...   \n",
       "56          [O, O, O, B-Condition, O, B-Drug, I-Drug]   \n",
       "57  [O, O, O, O, O, O, B-Condition, I-Condition, I...   \n",
       "58  [O, O, O, B-Condition, I-Condition, I-Conditio...   \n",
       "59  [O, O, O, B-Qualifier, B-Condition, I-Conditio...   \n",
       "\n",
       "                                             Sentence  \n",
       "0                       [ages, of, 7, and, 75, years]  \n",
       "1   [marked, disability, owing, to, primary, gener...  \n",
       "2        [disease, duration, of, at, least, 5, years]  \n",
       "3                          [previous, brain, surgery]  \n",
       "4   [cognitive, impairment, <, 120, points, on, th...  \n",
       "5   [moderate, to, severe, depression, >, 25, poin...  \n",
       "6   [marked, brain, atrophy, as, detected, by, mag...  \n",
       "7   [other, medical, or, psychiatric, coexisting, ...  \n",
       "8                     [Patients, aged, 19, or, older]  \n",
       "9   [Patients, who, have, submitted, a, written, c...  \n",
       "10                                 [De, novo, lesion]  \n",
       "11  [Patients, scheduled, for, elective, intervent...  \n",
       "12  [Patients, with, any, contraindications, or, h...  \n",
       "13  [Patients, with, Acute, Myocardial, Infarction...  \n",
       "14  [Patients, who, are, anticipated, to, receive,...  \n",
       "15  [Chronic, total, occlusion, CTO, lesions, in, ...  \n",
       "16       [Patients, experiencing, cardiogenic, shock]  \n",
       "17  [Women, who, are, breastfeeding, pregnant, or,...  \n",
       "18         [Patients, with, findings, of, hemorrhage]  \n",
       "19  [Patients, with, a, life, expectancy, of, less...  \n",
       "20  [Patients, who, have, received, a, drug, eluti...  \n",
       "21  [Any, other, patients, judged, by, the, invest...  \n",
       "22                [Adult, age, 18, years, and, older]  \n",
       "23  [Patients, with, end, stage, renal, disease(ES...  \n",
       "24                               [Diabetes, Mellitus]  \n",
       "25  [Acute, coronary, syndrome, in, the, past, 6, ...  \n",
       "26  [Cardiac, arrhythmias, 2nd, and, 3rd, degree, ...  \n",
       "27  [Symptoms, suggestive, of, obstructive, or, ce...  \n",
       "28                      [Patients, taking, Clonidine]  \n",
       "29                    [Body, mass, index, BMI, >, 34]  \n",
       "30              [Patients, unable, to, give, consent]  \n",
       "31                                  [Pregnant, women]  \n",
       "32  [Patients, with, leg, injury, involving, nerve...  \n",
       "33      [Patients, taking, anticoagulant, medication]  \n",
       "34  [Patients, with, significant, bleeding, disord...  \n",
       "35  [Hemoglobin, <1.05, g, dl, at, the, time, of, ...  \n",
       "36  [patients, with, unilateral, or, bilateral, ne...  \n",
       "37  [Planned, kidney, transplant, in, the, next, 4...  \n",
       "38               [Life, expectancy, under, 6, months]  \n",
       "39  [Oliguria, urine, output, less, than, 400, ml,...  \n",
       "40  [Subject, has, been, diagnosed, with, symptoma...  \n",
       "41  [At, least, one, episode, of, AF, must, be, do...  \n",
       "42  [Subject, has, structural, normal, heart, with...  \n",
       "43  [Subject, has, normal, ECG, parameters, QRS, w...  \n",
       "44  [Subject, is, at, least, 18, and, not, older, ...  \n",
       "45  [Subject, is, able, and, willing, to, give, in...  \n",
       "46  [Subject, has, documented, typical, atrial, fl...  \n",
       "47  [Subject, has, any, history, of, successful, o...  \n",
       "48  [Subject, had, any, previous, left, atrial, ab...  \n",
       "49  [Subject, had, any, previous, cardiac, surgery...  \n",
       "50  [Subject, has, permanent, pacemaker, or, defib...  \n",
       "51  [Subject, has, 2°, type, II, 3°, degree, AV, b...  \n",
       "52         [Subject, has, unstable, angina, pectoris]  \n",
       "53  [Subject, has, history, of, previous, myocardi...  \n",
       "54     [Subject, has, symptomatic, carotid, stenosis]  \n",
       "55  [Subject, has, chronic, obstructive, pulmonary...  \n",
       "56  [Subject, has, any, contraindication, for, ora...  \n",
       "57  [Subject, has, any, history, of, previous, tra...  \n",
       "58  [Subject, has, known, intra, cardiac, thrombus...  \n",
       "59  [Subject, has, any, significant, congenital, h...  "
      ]
     },
     "execution_count": 71,
     "metadata": {},
     "output_type": "execute_result"
    }
   ],
   "source": [
    "ner_df.head(60)"
   ]
  },
  {
   "cell_type": "markdown",
   "id": "2b4b9e08",
   "metadata": {},
   "source": [
    "### Basic EDA"
   ]
  },
  {
   "cell_type": "code",
   "execution_count": 58,
   "id": "f436d12f",
   "metadata": {},
   "outputs": [
    {
     "data": {
      "text/plain": [
       "{'B-Person': 1571,\n",
       " 'O': 76594,\n",
       " 'B-Value': 3648,\n",
       " 'I-Value': 7568,\n",
       " 'B-Condition': 11340,\n",
       " 'B-Qualifier': 3970,\n",
       " 'B-Procedure': 3293,\n",
       " 'I-Procedure': 3331,\n",
       " 'B-Measurement': 3055,\n",
       " 'I-Measurement': 4294,\n",
       " 'B-Temporal': 2921,\n",
       " 'I-Condition': 10413,\n",
       " 'I-Qualifier': 3155,\n",
       " 'I-Temporal': 7936,\n",
       " 'B-Observation': 1702,\n",
       " 'I-Observation': 2141,\n",
       " 'B-Drug': 3505,\n",
       " 'B-Device': 349,\n",
       " 'I-Device': 431,\n",
       " 'I-Drug': 2299,\n",
       " 'B-Negation': 835,\n",
       " 'I-Negation': 236,\n",
       " 'I-Person': 154}"
      ]
     },
     "execution_count": 58,
     "metadata": {},
     "output_type": "execute_result"
    }
   ],
   "source": [
    "entity_count = {}\n",
    "for i, f in ner_df.iterrows():\n",
    "    tags = f['Tags']\n",
    "    for t in tags:\n",
    "        try:\n",
    "            entity_count[t] += 1\n",
    "        except:\n",
    "            entity_count[t] = 1\n",
    "entity_count"
   ]
  },
  {
   "cell_type": "code",
   "execution_count": 59,
   "id": "3d4ab660",
   "metadata": {},
   "outputs": [
    {
     "data": {
      "image/png": "[encoded data removed]",
      "text/plain": [
       "<Figure size 1440x720 with 1 Axes>"
      ]
     },
     "metadata": {
      "needs_background": "light"
     },
     "output_type": "display_data"
    }
   ],
   "source": [
    "entity_names = list(entity_count.keys())\n",
    "entity_values = list(entity_count.values())\n",
    "\n",
    "fig = plt.figure(figsize = (20, 10))\n",
    " \n",
    "plt.bar(entity_names, entity_values, color ='maroon', width = 0.4)\n",
    "\n",
    "x = plt.gca().xaxis\n",
    "for item in x.get_ticklabels():\n",
    "    item.set_rotation(45)\n",
    "\n",
    "plt.xlabel(\"Entities\")\n",
    "plt.ylabel(\"Count\")\n",
    "plt.title(\"Count of Entities\")\n",
    "plt.show()"
   ]
  },
  {
   "cell_type": "code",
   "execution_count": 60,
   "id": "9b76461b",
   "metadata": {},
   "outputs": [
    {
     "data": {
      "text/plain": [
       "{'B-Person': 1571,\n",
       " 'B-Value': 3648,\n",
       " 'I-Value': 7568,\n",
       " 'B-Condition': 11340,\n",
       " 'B-Qualifier': 3970,\n",
       " 'B-Procedure': 3293,\n",
       " 'I-Procedure': 3331,\n",
       " 'B-Measurement': 3055,\n",
       " 'I-Measurement': 4294,\n",
       " 'B-Temporal': 2921,\n",
       " 'I-Condition': 10413,\n",
       " 'I-Qualifier': 3155,\n",
       " 'I-Temporal': 7936,\n",
       " 'B-Observation': 1702,\n",
       " 'I-Observation': 2141,\n",
       " 'B-Drug': 3505,\n",
       " 'B-Device': 349,\n",
       " 'I-Device': 431,\n",
       " 'I-Drug': 2299,\n",
       " 'B-Negation': 835,\n",
       " 'I-Negation': 236,\n",
       " 'I-Person': 154}"
      ]
     },
     "execution_count": 60,
     "metadata": {},
     "output_type": "execute_result"
    }
   ],
   "source": [
    "entity_count_copy = entity_count\n",
    "entity_count_copy.pop('O')\n",
    "\n",
    "entity_names = list(entity_count_copy.keys())\n",
    "entity_values = list(entity_count_copy.values())\n",
    "\n",
    "entity_count_copy"
   ]
  },
  {
   "cell_type": "code",
   "execution_count": 61,
   "id": "7b4a9054",
   "metadata": {},
   "outputs": [
    {
     "data": {
      "image/png": "[encoded data removed]",
      "text/plain": [
       "<Figure size 1440x720 with 1 Axes>"
      ]
     },
     "metadata": {
      "needs_background": "light"
     },
     "output_type": "display_data"
    }
   ],
   "source": [
    "fig = plt.figure(figsize = (20, 10))\n",
    " \n",
    "plt.bar(entity_names, entity_values, color ='maroon', width = 0.4)\n",
    "\n",
    "x = plt.gca().xaxis\n",
    "for item in x.get_ticklabels():\n",
    "    item.set_rotation(45)\n",
    "\n",
    "plt.xlabel(\"Entities\")\n",
    "plt.ylabel(\"Count\")\n",
    "plt.title(\"Count of Entities\")\n",
    "plt.show()"
   ]
  },
  {
   "cell_type": "markdown",
   "id": "191fe9f6",
   "metadata": {},
   "source": [
    "### Process Data for Model"
   ]
  },
  {
   "cell_type": "code",
   "execution_count": 99,
   "id": "15dbd063",
   "metadata": {},
   "outputs": [
    {
     "data": {
      "text/plain": [
       "{'B-Person': 0,\n",
       " 'B-Value': 1,\n",
       " 'I-Value': 2,\n",
       " 'B-Condition': 3,\n",
       " 'B-Qualifier': 4,\n",
       " 'B-Procedure': 5,\n",
       " 'I-Procedure': 6,\n",
       " 'B-Measurement': 7,\n",
       " 'I-Measurement': 8,\n",
       " 'B-Temporal': 9,\n",
       " 'I-Condition': 10,\n",
       " 'I-Qualifier': 11,\n",
       " 'I-Temporal': 12,\n",
       " 'B-Observation': 13,\n",
       " 'I-Observation': 14,\n",
       " 'B-Drug': 15,\n",
       " 'B-Device': 16,\n",
       " 'I-Device': 17,\n",
       " 'I-Drug': 18,\n",
       " 'B-Negation': 19,\n",
       " 'I-Negation': 20,\n",
       " 'I-Person': 21,\n",
       " 'PAD': 22,\n",
       " 'O': 23}"
      ]
     },
     "execution_count": 99,
     "metadata": {},
     "output_type": "execute_result"
    }
   ],
   "source": [
    "entities = list(entity_count.keys())\n",
    "entities.append('PAD')\n",
    "entities.append('O')\n",
    "\n",
    "tag_idx = {t: i for i, t in enumerate(entities)}\n",
    "tag_idx"
   ]
  },
  {
   "cell_type": "code",
   "execution_count": 119,
   "id": "12a7e129",
   "metadata": {},
   "outputs": [
    {
     "data": {
      "text/plain": [
       "['B-Person',\n",
       " 'B-Value',\n",
       " 'I-Value',\n",
       " 'B-Condition',\n",
       " 'B-Qualifier',\n",
       " 'B-Procedure',\n",
       " 'I-Procedure',\n",
       " 'B-Measurement',\n",
       " 'I-Measurement',\n",
       " 'B-Temporal',\n",
       " 'I-Condition',\n",
       " 'I-Qualifier',\n",
       " 'I-Temporal',\n",
       " 'B-Observation',\n",
       " 'I-Observation',\n",
       " 'B-Drug',\n",
       " 'B-Device',\n",
       " 'I-Device',\n",
       " 'I-Drug',\n",
       " 'B-Negation',\n",
       " 'I-Negation',\n",
       " 'I-Person',\n",
       " 'PAD',\n",
       " 'O']"
      ]
     },
     "execution_count": 119,
     "metadata": {},
     "output_type": "execute_result"
    }
   ],
   "source": [
    "tag_values = list(tag_idx.keys())\n",
    "tag_values"
   ]
  },
  {
   "cell_type": "code",
   "execution_count": 86,
   "id": "35439b98",
   "metadata": {},
   "outputs": [
    {
     "name": "stdout",
     "output_type": "stream",
     "text": [
      "First Sentence Length: 6\n",
      "Total Sentences: 12556\n"
     ]
    }
   ],
   "source": [
    "TAGS = list(ner_df['Tags'])\n",
    "TOKENS = list(ner_df['Sentence'])\n",
    "\n",
    "print('First Sentence Length: {}'.format(len(TOKENS[0])))\n",
    "print('Total Sentences: {}'.format(len(TOKENS)))"
   ]
  },
  {
   "cell_type": "code",
   "execution_count": 96,
   "id": "f9967177",
   "metadata": {},
   "outputs": [
    {
     "name": "stdout",
     "output_type": "stream",
     "text": [
      "['ages', 'of', '7', 'and', '75', 'years'] ['B-Person', 'O', 'B-Value', 'I-Value', 'I-Value', 'I-Value']\n"
     ]
    }
   ],
   "source": [
    "print(TOKENS[0], TAGS[0])"
   ]
  },
  {
   "cell_type": "code",
   "execution_count": 88,
   "id": "6d228b92",
   "metadata": {},
   "outputs": [
    {
     "data": {
      "text/plain": [
       "[334, 300, 208, 207, 155]"
      ]
     },
     "execution_count": 88,
     "metadata": {},
     "output_type": "execute_result"
    }
   ],
   "source": [
    "listOfLengths = [len(item) for item in TOKENS]\n",
    "listOfLengths.sort(reverse=True)\n",
    "listOfLengths[:5]"
   ]
  },
  {
   "cell_type": "code",
   "execution_count": 92,
   "id": "e1cc5350",
   "metadata": {},
   "outputs": [
    {
     "data": {
      "application/vnd.plotly.v1+json": {
       "config": {
        "plotlyServerURL": "https://plot.ly"
       },
       "data": [
        {
         "type": "bar",
         "x": [
          "0 - 10",
          "10 - 20",
          "20 - 30",
          "30 - 40",
          "40 - 50",
          "50 - 60",
          "60 - 70",
          "70 - 80",
          "> 80"
         ],
         "y": [
          6810,
          3671,
          1159,
          455,
          227,
          95,
          57,
          25,
          57
         ]
        }
       ],
       "layout": {
        "template": {
         "data": {
          "bar": [
           {
            "error_x": {
             "color": "#2a3f5f"
            },
            "error_y": {
             "color": "#2a3f5f"
            },
            "marker": {
             "line": {
              "color": "#E5ECF6",
              "width": 0.5
             },
             "pattern": {
              "fillmode": "overlay",
              "size": 10,
              "solidity": 0.2
             }
            },
            "type": "bar"
           }
          ],
          "barpolar": [
           {
            "marker": {
             "line": {
              "color": "#E5ECF6",
              "width": 0.5
             },
             "pattern": {
              "fillmode": "overlay",
              "size": 10,
              "solidity": 0.2
             }
            },
            "type": "barpolar"
           }
          ],
          "carpet": [
           {
            "aaxis": {
             "endlinecolor": "#2a3f5f",
             "gridcolor": "white",
             "linecolor": "white",
             "minorgridcolor": "white",
             "startlinecolor": "#2a3f5f"
            },
            "baxis": {
             "endlinecolor": "#2a3f5f",
             "gridcolor": "white",
             "linecolor": "white",
             "minorgridcolor": "white",
             "startlinecolor": "#2a3f5f"
            },
            "type": "carpet"
           }
          ],
          "choropleth": [
           {
            "colorbar": {
             "outlinewidth": 0,
             "ticks": ""
            },
            "type": "choropleth"
           }
          ],
          "contour": [
           {
            "colorbar": {
             "outlinewidth": 0,
             "ticks": ""
            },
            "colorscale": [
             [
              0,
              "#0d0887"
             ],
             [
              0.1111111111111111,
              "#46039f"
             ],
             [
              0.2222222222222222,
              "#7201a8"
             ],
             [
              0.3333333333333333,
              "#9c179e"
             ],
             [
              0.4444444444444444,
              "#bd3786"
             ],
             [
              0.5555555555555556,
              "#d8576b"
             ],
             [
              0.6666666666666666,
              "#ed7953"
             ],
             [
              0.7777777777777778,
              "#fb9f3a"
             ],
             [
              0.8888888888888888,
              "#fdca26"
             ],
             [
              1,
              "#f0f921"
             ]
            ],
            "type": "contour"
           }
          ],
          "contourcarpet": [
           {
            "colorbar": {
             "outlinewidth": 0,
             "ticks": ""
            },
            "type": "contourcarpet"
           }
          ],
          "heatmap": [
           {
            "colorbar": {
             "outlinewidth": 0,
             "ticks": ""
            },
            "colorscale": [
             [
              0,
              "#0d0887"
             ],
             [
              0.1111111111111111,
              "#46039f"
             ],
             [
              0.2222222222222222,
              "#7201a8"
             ],
             [
              0.3333333333333333,
              "#9c179e"
             ],
             [
              0.4444444444444444,
              "#bd3786"
             ],
             [
              0.5555555555555556,
              "#d8576b"
             ],
             [
              0.6666666666666666,
              "#ed7953"
             ],
             [
              0.7777777777777778,
              "#fb9f3a"
             ],
             [
              0.8888888888888888,
              "#fdca26"
             ],
             [
              1,
              "#f0f921"
             ]
            ],
            "type": "heatmap"
           }
          ],
          "heatmapgl": [
           {
            "colorbar": {
             "outlinewidth": 0,
             "ticks": ""
            },
            "colorscale": [
             [
              0,
              "#0d0887"
             ],
             [
              0.1111111111111111,
              "#46039f"
             ],
             [
              0.2222222222222222,
              "#7201a8"
             ],
             [
              0.3333333333333333,
              "#9c179e"
             ],
             [
              0.4444444444444444,
              "#bd3786"
             ],
             [
              0.5555555555555556,
              "#d8576b"
             ],
             [
              0.6666666666666666,
              "#ed7953"
             ],
             [
              0.7777777777777778,
              "#fb9f3a"
             ],
             [
              0.8888888888888888,
              "#fdca26"
             ],
             [
              1,
              "#f0f921"
             ]
            ],
            "type": "heatmapgl"
           }
          ],
          "histogram": [
           {
            "marker": {
             "pattern": {
              "fillmode": "overlay",
              "size": 10,
              "solidity": 0.2
             }
            },
            "type": "histogram"
           }
          ],
          "histogram2d": [
           {
            "colorbar": {
             "outlinewidth": 0,
             "ticks": ""
            },
            "colorscale": [
             [
              0,
              "#0d0887"
             ],
             [
              0.1111111111111111,
              "#46039f"
             ],
             [
              0.2222222222222222,
              "#7201a8"
             ],
             [
              0.3333333333333333,
              "#9c179e"
             ],
             [
              0.4444444444444444,
              "#bd3786"
             ],
             [
              0.5555555555555556,
              "#d8576b"
             ],
             [
              0.6666666666666666,
              "#ed7953"
             ],
             [
              0.7777777777777778,
              "#fb9f3a"
             ],
             [
              0.8888888888888888,
              "#fdca26"
             ],
             [
              1,
              "#f0f921"
             ]
            ],
            "type": "histogram2d"
           }
          ],
          "histogram2dcontour": [
           {
            "colorbar": {
             "outlinewidth": 0,
             "ticks": ""
            },
            "colorscale": [
             [
              0,
              "#0d0887"
             ],
             [
              0.1111111111111111,
              "#46039f"
             ],
             [
              0.2222222222222222,
              "#7201a8"
             ],
             [
              0.3333333333333333,
              "#9c179e"
             ],
             [
              0.4444444444444444,
              "#bd3786"
             ],
             [
              0.5555555555555556,
              "#d8576b"
             ],
             [
              0.6666666666666666,
              "#ed7953"
             ],
             [
              0.7777777777777778,
              "#fb9f3a"
             ],
             [
              0.8888888888888888,
              "#fdca26"
             ],
             [
              1,
              "#f0f921"
             ]
            ],
            "type": "histogram2dcontour"
           }
          ],
          "mesh3d": [
           {
            "colorbar": {
             "outlinewidth": 0,
             "ticks": ""
            },
            "type": "mesh3d"
           }
          ],
          "parcoords": [
           {
            "line": {
             "colorbar": {
              "outlinewidth": 0,
              "ticks": ""
             }
            },
            "type": "parcoords"
           }
          ],
          "pie": [
           {
            "automargin": true,
            "type": "pie"
           }
          ],
          "scatter": [
           {
            "fillpattern": {
             "fillmode": "overlay",
             "size": 10,
             "solidity": 0.2
            },
            "type": "scatter"
           }
          ],
          "scatter3d": [
           {
            "line": {
             "colorbar": {
              "outlinewidth": 0,
              "ticks": ""
             }
            },
            "marker": {
             "colorbar": {
              "outlinewidth": 0,
              "ticks": ""
             }
            },
            "type": "scatter3d"
           }
          ],
          "scattercarpet": [
           {
            "marker": {
             "colorbar": {
              "outlinewidth": 0,
              "ticks": ""
             }
            },
            "type": "scattercarpet"
           }
          ],
          "scattergeo": [
           {
            "marker": {
             "colorbar": {
              "outlinewidth": 0,
              "ticks": ""
             }
            },
            "type": "scattergeo"
           }
          ],
          "scattergl": [
           {
            "marker": {
             "colorbar": {
              "outlinewidth": 0,
              "ticks": ""
             }
            },
            "type": "scattergl"
           }
          ],
          "scattermapbox": [
           {
            "marker": {
             "colorbar": {
              "outlinewidth": 0,
              "ticks": ""
             }
            },
            "type": "scattermapbox"
           }
          ],
          "scatterpolar": [
           {
            "marker": {
             "colorbar": {
              "outlinewidth": 0,
              "ticks": ""
             }
            },
            "type": "scatterpolar"
           }
          ],
          "scatterpolargl": [
           {
            "marker": {
             "colorbar": {
              "outlinewidth": 0,
              "ticks": ""
             }
            },
            "type": "scatterpolargl"
           }
          ],
          "scatterternary": [
           {
            "marker": {
             "colorbar": {
              "outlinewidth": 0,
              "ticks": ""
             }
            },
            "type": "scatterternary"
           }
          ],
          "surface": [
           {
            "colorbar": {
             "outlinewidth": 0,
             "ticks": ""
            },
            "colorscale": [
             [
              0,
              "#0d0887"
             ],
             [
              0.1111111111111111,
              "#46039f"
             ],
             [
              0.2222222222222222,
              "#7201a8"
             ],
             [
              0.3333333333333333,
              "#9c179e"
             ],
             [
              0.4444444444444444,
              "#bd3786"
             ],
             [
              0.5555555555555556,
              "#d8576b"
             ],
             [
              0.6666666666666666,
              "#ed7953"
             ],
             [
              0.7777777777777778,
              "#fb9f3a"
             ],
             [
              0.8888888888888888,
              "#fdca26"
             ],
             [
              1,
              "#f0f921"
             ]
            ],
            "type": "surface"
           }
          ],
          "table": [
           {
            "cells": {
             "fill": {
              "color": "#EBF0F8"
             },
             "line": {
              "color": "white"
             }
            },
            "header": {
             "fill": {
              "color": "#C8D4E3"
             },
             "line": {
              "color": "white"
             }
            },
            "type": "table"
           }
          ]
         },
         "layout": {
          "annotationdefaults": {
           "arrowcolor": "#2a3f5f",
           "arrowhead": 0,
           "arrowwidth": 1
          },
          "autotypenumbers": "strict",
          "coloraxis": {
           "colorbar": {
            "outlinewidth": 0,
            "ticks": ""
           }
          },
          "colorscale": {
           "diverging": [
            [
             0,
             "#8e0152"
            ],
            [
             0.1,
             "#c51b7d"
            ],
            [
             0.2,
             "#de77ae"
            ],
            [
             0.3,
             "#f1b6da"
            ],
            [
             0.4,
             "#fde0ef"
            ],
            [
             0.5,
             "#f7f7f7"
            ],
            [
             0.6,
             "#e6f5d0"
            ],
            [
             0.7,
             "#b8e186"
            ],
            [
             0.8,
             "#7fbc41"
            ],
            [
             0.9,
             "#4d9221"
            ],
            [
             1,
             "#276419"
            ]
           ],
           "sequential": [
            [
             0,
             "#0d0887"
            ],
            [
             0.1111111111111111,
             "#46039f"
            ],
            [
             0.2222222222222222,
             "#7201a8"
            ],
            [
             0.3333333333333333,
             "#9c179e"
            ],
            [
             0.4444444444444444,
             "#bd3786"
            ],
            [
             0.5555555555555556,
             "#d8576b"
            ],
            [
             0.6666666666666666,
             "#ed7953"
            ],
            [
             0.7777777777777778,
             "#fb9f3a"
            ],
            [
             0.8888888888888888,
             "#fdca26"
            ],
            [
             1,
             "#f0f921"
            ]
           ],
           "sequentialminus": [
            [
             0,
             "#0d0887"
            ],
            [
             0.1111111111111111,
             "#46039f"
            ],
            [
             0.2222222222222222,
             "#7201a8"
            ],
            [
             0.3333333333333333,
             "#9c179e"
            ],
            [
             0.4444444444444444,
             "#bd3786"
            ],
            [
             0.5555555555555556,
             "#d8576b"
            ],
            [
             0.6666666666666666,
             "#ed7953"
            ],
            [
             0.7777777777777778,
             "#fb9f3a"
            ],
            [
             0.8888888888888888,
             "#fdca26"
            ],
            [
             1,
             "#f0f921"
            ]
           ]
          },
          "colorway": [
           "#636efa",
           "#EF553B",
           "#00cc96",
           "#ab63fa",
           "#FFA15A",
           "#19d3f3",
           "#FF6692",
           "#B6E880",
           "#FF97FF",
           "#FECB52"
          ],
          "font": {
           "color": "#2a3f5f"
          },
          "geo": {
           "bgcolor": "white",
           "lakecolor": "white",
           "landcolor": "#E5ECF6",
           "showlakes": true,
           "showland": true,
           "subunitcolor": "white"
          },
          "hoverlabel": {
           "align": "left"
          },
          "hovermode": "closest",
          "mapbox": {
           "style": "light"
          },
          "paper_bgcolor": "white",
          "plot_bgcolor": "#E5ECF6",
          "polar": {
           "angularaxis": {
            "gridcolor": "white",
            "linecolor": "white",
            "ticks": ""
           },
           "bgcolor": "#E5ECF6",
           "radialaxis": {
            "gridcolor": "white",
            "linecolor": "white",
            "ticks": ""
           }
          },
          "scene": {
           "xaxis": {
            "backgroundcolor": "#E5ECF6",
            "gridcolor": "white",
            "gridwidth": 2,
            "linecolor": "white",
            "showbackground": true,
            "ticks": "",
            "zerolinecolor": "white"
           },
           "yaxis": {
            "backgroundcolor": "#E5ECF6",
            "gridcolor": "white",
            "gridwidth": 2,
            "linecolor": "white",
            "showbackground": true,
            "ticks": "",
            "zerolinecolor": "white"
           },
           "zaxis": {
            "backgroundcolor": "#E5ECF6",
            "gridcolor": "white",
            "gridwidth": 2,
            "linecolor": "white",
            "showbackground": true,
            "ticks": "",
            "zerolinecolor": "white"
           }
          },
          "shapedefaults": {
           "line": {
            "color": "#2a3f5f"
           }
          },
          "ternary": {
           "aaxis": {
            "gridcolor": "white",
            "linecolor": "white",
            "ticks": ""
           },
           "baxis": {
            "gridcolor": "white",
            "linecolor": "white",
            "ticks": ""
           },
           "bgcolor": "#E5ECF6",
           "caxis": {
            "gridcolor": "white",
            "linecolor": "white",
            "ticks": ""
           }
          },
          "title": {
           "x": 0.05
          },
          "xaxis": {
           "automargin": true,
           "gridcolor": "white",
           "linecolor": "white",
           "ticks": "",
           "title": {
            "standoff": 15
           },
           "zerolinecolor": "white",
           "zerolinewidth": 2
          },
          "yaxis": {
           "automargin": true,
           "gridcolor": "white",
           "linecolor": "white",
           "ticks": "",
           "title": {
            "standoff": 15
           },
           "zerolinecolor": "white",
           "zerolinewidth": 2
          }
         }
        },
        "title": {
         "text": "Length of Sentences"
        }
       }
      },
      "text/html": [
       "<div>                            <div id=\"684a11a9-805d-41ca-8360-e97ec3d7318e\" class=\"plotly-graph-div\" style=\"height:525px; width:100%;\"></div>            <script type=\"text/javascript\">                require([\"plotly\"], function(Plotly) {                    window.PLOTLYENV=window.PLOTLYENV || {};                                    if (document.getElementById(\"684a11a9-805d-41ca-8360-e97ec3d7318e\")) {                    Plotly.newPlot(                        \"684a11a9-805d-41ca-8360-e97ec3d7318e\",                        [{\"x\":[\"0 - 10\",\"10 - 20\",\"20 - 30\",\"30 - 40\",\"40 - 50\",\"50 - 60\",\"60 - 70\",\"70 - 80\",\"> 80\"],\"y\":[6810,3671,1159,455,227,95,57,25,57],\"type\":\"bar\"}],                        {\"title\":{\"text\":\"Length of Sentences\"},\"template\":{\"data\":{\"histogram2dcontour\":[{\"type\":\"histogram2dcontour\",\"colorbar\":{\"outlinewidth\":0,\"ticks\":\"\"},\"colorscale\":[[0.0,\"#0d0887\"],[0.1111111111111111,\"#46039f\"],[0.2222222222222222,\"#7201a8\"],[0.3333333333333333,\"#9c179e\"],[0.4444444444444444,\"#bd3786\"],[0.5555555555555556,\"#d8576b\"],[0.6666666666666666,\"#ed7953\"],[0.7777777777777778,\"#fb9f3a\"],[0.8888888888888888,\"#fdca26\"],[1.0,\"#f0f921\"]]}],\"choropleth\":[{\"type\":\"choropleth\",\"colorbar\":{\"outlinewidth\":0,\"ticks\":\"\"}}],\"histogram2d\":[{\"type\":\"histogram2d\",\"colorbar\":{\"outlinewidth\":0,\"ticks\":\"\"},\"colorscale\":[[0.0,\"#0d0887\"],[0.1111111111111111,\"#46039f\"],[0.2222222222222222,\"#7201a8\"],[0.3333333333333333,\"#9c179e\"],[0.4444444444444444,\"#bd3786\"],[0.5555555555555556,\"#d8576b\"],[0.6666666666666666,\"#ed7953\"],[0.7777777777777778,\"#fb9f3a\"],[0.8888888888888888,\"#fdca26\"],[1.0,\"#f0f921\"]]}],\"heatmap\":[{\"type\":\"heatmap\",\"colorbar\":{\"outlinewidth\":0,\"ticks\":\"\"},\"colorscale\":[[0.0,\"#0d0887\"],[0.1111111111111111,\"#46039f\"],[0.2222222222222222,\"#7201a8\"],[0.3333333333333333,\"#9c179e\"],[0.4444444444444444,\"#bd3786\"],[0.5555555555555556,\"#d8576b\"],[0.6666666666666666,\"#ed7953\"],[0.7777777777777778,\"#fb9f3a\"],[0.8888888888888888,\"#fdca26\"],[1.0,\"#f0f921\"]]}],\"heatmapgl\":[{\"type\":\"heatmapgl\",\"colorbar\":{\"outlinewidth\":0,\"ticks\":\"\"},\"colorscale\":[[0.0,\"#0d0887\"],[0.1111111111111111,\"#46039f\"],[0.2222222222222222,\"#7201a8\"],[0.3333333333333333,\"#9c179e\"],[0.4444444444444444,\"#bd3786\"],[0.5555555555555556,\"#d8576b\"],[0.6666666666666666,\"#ed7953\"],[0.7777777777777778,\"#fb9f3a\"],[0.8888888888888888,\"#fdca26\"],[1.0,\"#f0f921\"]]}],\"contourcarpet\":[{\"type\":\"contourcarpet\",\"colorbar\":{\"outlinewidth\":0,\"ticks\":\"\"}}],\"contour\":[{\"type\":\"contour\",\"colorbar\":{\"outlinewidth\":0,\"ticks\":\"\"},\"colorscale\":[[0.0,\"#0d0887\"],[0.1111111111111111,\"#46039f\"],[0.2222222222222222,\"#7201a8\"],[0.3333333333333333,\"#9c179e\"],[0.4444444444444444,\"#bd3786\"],[0.5555555555555556,\"#d8576b\"],[0.6666666666666666,\"#ed7953\"],[0.7777777777777778,\"#fb9f3a\"],[0.8888888888888888,\"#fdca26\"],[1.0,\"#f0f921\"]]}],\"surface\":[{\"type\":\"surface\",\"colorbar\":{\"outlinewidth\":0,\"ticks\":\"\"},\"colorscale\":[[0.0,\"#0d0887\"],[0.1111111111111111,\"#46039f\"],[0.2222222222222222,\"#7201a8\"],[0.3333333333333333,\"#9c179e\"],[0.4444444444444444,\"#bd3786\"],[0.5555555555555556,\"#d8576b\"],[0.6666666666666666,\"#ed7953\"],[0.7777777777777778,\"#fb9f3a\"],[0.8888888888888888,\"#fdca26\"],[1.0,\"#f0f921\"]]}],\"mesh3d\":[{\"type\":\"mesh3d\",\"colorbar\":{\"outlinewidth\":0,\"ticks\":\"\"}}],\"scatter\":[{\"fillpattern\":{\"fillmode\":\"overlay\",\"size\":10,\"solidity\":0.2},\"type\":\"scatter\"}],\"parcoords\":[{\"type\":\"parcoords\",\"line\":{\"colorbar\":{\"outlinewidth\":0,\"ticks\":\"\"}}}],\"scatterpolargl\":[{\"type\":\"scatterpolargl\",\"marker\":{\"colorbar\":{\"outlinewidth\":0,\"ticks\":\"\"}}}],\"bar\":[{\"error_x\":{\"color\":\"#2a3f5f\"},\"error_y\":{\"color\":\"#2a3f5f\"},\"marker\":{\"line\":{\"color\":\"#E5ECF6\",\"width\":0.5},\"pattern\":{\"fillmode\":\"overlay\",\"size\":10,\"solidity\":0.2}},\"type\":\"bar\"}],\"scattergeo\":[{\"type\":\"scattergeo\",\"marker\":{\"colorbar\":{\"outlinewidth\":0,\"ticks\":\"\"}}}],\"scatterpolar\":[{\"type\":\"scatterpolar\",\"marker\":{\"colorbar\":{\"outlinewidth\":0,\"ticks\":\"\"}}}],\"histogram\":[{\"marker\":{\"pattern\":{\"fillmode\":\"overlay\",\"size\":10,\"solidity\":0.2}},\"type\":\"histogram\"}],\"scattergl\":[{\"type\":\"scattergl\",\"marker\":{\"colorbar\":{\"outlinewidth\":0,\"ticks\":\"\"}}}],\"scatter3d\":[{\"type\":\"scatter3d\",\"line\":{\"colorbar\":{\"outlinewidth\":0,\"ticks\":\"\"}},\"marker\":{\"colorbar\":{\"outlinewidth\":0,\"ticks\":\"\"}}}],\"scattermapbox\":[{\"type\":\"scattermapbox\",\"marker\":{\"colorbar\":{\"outlinewidth\":0,\"ticks\":\"\"}}}],\"scatterternary\":[{\"type\":\"scatterternary\",\"marker\":{\"colorbar\":{\"outlinewidth\":0,\"ticks\":\"\"}}}],\"scattercarpet\":[{\"type\":\"scattercarpet\",\"marker\":{\"colorbar\":{\"outlinewidth\":0,\"ticks\":\"\"}}}],\"carpet\":[{\"aaxis\":{\"endlinecolor\":\"#2a3f5f\",\"gridcolor\":\"white\",\"linecolor\":\"white\",\"minorgridcolor\":\"white\",\"startlinecolor\":\"#2a3f5f\"},\"baxis\":{\"endlinecolor\":\"#2a3f5f\",\"gridcolor\":\"white\",\"linecolor\":\"white\",\"minorgridcolor\":\"white\",\"startlinecolor\":\"#2a3f5f\"},\"type\":\"carpet\"}],\"table\":[{\"cells\":{\"fill\":{\"color\":\"#EBF0F8\"},\"line\":{\"color\":\"white\"}},\"header\":{\"fill\":{\"color\":\"#C8D4E3\"},\"line\":{\"color\":\"white\"}},\"type\":\"table\"}],\"barpolar\":[{\"marker\":{\"line\":{\"color\":\"#E5ECF6\",\"width\":0.5},\"pattern\":{\"fillmode\":\"overlay\",\"size\":10,\"solidity\":0.2}},\"type\":\"barpolar\"}],\"pie\":[{\"automargin\":true,\"type\":\"pie\"}]},\"layout\":{\"autotypenumbers\":\"strict\",\"colorway\":[\"#636efa\",\"#EF553B\",\"#00cc96\",\"#ab63fa\",\"#FFA15A\",\"#19d3f3\",\"#FF6692\",\"#B6E880\",\"#FF97FF\",\"#FECB52\"],\"font\":{\"color\":\"#2a3f5f\"},\"hovermode\":\"closest\",\"hoverlabel\":{\"align\":\"left\"},\"paper_bgcolor\":\"white\",\"plot_bgcolor\":\"#E5ECF6\",\"polar\":{\"bgcolor\":\"#E5ECF6\",\"angularaxis\":{\"gridcolor\":\"white\",\"linecolor\":\"white\",\"ticks\":\"\"},\"radialaxis\":{\"gridcolor\":\"white\",\"linecolor\":\"white\",\"ticks\":\"\"}},\"ternary\":{\"bgcolor\":\"#E5ECF6\",\"aaxis\":{\"gridcolor\":\"white\",\"linecolor\":\"white\",\"ticks\":\"\"},\"baxis\":{\"gridcolor\":\"white\",\"linecolor\":\"white\",\"ticks\":\"\"},\"caxis\":{\"gridcolor\":\"white\",\"linecolor\":\"white\",\"ticks\":\"\"}},\"coloraxis\":{\"colorbar\":{\"outlinewidth\":0,\"ticks\":\"\"}},\"colorscale\":{\"sequential\":[[0.0,\"#0d0887\"],[0.1111111111111111,\"#46039f\"],[0.2222222222222222,\"#7201a8\"],[0.3333333333333333,\"#9c179e\"],[0.4444444444444444,\"#bd3786\"],[0.5555555555555556,\"#d8576b\"],[0.6666666666666666,\"#ed7953\"],[0.7777777777777778,\"#fb9f3a\"],[0.8888888888888888,\"#fdca26\"],[1.0,\"#f0f921\"]],\"sequentialminus\":[[0.0,\"#0d0887\"],[0.1111111111111111,\"#46039f\"],[0.2222222222222222,\"#7201a8\"],[0.3333333333333333,\"#9c179e\"],[0.4444444444444444,\"#bd3786\"],[0.5555555555555556,\"#d8576b\"],[0.6666666666666666,\"#ed7953\"],[0.7777777777777778,\"#fb9f3a\"],[0.8888888888888888,\"#fdca26\"],[1.0,\"#f0f921\"]],\"diverging\":[[0,\"#8e0152\"],[0.1,\"#c51b7d\"],[0.2,\"#de77ae\"],[0.3,\"#f1b6da\"],[0.4,\"#fde0ef\"],[0.5,\"#f7f7f7\"],[0.6,\"#e6f5d0\"],[0.7,\"#b8e186\"],[0.8,\"#7fbc41\"],[0.9,\"#4d9221\"],[1,\"#276419\"]]},\"xaxis\":{\"gridcolor\":\"white\",\"linecolor\":\"white\",\"ticks\":\"\",\"title\":{\"standoff\":15},\"zerolinecolor\":\"white\",\"automargin\":true,\"zerolinewidth\":2},\"yaxis\":{\"gridcolor\":\"white\",\"linecolor\":\"white\",\"ticks\":\"\",\"title\":{\"standoff\":15},\"zerolinecolor\":\"white\",\"automargin\":true,\"zerolinewidth\":2},\"scene\":{\"xaxis\":{\"backgroundcolor\":\"#E5ECF6\",\"gridcolor\":\"white\",\"linecolor\":\"white\",\"showbackground\":true,\"ticks\":\"\",\"zerolinecolor\":\"white\",\"gridwidth\":2},\"yaxis\":{\"backgroundcolor\":\"#E5ECF6\",\"gridcolor\":\"white\",\"linecolor\":\"white\",\"showbackground\":true,\"ticks\":\"\",\"zerolinecolor\":\"white\",\"gridwidth\":2},\"zaxis\":{\"backgroundcolor\":\"#E5ECF6\",\"gridcolor\":\"white\",\"linecolor\":\"white\",\"showbackground\":true,\"ticks\":\"\",\"zerolinecolor\":\"white\",\"gridwidth\":2}},\"shapedefaults\":{\"line\":{\"color\":\"#2a3f5f\"}},\"annotationdefaults\":{\"arrowcolor\":\"#2a3f5f\",\"arrowhead\":0,\"arrowwidth\":1},\"geo\":{\"bgcolor\":\"white\",\"landcolor\":\"#E5ECF6\",\"subunitcolor\":\"white\",\"showland\":true,\"showlakes\":true,\"lakecolor\":\"white\"},\"title\":{\"x\":0.05},\"mapbox\":{\"style\":\"light\"}}}},                        {\"responsive\": true}                    ).then(function(){\n",
       "                            \n",
       "var gd = document.getElementById('684a11a9-805d-41ca-8360-e97ec3d7318e');\n",
       "var x = new MutationObserver(function (mutations, observer) {{\n",
       "        var display = window.getComputedStyle(gd).display;\n",
       "        if (!display || display === 'none') {{\n",
       "            console.log([gd, 'removed!']);\n",
       "            Plotly.purge(gd);\n",
       "            observer.disconnect();\n",
       "        }}\n",
       "}});\n",
       "\n",
       "// Listen for the removal of the full notebook cells\n",
       "var notebookContainer = gd.closest('#notebook-container');\n",
       "if (notebookContainer) {{\n",
       "    x.observe(notebookContainer, {childList: true});\n",
       "}}\n",
       "\n",
       "// Listen for the clearing of the current output cell\n",
       "var outputEl = gd.closest('.output');\n",
       "if (outputEl) {{\n",
       "    x.observe(outputEl, {childList: true});\n",
       "}}\n",
       "\n",
       "                        })                };                });            </script>        </div>"
      ]
     },
     "metadata": {},
     "output_type": "display_data"
    }
   ],
   "source": [
    "def plot_bar_with_outliers(series, name, end):\n",
    "    start = int(series.min())\n",
    "    size = 10\n",
    "\n",
    "    # Making a histogram\n",
    "    largest_value = series.max()\n",
    "    if largest_value > end:\n",
    "        hist = np.histogram(series, bins=list(range(start, end+size, size)) + [largest_value])\n",
    "    else:\n",
    "        hist = np.histogram(series, bins=list(range(start, end+size, size)) + [end+size])\n",
    "\n",
    "    # Adding labels to the chart\n",
    "    labels = []\n",
    "    for i, j in zip(hist[1][0::1], hist[1][1::1]):\n",
    "        if j <= end:\n",
    "            labels.append('{} - {}'.format(i, j))\n",
    "        else:\n",
    "            labels.append('> {}'.format(i))\n",
    "\n",
    "    # Plotting the graph\n",
    "    data = [go.Bar(x=labels,\n",
    "                   y=hist[0])]\n",
    "\n",
    "    layout = go.Layout(\n",
    "        title=name\n",
    "    )\n",
    "    fig = go.Figure(data=data, layout=layout)\n",
    "    fig.show()\n",
    "\n",
    "\n",
    "plot_bar_with_outliers(pd.Series(listOfLengths), 'Length of Sentences', end=80)"
   ]
  },
  {
   "cell_type": "markdown",
   "id": "ab5c432c",
   "metadata": {},
   "source": [
    "### Bert"
   ]
  },
  {
   "cell_type": "code",
   "execution_count": 93,
   "id": "a920e8a9",
   "metadata": {},
   "outputs": [
    {
     "data": {
      "application/vnd.jupyter.widget-view+json": {
       "model_id": "1aa39134e0b64dfe9a19b89630946259",
       "version_major": 2,
       "version_minor": 0
      },
      "text/plain": [
       "Downloading:   0%|          | 0.00/208k [00:00<?, ?B/s]"
      ]
     },
     "metadata": {},
     "output_type": "display_data"
    },
    {
     "data": {
      "application/vnd.jupyter.widget-view+json": {
       "model_id": "4cf3f2a575d84266a6746f78b7f65820",
       "version_major": 2,
       "version_minor": 0
      },
      "text/plain": [
       "Downloading:   0%|          | 0.00/29.0 [00:00<?, ?B/s]"
      ]
     },
     "metadata": {},
     "output_type": "display_data"
    },
    {
     "data": {
      "application/vnd.jupyter.widget-view+json": {
       "model_id": "dbae9c51d07a4ffebd079ca9637a7d2e",
       "version_major": 2,
       "version_minor": 0
      },
      "text/plain": [
       "Downloading:   0%|          | 0.00/570 [00:00<?, ?B/s]"
      ]
     },
     "metadata": {},
     "output_type": "display_data"
    }
   ],
   "source": [
    "tokenizer = BertTokenizer.from_pretrained('bert-base-cased', do_lower_case = False)"
   ]
  },
  {
   "cell_type": "code",
   "execution_count": 121,
   "id": "b35235e4",
   "metadata": {},
   "outputs": [],
   "source": [
    "HYPER_PARAMETERS = {\n",
    "    \"MAX_LEN\" : 80, # Max Length of the sentence\n",
    "    \"BATCH_SIZE\" : 16,\n",
    "\n",
    "    \"EPOCHS\" : 3,\n",
    "    \"MAX_GRAD_NORM\" : 1.0,\n",
    "\n",
    "    \"LEARNING_RATE\" : 3e-3,\n",
    "    \"EPSILON\" : 1e-8\n",
    "}"
   ]
  },
  {
   "cell_type": "code",
   "execution_count": 100,
   "id": "ae46a385",
   "metadata": {},
   "outputs": [],
   "source": [
    "class DataProcessing:\n",
    "    def __init__(self, sentences, text_labels, HYPER_PARAMETERS):\n",
    "        self.sentences = sentences\n",
    "        self.text_labels = text_labels\n",
    "        self.HYPER_PARAMETERS = HYPER_PARAMETERS\n",
    "\n",
    "        # List of tuples of tokenized sentences\n",
    "        self.tokenized_texts_and_labels = [self.tokenize_preserve(sent,labs) for sent,labs in zip(self.sentences,self.text_labels)]\n",
    "        # Seperates tokenized pairs into labels and tokens\n",
    "        self.tokenized_text = [token_label_pair[0] for token_label_pair in self.tokenized_texts_and_labels]\n",
    "        self.labels = [token_label_pair[1] for token_label_pair in self.tokenized_texts_and_labels] \n",
    "\n",
    "    def tokenize_preserve(self,sent,labs):\n",
    "        tokenized_sentence = []\n",
    "        labels = []\n",
    "\n",
    "        for word, label in zip(sent,labs):\n",
    "            tokenized_word = tokenizer.tokenize(word)\n",
    "            n_subwords = len(tokenized_word)\n",
    "            tokenized_sentence.extend(tokenized_word)\n",
    "            labels.extend([label]*n_subwords)\n",
    "\n",
    "        return tokenized_sentence, labels\n",
    "\n",
    "    def getProcessedData(self,):\n",
    "        input_ids = pad_sequences(\n",
    "                              [tokenizer.convert_tokens_to_ids(txt) for txt in self.tokenized_text], # converts tokens to ids\n",
    "                             maxlen= self.HYPER_PARAMETERS['MAX_LEN'], dtype='long',value=0.0,\n",
    "                             truncating='post',padding='post')\n",
    "        tags = pad_sequences(\n",
    "                        [[tag_idx.get(l)for l in lab]for lab in self.labels], # Gets corresponding tag_id\n",
    "                        maxlen= self.HYPER_PARAMETERS['MAX_LEN'], dtype='long', value=tag_idx['PAD'],\n",
    "                        truncating='post',padding='post')\n",
    "\n",
    "        attention_masks = [[float(i !=0.0) for i in ii]for ii in input_ids] # Float(True) = 1.0 for attention for only non-padded inputs\n",
    "\n",
    "        self.printOutputs(input_ids, tags, attention_masks)\n",
    "\n",
    "        return input_ids, tags, attention_masks\n",
    "\n",
    "    def printOutputs(self,input_ids, tags, attention_masks):\n",
    "        print('Inputs: {}'.format(input_ids[0]))\n",
    "        print('Tags: {}'.format(tags[0]))\n",
    "        print('Attention Mask: {}'.format(attention_masks[0]))\n",
    "        print('Lengths Matching: {}, {}, {}'.format(len(input_ids[0]), len(tags[0]), len(attention_masks[0])))"
   ]
  },
  {
   "cell_type": "code",
   "execution_count": 101,
   "id": "4dacf263",
   "metadata": {},
   "outputs": [
    {
     "name": "stdout",
     "output_type": "stream",
     "text": [
      "Inputs: [6776 1104  128 1105 3453 1201    0    0    0    0    0    0    0    0\n",
      "    0    0    0    0    0    0    0    0    0    0    0    0    0    0\n",
      "    0    0    0    0    0    0    0    0    0    0    0    0    0    0\n",
      "    0    0    0    0    0    0    0    0    0    0    0    0    0    0\n",
      "    0    0    0    0    0    0    0    0    0    0    0    0    0    0\n",
      "    0    0    0    0    0    0    0    0    0    0]\n",
      "Tags: [ 0 23  1  2  2  2 22 22 22 22 22 22 22 22 22 22 22 22 22 22 22 22 22 22\n",
      " 22 22 22 22 22 22 22 22 22 22 22 22 22 22 22 22 22 22 22 22 22 22 22 22\n",
      " 22 22 22 22 22 22 22 22 22 22 22 22 22 22 22 22 22 22 22 22 22 22 22 22\n",
      " 22 22 22 22 22 22 22 22]\n",
      "Attention Mask: [1.0, 1.0, 1.0, 1.0, 1.0, 1.0, 0.0, 0.0, 0.0, 0.0, 0.0, 0.0, 0.0, 0.0, 0.0, 0.0, 0.0, 0.0, 0.0, 0.0, 0.0, 0.0, 0.0, 0.0, 0.0, 0.0, 0.0, 0.0, 0.0, 0.0, 0.0, 0.0, 0.0, 0.0, 0.0, 0.0, 0.0, 0.0, 0.0, 0.0, 0.0, 0.0, 0.0, 0.0, 0.0, 0.0, 0.0, 0.0, 0.0, 0.0, 0.0, 0.0, 0.0, 0.0, 0.0, 0.0, 0.0, 0.0, 0.0, 0.0, 0.0, 0.0, 0.0, 0.0, 0.0, 0.0, 0.0, 0.0, 0.0, 0.0, 0.0, 0.0, 0.0, 0.0, 0.0, 0.0, 0.0, 0.0, 0.0, 0.0]\n",
      "Lengths Matching: 80, 80, 80\n"
     ]
    }
   ],
   "source": [
    "dataProc = DataProcessing(TOKENS, TAGS, HYPER_PARAMETERS)\n",
    "input_ids, tags, attention_masks = dataProc.getProcessedData()"
   ]
  },
  {
   "cell_type": "code",
   "execution_count": 102,
   "id": "5de39cb0",
   "metadata": {},
   "outputs": [
    {
     "name": "stdout",
     "output_type": "stream",
     "text": [
      "Input Matrices Shape: (12556, 80)\n"
     ]
    }
   ],
   "source": [
    "print('Input Matrices Shape: {}'.format(input_ids.shape))"
   ]
  },
  {
   "cell_type": "markdown",
   "id": "ca756f0d",
   "metadata": {},
   "source": [
    "### Test Train Split"
   ]
  },
  {
   "cell_type": "code",
   "execution_count": 103,
   "id": "d7466227",
   "metadata": {},
   "outputs": [
    {
     "name": "stdout",
     "output_type": "stream",
     "text": [
      "Input Train Size: 10672, 10672, 10672:\n",
      "Input Val Size: 1884, 1884, 1884:\n"
     ]
    }
   ],
   "source": [
    "tr_input, val_input, tr_tag, val_tag = train_test_split(input_ids,tags,random_state=45,test_size=.15) # Get Train Test Split for Inputs and Tags\n",
    "tr_masks, val_masks, _, _ = train_test_split(attention_masks, input_ids, random_state=45, test_size=.15) # Get Split for NER\n",
    "print('Input Train Size: {}, {}, {}:'.format(len(tr_masks),len(tr_input), len(tr_tag)))\n",
    "print('Input Val Size: {}, {}, {}:'.format(len(val_masks),len(val_input), len(val_tag)))"
   ]
  },
  {
   "cell_type": "code",
   "execution_count": 104,
   "id": "25c332dc",
   "metadata": {},
   "outputs": [],
   "source": [
    "# Converting to type tensor\n",
    "tr_input = torch.tensor(tr_input)\n",
    "val_input = torch.tensor(val_input)\n",
    "\n",
    "tr_tag = torch.tensor(tr_tag)\n",
    "val_tag = torch.tensor(val_tag)\n",
    "\n",
    "tr_masks = torch.tensor(tr_masks)\n",
    "val_masks = torch.tensor(val_masks)"
   ]
  },
  {
   "cell_type": "markdown",
   "id": "404bc0d2",
   "metadata": {},
   "source": [
    "### DataLoader"
   ]
  },
  {
   "cell_type": "code",
   "execution_count": 105,
   "id": "5e4030fa",
   "metadata": {},
   "outputs": [
    {
     "data": {
      "text/plain": [
       "<torch.utils.data.dataset.TensorDataset at 0x7f09ac9642e0>"
      ]
     },
     "execution_count": 105,
     "metadata": {},
     "output_type": "execute_result"
    }
   ],
   "source": [
    "train_data = TensorDataset(tr_input, tr_masks, tr_tag)\n",
    "train_data"
   ]
  },
  {
   "cell_type": "code",
   "execution_count": 106,
   "id": "5a54b16b",
   "metadata": {},
   "outputs": [],
   "source": [
    "train_data = TensorDataset(tr_input, tr_masks, tr_tag)\n",
    "train_sampler = RandomSampler(train_data)\n",
    "train_dataloader = DataLoader(train_data, sampler=train_sampler, batch_size=HYPER_PARAMETERS['BATCH_SIZE'])\n",
    "\n",
    "valid_data = TensorDataset(val_input, val_masks, val_tag)\n",
    "valid_sampler = SequentialSampler(valid_data)\n",
    "valid_dataloader = DataLoader(valid_data, sampler=valid_sampler, batch_size=HYPER_PARAMETERS['BATCH_SIZE'])"
   ]
  },
  {
   "cell_type": "code",
   "execution_count": 107,
   "id": "9ebfc96a",
   "metadata": {},
   "outputs": [
    {
     "data": {
      "application/vnd.jupyter.widget-view+json": {
       "model_id": "1d70ee3faaad464d9813c455cdcdf444",
       "version_major": 2,
       "version_minor": 0
      },
      "text/plain": [
       "Downloading:   0%|          | 0.00/416M [00:00<?, ?B/s]"
      ]
     },
     "metadata": {},
     "output_type": "display_data"
    },
    {
     "name": "stderr",
     "output_type": "stream",
     "text": [
      "Some weights of the model checkpoint at bert-base-cased were not used when initializing BertForTokenClassification: ['cls.predictions.transform.dense.bias', 'cls.seq_relationship.weight', 'cls.predictions.bias', 'cls.seq_relationship.bias', 'cls.predictions.decoder.weight', 'cls.predictions.transform.LayerNorm.bias', 'cls.predictions.transform.LayerNorm.weight', 'cls.predictions.transform.dense.weight']\n",
      "- This IS expected if you are initializing BertForTokenClassification from the checkpoint of a model trained on another task or with another architecture (e.g. initializing a BertForSequenceClassification model from a BertForPreTraining model).\n",
      "- This IS NOT expected if you are initializing BertForTokenClassification from the checkpoint of a model that you expect to be exactly identical (initializing a BertForSequenceClassification model from a BertForSequenceClassification model).\n",
      "Some weights of BertForTokenClassification were not initialized from the model checkpoint at bert-base-cased and are newly initialized: ['classifier.weight', 'classifier.bias']\n",
      "You should probably TRAIN this model on a down-stream task to be able to use it for predictions and inference.\n"
     ]
    },
    {
     "data": {
      "text/plain": [
       "BertForTokenClassification(\n",
       "  (bert): BertModel(\n",
       "    (embeddings): BertEmbeddings(\n",
       "      (word_embeddings): Embedding(28996, 768, padding_idx=0)\n",
       "      (position_embeddings): Embedding(512, 768)\n",
       "      (token_type_embeddings): Embedding(2, 768)\n",
       "      (LayerNorm): LayerNorm((768,), eps=1e-12, elementwise_affine=True)\n",
       "      (dropout): Dropout(p=0.1, inplace=False)\n",
       "    )\n",
       "    (encoder): BertEncoder(\n",
       "      (layer): ModuleList(\n",
       "        (0): BertLayer(\n",
       "          (attention): BertAttention(\n",
       "            (self): BertSelfAttention(\n",
       "              (query): Linear(in_features=768, out_features=768, bias=True)\n",
       "              (key): Linear(in_features=768, out_features=768, bias=True)\n",
       "              (value): Linear(in_features=768, out_features=768, bias=True)\n",
       "              (dropout): Dropout(p=0.1, inplace=False)\n",
       "            )\n",
       "            (output): BertSelfOutput(\n",
       "              (dense): Linear(in_features=768, out_features=768, bias=True)\n",
       "              (LayerNorm): LayerNorm((768,), eps=1e-12, elementwise_affine=True)\n",
       "              (dropout): Dropout(p=0.1, inplace=False)\n",
       "            )\n",
       "          )\n",
       "          (intermediate): BertIntermediate(\n",
       "            (dense): Linear(in_features=768, out_features=3072, bias=True)\n",
       "            (intermediate_act_fn): GELUActivation()\n",
       "          )\n",
       "          (output): BertOutput(\n",
       "            (dense): Linear(in_features=3072, out_features=768, bias=True)\n",
       "            (LayerNorm): LayerNorm((768,), eps=1e-12, elementwise_affine=True)\n",
       "            (dropout): Dropout(p=0.1, inplace=False)\n",
       "          )\n",
       "        )\n",
       "        (1): BertLayer(\n",
       "          (attention): BertAttention(\n",
       "            (self): BertSelfAttention(\n",
       "              (query): Linear(in_features=768, out_features=768, bias=True)\n",
       "              (key): Linear(in_features=768, out_features=768, bias=True)\n",
       "              (value): Linear(in_features=768, out_features=768, bias=True)\n",
       "              (dropout): Dropout(p=0.1, inplace=False)\n",
       "            )\n",
       "            (output): BertSelfOutput(\n",
       "              (dense): Linear(in_features=768, out_features=768, bias=True)\n",
       "              (LayerNorm): LayerNorm((768,), eps=1e-12, elementwise_affine=True)\n",
       "              (dropout): Dropout(p=0.1, inplace=False)\n",
       "            )\n",
       "          )\n",
       "          (intermediate): BertIntermediate(\n",
       "            (dense): Linear(in_features=768, out_features=3072, bias=True)\n",
       "            (intermediate_act_fn): GELUActivation()\n",
       "          )\n",
       "          (output): BertOutput(\n",
       "            (dense): Linear(in_features=3072, out_features=768, bias=True)\n",
       "            (LayerNorm): LayerNorm((768,), eps=1e-12, elementwise_affine=True)\n",
       "            (dropout): Dropout(p=0.1, inplace=False)\n",
       "          )\n",
       "        )\n",
       "        (2): BertLayer(\n",
       "          (attention): BertAttention(\n",
       "            (self): BertSelfAttention(\n",
       "              (query): Linear(in_features=768, out_features=768, bias=True)\n",
       "              (key): Linear(in_features=768, out_features=768, bias=True)\n",
       "              (value): Linear(in_features=768, out_features=768, bias=True)\n",
       "              (dropout): Dropout(p=0.1, inplace=False)\n",
       "            )\n",
       "            (output): BertSelfOutput(\n",
       "              (dense): Linear(in_features=768, out_features=768, bias=True)\n",
       "              (LayerNorm): LayerNorm((768,), eps=1e-12, elementwise_affine=True)\n",
       "              (dropout): Dropout(p=0.1, inplace=False)\n",
       "            )\n",
       "          )\n",
       "          (intermediate): BertIntermediate(\n",
       "            (dense): Linear(in_features=768, out_features=3072, bias=True)\n",
       "            (intermediate_act_fn): GELUActivation()\n",
       "          )\n",
       "          (output): BertOutput(\n",
       "            (dense): Linear(in_features=3072, out_features=768, bias=True)\n",
       "            (LayerNorm): LayerNorm((768,), eps=1e-12, elementwise_affine=True)\n",
       "            (dropout): Dropout(p=0.1, inplace=False)\n",
       "          )\n",
       "        )\n",
       "        (3): BertLayer(\n",
       "          (attention): BertAttention(\n",
       "            (self): BertSelfAttention(\n",
       "              (query): Linear(in_features=768, out_features=768, bias=True)\n",
       "              (key): Linear(in_features=768, out_features=768, bias=True)\n",
       "              (value): Linear(in_features=768, out_features=768, bias=True)\n",
       "              (dropout): Dropout(p=0.1, inplace=False)\n",
       "            )\n",
       "            (output): BertSelfOutput(\n",
       "              (dense): Linear(in_features=768, out_features=768, bias=True)\n",
       "              (LayerNorm): LayerNorm((768,), eps=1e-12, elementwise_affine=True)\n",
       "              (dropout): Dropout(p=0.1, inplace=False)\n",
       "            )\n",
       "          )\n",
       "          (intermediate): BertIntermediate(\n",
       "            (dense): Linear(in_features=768, out_features=3072, bias=True)\n",
       "            (intermediate_act_fn): GELUActivation()\n",
       "          )\n",
       "          (output): BertOutput(\n",
       "            (dense): Linear(in_features=3072, out_features=768, bias=True)\n",
       "            (LayerNorm): LayerNorm((768,), eps=1e-12, elementwise_affine=True)\n",
       "            (dropout): Dropout(p=0.1, inplace=False)\n",
       "          )\n",
       "        )\n",
       "        (4): BertLayer(\n",
       "          (attention): BertAttention(\n",
       "            (self): BertSelfAttention(\n",
       "              (query): Linear(in_features=768, out_features=768, bias=True)\n",
       "              (key): Linear(in_features=768, out_features=768, bias=True)\n",
       "              (value): Linear(in_features=768, out_features=768, bias=True)\n",
       "              (dropout): Dropout(p=0.1, inplace=False)\n",
       "            )\n",
       "            (output): BertSelfOutput(\n",
       "              (dense): Linear(in_features=768, out_features=768, bias=True)\n",
       "              (LayerNorm): LayerNorm((768,), eps=1e-12, elementwise_affine=True)\n",
       "              (dropout): Dropout(p=0.1, inplace=False)\n",
       "            )\n",
       "          )\n",
       "          (intermediate): BertIntermediate(\n",
       "            (dense): Linear(in_features=768, out_features=3072, bias=True)\n",
       "            (intermediate_act_fn): GELUActivation()\n",
       "          )\n",
       "          (output): BertOutput(\n",
       "            (dense): Linear(in_features=3072, out_features=768, bias=True)\n",
       "            (LayerNorm): LayerNorm((768,), eps=1e-12, elementwise_affine=True)\n",
       "            (dropout): Dropout(p=0.1, inplace=False)\n",
       "          )\n",
       "        )\n",
       "        (5): BertLayer(\n",
       "          (attention): BertAttention(\n",
       "            (self): BertSelfAttention(\n",
       "              (query): Linear(in_features=768, out_features=768, bias=True)\n",
       "              (key): Linear(in_features=768, out_features=768, bias=True)\n",
       "              (value): Linear(in_features=768, out_features=768, bias=True)\n",
       "              (dropout): Dropout(p=0.1, inplace=False)\n",
       "            )\n",
       "            (output): BertSelfOutput(\n",
       "              (dense): Linear(in_features=768, out_features=768, bias=True)\n",
       "              (LayerNorm): LayerNorm((768,), eps=1e-12, elementwise_affine=True)\n",
       "              (dropout): Dropout(p=0.1, inplace=False)\n",
       "            )\n",
       "          )\n",
       "          (intermediate): BertIntermediate(\n",
       "            (dense): Linear(in_features=768, out_features=3072, bias=True)\n",
       "            (intermediate_act_fn): GELUActivation()\n",
       "          )\n",
       "          (output): BertOutput(\n",
       "            (dense): Linear(in_features=3072, out_features=768, bias=True)\n",
       "            (LayerNorm): LayerNorm((768,), eps=1e-12, elementwise_affine=True)\n",
       "            (dropout): Dropout(p=0.1, inplace=False)\n",
       "          )\n",
       "        )\n",
       "        (6): BertLayer(\n",
       "          (attention): BertAttention(\n",
       "            (self): BertSelfAttention(\n",
       "              (query): Linear(in_features=768, out_features=768, bias=True)\n",
       "              (key): Linear(in_features=768, out_features=768, bias=True)\n",
       "              (value): Linear(in_features=768, out_features=768, bias=True)\n",
       "              (dropout): Dropout(p=0.1, inplace=False)\n",
       "            )\n",
       "            (output): BertSelfOutput(\n",
       "              (dense): Linear(in_features=768, out_features=768, bias=True)\n",
       "              (LayerNorm): LayerNorm((768,), eps=1e-12, elementwise_affine=True)\n",
       "              (dropout): Dropout(p=0.1, inplace=False)\n",
       "            )\n",
       "          )\n",
       "          (intermediate): BertIntermediate(\n",
       "            (dense): Linear(in_features=768, out_features=3072, bias=True)\n",
       "            (intermediate_act_fn): GELUActivation()\n",
       "          )\n",
       "          (output): BertOutput(\n",
       "            (dense): Linear(in_features=3072, out_features=768, bias=True)\n",
       "            (LayerNorm): LayerNorm((768,), eps=1e-12, elementwise_affine=True)\n",
       "            (dropout): Dropout(p=0.1, inplace=False)\n",
       "          )\n",
       "        )\n",
       "        (7): BertLayer(\n",
       "          (attention): BertAttention(\n",
       "            (self): BertSelfAttention(\n",
       "              (query): Linear(in_features=768, out_features=768, bias=True)\n",
       "              (key): Linear(in_features=768, out_features=768, bias=True)\n",
       "              (value): Linear(in_features=768, out_features=768, bias=True)\n",
       "              (dropout): Dropout(p=0.1, inplace=False)\n",
       "            )\n",
       "            (output): BertSelfOutput(\n",
       "              (dense): Linear(in_features=768, out_features=768, bias=True)\n",
       "              (LayerNorm): LayerNorm((768,), eps=1e-12, elementwise_affine=True)\n",
       "              (dropout): Dropout(p=0.1, inplace=False)\n",
       "            )\n",
       "          )\n",
       "          (intermediate): BertIntermediate(\n",
       "            (dense): Linear(in_features=768, out_features=3072, bias=True)\n",
       "            (intermediate_act_fn): GELUActivation()\n",
       "          )\n",
       "          (output): BertOutput(\n",
       "            (dense): Linear(in_features=3072, out_features=768, bias=True)\n",
       "            (LayerNorm): LayerNorm((768,), eps=1e-12, elementwise_affine=True)\n",
       "            (dropout): Dropout(p=0.1, inplace=False)\n",
       "          )\n",
       "        )\n",
       "        (8): BertLayer(\n",
       "          (attention): BertAttention(\n",
       "            (self): BertSelfAttention(\n",
       "              (query): Linear(in_features=768, out_features=768, bias=True)\n",
       "              (key): Linear(in_features=768, out_features=768, bias=True)\n",
       "              (value): Linear(in_features=768, out_features=768, bias=True)\n",
       "              (dropout): Dropout(p=0.1, inplace=False)\n",
       "            )\n",
       "            (output): BertSelfOutput(\n",
       "              (dense): Linear(in_features=768, out_features=768, bias=True)\n",
       "              (LayerNorm): LayerNorm((768,), eps=1e-12, elementwise_affine=True)\n",
       "              (dropout): Dropout(p=0.1, inplace=False)\n",
       "            )\n",
       "          )\n",
       "          (intermediate): BertIntermediate(\n",
       "            (dense): Linear(in_features=768, out_features=3072, bias=True)\n",
       "            (intermediate_act_fn): GELUActivation()\n",
       "          )\n",
       "          (output): BertOutput(\n",
       "            (dense): Linear(in_features=3072, out_features=768, bias=True)\n",
       "            (LayerNorm): LayerNorm((768,), eps=1e-12, elementwise_affine=True)\n",
       "            (dropout): Dropout(p=0.1, inplace=False)\n",
       "          )\n",
       "        )\n",
       "        (9): BertLayer(\n",
       "          (attention): BertAttention(\n",
       "            (self): BertSelfAttention(\n",
       "              (query): Linear(in_features=768, out_features=768, bias=True)\n",
       "              (key): Linear(in_features=768, out_features=768, bias=True)\n",
       "              (value): Linear(in_features=768, out_features=768, bias=True)\n",
       "              (dropout): Dropout(p=0.1, inplace=False)\n",
       "            )\n",
       "            (output): BertSelfOutput(\n",
       "              (dense): Linear(in_features=768, out_features=768, bias=True)\n",
       "              (LayerNorm): LayerNorm((768,), eps=1e-12, elementwise_affine=True)\n",
       "              (dropout): Dropout(p=0.1, inplace=False)\n",
       "            )\n",
       "          )\n",
       "          (intermediate): BertIntermediate(\n",
       "            (dense): Linear(in_features=768, out_features=3072, bias=True)\n",
       "            (intermediate_act_fn): GELUActivation()\n",
       "          )\n",
       "          (output): BertOutput(\n",
       "            (dense): Linear(in_features=3072, out_features=768, bias=True)\n",
       "            (LayerNorm): LayerNorm((768,), eps=1e-12, elementwise_affine=True)\n",
       "            (dropout): Dropout(p=0.1, inplace=False)\n",
       "          )\n",
       "        )\n",
       "        (10): BertLayer(\n",
       "          (attention): BertAttention(\n",
       "            (self): BertSelfAttention(\n",
       "              (query): Linear(in_features=768, out_features=768, bias=True)\n",
       "              (key): Linear(in_features=768, out_features=768, bias=True)\n",
       "              (value): Linear(in_features=768, out_features=768, bias=True)\n",
       "              (dropout): Dropout(p=0.1, inplace=False)\n",
       "            )\n",
       "            (output): BertSelfOutput(\n",
       "              (dense): Linear(in_features=768, out_features=768, bias=True)\n",
       "              (LayerNorm): LayerNorm((768,), eps=1e-12, elementwise_affine=True)\n",
       "              (dropout): Dropout(p=0.1, inplace=False)\n",
       "            )\n",
       "          )\n",
       "          (intermediate): BertIntermediate(\n",
       "            (dense): Linear(in_features=768, out_features=3072, bias=True)\n",
       "            (intermediate_act_fn): GELUActivation()\n",
       "          )\n",
       "          (output): BertOutput(\n",
       "            (dense): Linear(in_features=3072, out_features=768, bias=True)\n",
       "            (LayerNorm): LayerNorm((768,), eps=1e-12, elementwise_affine=True)\n",
       "            (dropout): Dropout(p=0.1, inplace=False)\n",
       "          )\n",
       "        )\n",
       "        (11): BertLayer(\n",
       "          (attention): BertAttention(\n",
       "            (self): BertSelfAttention(\n",
       "              (query): Linear(in_features=768, out_features=768, bias=True)\n",
       "              (key): Linear(in_features=768, out_features=768, bias=True)\n",
       "              (value): Linear(in_features=768, out_features=768, bias=True)\n",
       "              (dropout): Dropout(p=0.1, inplace=False)\n",
       "            )\n",
       "            (output): BertSelfOutput(\n",
       "              (dense): Linear(in_features=768, out_features=768, bias=True)\n",
       "              (LayerNorm): LayerNorm((768,), eps=1e-12, elementwise_affine=True)\n",
       "              (dropout): Dropout(p=0.1, inplace=False)\n",
       "            )\n",
       "          )\n",
       "          (intermediate): BertIntermediate(\n",
       "            (dense): Linear(in_features=768, out_features=3072, bias=True)\n",
       "            (intermediate_act_fn): GELUActivation()\n",
       "          )\n",
       "          (output): BertOutput(\n",
       "            (dense): Linear(in_features=3072, out_features=768, bias=True)\n",
       "            (LayerNorm): LayerNorm((768,), eps=1e-12, elementwise_affine=True)\n",
       "            (dropout): Dropout(p=0.1, inplace=False)\n",
       "          )\n",
       "        )\n",
       "      )\n",
       "    )\n",
       "  )\n",
       "  (dropout): Dropout(p=0.1, inplace=False)\n",
       "  (classifier): Linear(in_features=768, out_features=24, bias=True)\n",
       ")"
      ]
     },
     "execution_count": 107,
     "metadata": {},
     "output_type": "execute_result"
    }
   ],
   "source": [
    "model = BertForTokenClassification.from_pretrained( # Getting BERT's pretrained Token Classification model\n",
    "'bert-base-cased',\n",
    "num_labels=len(tag_idx),\n",
    "output_attentions = False,\n",
    "output_hidden_states = False)\n",
    "\n",
    "model.cuda()"
   ]
  },
  {
   "cell_type": "markdown",
   "id": "84cff092",
   "metadata": {},
   "source": [
    "### Optimizer and LR Scheduler"
   ]
  },
  {
   "cell_type": "code",
   "execution_count": 113,
   "id": "b8b1905c",
   "metadata": {},
   "outputs": [],
   "source": [
    "FULL_FINETUNING = True\n",
    "if FULL_FINETUNING: # Fine Tuning\n",
    "    param_optimizer = list(model.named_parameters())\n",
    "    no_decay = ['bias', 'gamma', 'beta']\n",
    "    optimizer_grouped_parameters = [\n",
    "        {'params': [p for n, p in param_optimizer if not any(nd in n for nd in no_decay)], # Setting Weight Decay Rate 0.01 if it isnt bias, gamma and beta\n",
    "         'weight_decay_rate': 0.01},\n",
    "        {'params': [p for n, p in param_optimizer if any(nd in n for nd in no_decay)], # If it is set to 0.0\n",
    "         'weight_decay_rate': 0.0}\n",
    "    ]\n",
    "else: # Non Fine Tuning\n",
    "    param_optimizer = list(model.classifier.named_parameters())\n",
    "    optimizer_grouped_parameters = [{\"params\": [p for n, p in param_optimizer]}]"
   ]
  },
  {
   "cell_type": "code",
   "execution_count": 116,
   "id": "81574f61",
   "metadata": {},
   "outputs": [
    {
     "data": {
      "text/plain": [
       "{'dataset': <torch.utils.data.dataset.TensorDataset at 0x7f09a0719430>,\n",
       " 'num_workers': 0,\n",
       " 'prefetch_factor': 2,\n",
       " 'pin_memory': False,\n",
       " 'timeout': 0,\n",
       " 'worker_init_fn': None,\n",
       " '_DataLoader__multiprocessing_context': None,\n",
       " '_dataset_kind': 0,\n",
       " 'batch_size': 16,\n",
       " 'drop_last': False,\n",
       " 'sampler': <torch.utils.data.sampler.RandomSampler at 0x7f09a07193d0>,\n",
       " 'batch_sampler': <torch.utils.data.sampler.BatchSampler at 0x7f09a07194c0>,\n",
       " 'generator': None,\n",
       " 'collate_fn': <function torch.utils.data._utils.collate.default_collate(batch)>,\n",
       " 'persistent_workers': False,\n",
       " '_DataLoader__initialized': True,\n",
       " '_IterableDataset_len_called': None,\n",
       " '_iterator': None}"
      ]
     },
     "execution_count": 116,
     "metadata": {},
     "output_type": "execute_result"
    }
   ],
   "source": [
    "# Optimizer\n",
    "optimizer = AdamW(\n",
    "    optimizer_grouped_parameters,\n",
    "    lr= HYPER_PARAMETERS['LEARNING_RATE'],\n",
    "    eps= HYPER_PARAMETERS['EPSILON']\n",
    ")\n",
    "# Total number of training steps is number of batches * number of epochs.\n",
    "total_steps = len(train_dataloader) * HYPER_PARAMETERS['EPOCHS']\n",
    "\n",
    "# Create the learning rate scheduler.\n",
    "scheduler = get_linear_schedule_with_warmup(\n",
    "    optimizer,\n",
    "    num_warmup_steps=0,\n",
    "    num_training_steps=total_steps\n",
    ")\n",
    "vars(train_dataloader)"
   ]
  },
  {
   "cell_type": "markdown",
   "id": "10e6d91f",
   "metadata": {},
   "source": [
    "### Training and Validation"
   ]
  },
  {
   "cell_type": "code",
   "execution_count": 120,
   "id": "51508621",
   "metadata": {},
   "outputs": [
    {
     "name": "stderr",
     "output_type": "stream",
     "text": [
      "\r",
      "Epoch \n",
      ":   0%|                                                  | 0/3 [00:00<?, ?it/s]"
     ]
    },
    {
     "name": "stdout",
     "output_type": "stream",
     "text": [
      "\n",
      "\n",
      "Epoch #1\n",
      "Average Train Loss For Epoch 1: 0.16465412939841423\n",
      "Average Val Loss For Epoch 1: 0.17344203856536897\n",
      "Validation Accuracy: 75.61560841006568%\n",
      "Validation F-1 Score:0.6481081795357441\n",
      "Epoch #1 Duration:65.24586606025696\n",
      "--------------------\n"
     ]
    },
    {
     "name": "stderr",
     "output_type": "stream",
     "text": [
      "/home/umar.salman/G42/nlp2sqlEnv/lib/python3.8/site-packages/seqeval/metrics/sequence_labeling.py:171: UserWarning:\n",
      "\n",
      "PAD seems not to be NE tag.\n",
      "\n",
      "Epoch \n",
      ":  33%|██████████████                            | 1/3 [01:08<02:16, 68.25s/it]"
     ]
    },
    {
     "name": "stdout",
     "output_type": "stream",
     "text": [
      "\n",
      "\n",
      "Epoch #2\n",
      "Average Train Loss For Epoch 2: 0.12865304011387982\n",
      "Average Val Loss For Epoch 2: 0.17527340832403152\n",
      "Validation Accuracy: 76.26645871449567%\n",
      "Validation F-1 Score:0.661654796447727\n",
      "Epoch #2 Duration:66.43817377090454\n",
      "--------------------\n"
     ]
    },
    {
     "name": "stderr",
     "output_type": "stream",
     "text": [
      "\r",
      "Epoch \n",
      ":  67%|████████████████████████████              | 2/3 [02:17<01:08, 68.95s/it]"
     ]
    },
    {
     "name": "stdout",
     "output_type": "stream",
     "text": [
      "\n",
      "\n",
      "Epoch #3\n",
      "Average Train Loss For Epoch 3: 0.1157877110754666\n",
      "Average Val Loss For Epoch 3: 0.17527340832403152\n",
      "Validation Accuracy: 76.26645871449567%\n",
      "Validation F-1 Score:0.661654796447727\n",
      "Epoch #3 Duration:66.83220219612122\n",
      "--------------------\n"
     ]
    },
    {
     "name": "stderr",
     "output_type": "stream",
     "text": [
      "Epoch \n",
      "Epoch |██████████████████████████████████████████| 3/3 [03:27<00:00, 69.36s/it]\n",
      ": 100%|██████████████████████████████████████████| 3/3 [03:27<00:00, 69.18s/it]\n"
     ]
    }
   ],
   "source": [
    "loss_values, validation_loss_values = [], []\n",
    "E = 1\n",
    "for _ in trange(HYPER_PARAMETERS['EPOCHS'], desc= \"Epoch \\n\"):\n",
    "    print('\\n')\n",
    "    print('Epoch #{}'.format(E))\n",
    "  \n",
    "    start = time.time()\n",
    "\n",
    "    model.train()\n",
    "    total_loss=0 # Reset at each Epoch\n",
    "    \n",
    "    ###################### TRAINING\n",
    "    for step, batch in enumerate(train_dataloader):\n",
    "        batch = tuple(t.to(device) for t in batch)\n",
    "        b_input_ids, b_input_mask, b_labels = batch # Mantained the order for both train_data/val_data\n",
    "        \n",
    "        model.zero_grad() # Clearing previous gradients for each epoch\n",
    "        \n",
    "        outputs = model(b_input_ids, token_type_ids=None,\n",
    "                       attention_mask=b_input_mask, labels=b_labels) # Forward pass\n",
    "        \n",
    "        loss = outputs[0]\n",
    "        loss.backward() # Getting the loss and performing backward pass\n",
    "        \n",
    "        total_loss += loss.item() # Tracking loss\n",
    "        \n",
    "        # Preventing exploding grads\n",
    "        torch.nn.utils.clip_grad_norm_(parameters=model.parameters(), max_norm=HYPER_PARAMETERS['MAX_GRAD_NORM'])\n",
    "        \n",
    "        optimizer.step() # Updates parameters\n",
    "        scheduler.step() # Update learning_rate\n",
    "        \n",
    "    avg_train_loss = total_loss/len(train_dataloader) \n",
    "    print('Average Train Loss For Epoch {}: {}'.format(E, avg_train_loss))\n",
    "    \n",
    "    loss_values.append(avg_train_loss) # Storing loss values to plot learning curve\n",
    "    \n",
    "    ###################### VALIDATION\n",
    "    model.eval()\n",
    "    \n",
    "    eval_loss = 0\n",
    "    predictions, true_labels = [], []\n",
    "    \n",
    "    for batch in valid_dataloader:\n",
    "        batch = tuple(t.to(device)for t in batch)\n",
    "        b_input_ids, b_input_mask, b_labels = batch\n",
    "        \n",
    "        with torch.no_grad(): # No backprop\n",
    "            outputs = model(b_input_ids, token_type_ids =None,\n",
    "                           attention_mask=b_input_mask, labels=b_labels)\n",
    "            \n",
    "        logits = outputs[1].detach().cpu().numpy() # Getting Probabilities for Prediction Classes\n",
    "        label_ids = b_labels.to('cpu').numpy() # Golden Labels\n",
    "        \n",
    "        loss = outputs[0]\n",
    "        eval_loss += loss.item()\n",
    "\n",
    "        predictions.extend([list(p) for p in np.argmax(logits, axis=2)]) # Taking Max among Prediction Classes\n",
    "        true_labels.extend(label_ids)\n",
    "\n",
    "    avg_eval_loss = eval_loss / len(valid_dataloader)\n",
    "    print('Average Val Loss For Epoch {}: {}'.format(E, avg_eval_loss))\n",
    "\n",
    "    validation_loss_values.append(avg_eval_loss)\n",
    "    \n",
    "    pred_tags = [tag_values[p_i] for p, l in zip(predictions, true_labels)\n",
    "                for p_i, l_i, in zip(p,l)if tag_values[l_i] !='PAD']\n",
    "    \n",
    "    valid_tags = [tag_values[l_i]for l in true_labels\n",
    "                 for l_i in l if tag_values[l_i] !='PAD']\n",
    "    \n",
    "    print('Validation Accuracy: {}%'.format(accuracy_score(pred_tags,valid_tags)*100))\n",
    "    print('Validation F-1 Score:{}'.format(f1_score([pred_tags], [valid_tags])))\n",
    "\n",
    "    stop = time.time()\n",
    "    print('Epoch #{} Duration:{}'.format(E, stop-start))\n",
    "    E+=1\n",
    "    print('-'*20)\n",
    "    time.sleep(3)"
   ]
  },
  {
   "cell_type": "code",
   "execution_count": null,
   "id": "a3e16f3a",
   "metadata": {},
   "outputs": [],
   "source": []
  },
  {
   "cell_type": "code",
   "execution_count": null,
   "id": "e241333c",
   "metadata": {},
   "outputs": [],
   "source": []
  }
 ],
 "metadata": {
  "kernelspec": {
   "display_name": "Python 3 (ipykernel)",
   "language": "python",
   "name": "python3"
  },
  "language_info": {
   "codemirror_mode": {
    "name": "ipython",
    "version": 3
   },
   "file_extension": ".py",
   "mimetype": "text/x-python",
   "name": "python",
   "nbconvert_exporter": "python",
   "pygments_lexer": "ipython3",
   "version": "3.8.12"
  }
 },
 "nbformat": 4,
 "nbformat_minor": 5
}
